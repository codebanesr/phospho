{
 "cells": [
  {
   "cell_type": "markdown",
   "metadata": {},
   "source": [
    "# Launch analytics pipeline on tasks without flag\n",
    "\n",
    "In .env\n",
    "\n",
    "```\n",
    "EXTRACTOR_SECRET_KEY=\n",
    "EXTRACTOR_URL=\n",
    "MONGODB_URL=\n",
    "```\n",
    "\n",
    "Later on, in ORGS_TO_PROCESS, put an org id in it. "
   ]
  },
  {
   "cell_type": "code",
   "execution_count": 1,
   "metadata": {},
   "outputs": [
    {
     "data": {
      "text/plain": [
       "True"
      ]
     },
     "execution_count": 1,
     "metadata": {},
     "output_type": "execute_result"
    }
   ],
   "source": [
    "# Set current working dir\n",
    "import os\n",
    "from dotenv import load_dotenv\n",
    "\n",
    "# Path with .env\n",
    "os.chdir(\"/Users/nicolasoulianov/phospho/phospho/backend/scripts\")\n",
    "\n",
    "load_dotenv()"
   ]
  },
  {
   "cell_type": "code",
   "execution_count": 2,
   "metadata": {},
   "outputs": [],
   "source": [
    "import pymongo\n",
    "\n",
    "# Initialize pymongo client\n",
    "client = pymongo.MongoClient(os.getenv('MONGODB_URL'))\n",
    "db = client[os.getenv('MONGODB_NAME')]"
   ]
  },
  {
   "cell_type": "code",
   "execution_count": 3,
   "metadata": {},
   "outputs": [
    {
     "data": {
      "text/plain": [
       "'production'"
      ]
     },
     "execution_count": 3,
     "metadata": {},
     "output_type": "execute_result"
    }
   ],
   "source": [
    "db.name"
   ]
  },
  {
   "cell_type": "code",
   "execution_count": 9,
   "metadata": {},
   "outputs": [],
   "source": [
    "import datetime \n",
    "\n",
    "# Get current date\n",
    "date = datetime.datetime.now()\n",
    "\n",
    "# Get the timestamps from 2 weeks ago\n",
    "\n",
    "two_weeks_ago = date - datetime.timedelta(weeks=2)\n",
    "two_weeks_ago_timestamp = int(two_weeks_ago.timestamp())"
   ]
  },
  {
   "cell_type": "code",
   "execution_count": 10,
   "metadata": {},
   "outputs": [
    {
     "data": {
      "text/plain": [
       "1708649499"
      ]
     },
     "execution_count": 10,
     "metadata": {},
     "output_type": "execute_result"
    }
   ],
   "source": [
    "two_weeks_ago_timestamp"
   ]
  },
  {
   "cell_type": "code",
   "execution_count": 14,
   "metadata": {},
   "outputs": [],
   "source": [
    "ORGS_TO_PROCESS = [\n",
    "    \"put an org id here\"\n",
    "]"
   ]
  },
  {
   "cell_type": "code",
   "execution_count": 18,
   "metadata": {},
   "outputs": [],
   "source": [
    "# Fetch all tasks that don't have a flag set or where flag is None\n",
    "tasks = list(\n",
    "    db.tasks.find(\n",
    "        {\n",
    "            \"$and\": [\n",
    "                {\"$or\": [{\"flag\": {\"$exists\": False}}, {\"flag\": None}]},\n",
    "                {\"created_at\": {\"$gte\": two_weeks_ago_timestamp}},\n",
    "                {\"org_id\": {\"$in\": ORGS_TO_PROCESS}}\n",
    "            ]\n",
    "        }\n",
    "    )\n",
    ")"
   ]
  },
  {
   "cell_type": "code",
   "execution_count": 19,
   "metadata": {},
   "outputs": [
    {
     "data": {
      "text/plain": [
       "0"
      ]
     },
     "execution_count": 19,
     "metadata": {},
     "output_type": "execute_result"
    }
   ],
   "source": [
    "len(tasks)"
   ]
  },
  {
   "cell_type": "code",
   "execution_count": 17,
   "metadata": {},
   "outputs": [
    {
     "name": "stderr",
     "output_type": "stream",
     "text": [
      "100%|██████████| 769/769 [05:13<00:00,  2.45it/s]\n"
     ]
    }
   ],
   "source": [
    "import requests\n",
    "from tqdm import tqdm\n",
    "\n",
    "# Call the extractor API on every task\n",
    "for task in tqdm(tasks):\n",
    "    if \"_id\" in task:\n",
    "        task.pop(\"_id\")\n",
    "    response = requests.post(\n",
    "        f\"{os.getenv('EXTRACTOR_URL')}/v1/pipelines/main\",\n",
    "        json={\"task\": task},\n",
    "        headers={\n",
    "            \"Content-Type\": \"application/json\",\n",
    "            \"Authorization\": f\"Bearer {os.getenv('EXTRACTOR_SECRET_KEY')}\",\n",
    "        },\n",
    "    )"
   ]
  }
 ],
 "metadata": {
  "kernelspec": {
   "display_name": "phospho-env-min",
   "language": "python",
   "name": "python3"
  },
  "language_info": {
   "codemirror_mode": {
    "name": "ipython",
    "version": 3
   },
   "file_extension": ".py",
   "mimetype": "text/x-python",
   "name": "python",
   "nbconvert_exporter": "python",
   "pygments_lexer": "ipython3",
   "version": "3.11.7"
  }
 },
 "nbformat": 4,
 "nbformat_minor": 2
}
