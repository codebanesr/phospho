{
 "cells": [
  {
   "cell_type": "markdown",
   "metadata": {},
   "source": [
    "# Delete duplicates events\n",
    "\n",
    "In .env\n",
    "\n",
    "```\n",
    "EXTRACTOR_SECRET_KEY=\n",
    "EXTRACTOR_URL=\n",
    "MONGODB_URL=\n",
    "```\n",
    "\n",
    "Later on, in ORGS_TO_PROCESS, put an org id in it. "
   ]
  },
  {
   "cell_type": "code",
   "execution_count": 1,
   "metadata": {},
   "outputs": [
    {
     "data": {
      "text/plain": [
       "True"
      ]
     },
     "execution_count": 1,
     "metadata": {},
     "output_type": "execute_result"
    }
   ],
   "source": [
    "# Set current working dir\n",
    "import os\n",
    "from dotenv import load_dotenv\n",
    "\n",
    "# Path with .env\n",
    "os.chdir(\"/Users/nicolasoulianov/phospho/phospho/backend/scripts\")\n",
    "\n",
    "load_dotenv()"
   ]
  },
  {
   "cell_type": "code",
   "execution_count": 3,
   "metadata": {},
   "outputs": [],
   "source": [
    "import pymongo\n",
    "\n",
    "# Initialize pymongo client\n",
    "client = pymongo.MongoClient(os.getenv('MONGODB_URL'))\n",
    "db = client[os.getenv('MONGODB_NAME')]"
   ]
  },
  {
   "cell_type": "code",
   "execution_count": 6,
   "metadata": {},
   "outputs": [
    {
     "data": {
      "text/plain": [
       "'production'"
      ]
     },
     "execution_count": 6,
     "metadata": {},
     "output_type": "execute_result"
    }
   ],
   "source": [
    "db.name"
   ]
  },
  {
   "cell_type": "code",
   "execution_count": 25,
   "metadata": {},
   "outputs": [],
   "source": [
    "ORGS_TO_PROCESS = [\n",
    "#  \"select an org\"    \n",
    "]"
   ]
  },
  {
   "cell_type": "code",
   "execution_count": 158,
   "metadata": {},
   "outputs": [],
   "source": [
    "import datetime \n",
    "\n",
    "# Get end date\n",
    "end_date = datetime.datetime.now() \n",
    "# end_date = datetime.datetime.now() - datetime.timedelta(weeks=1)\n",
    "\n",
    "end_date_ts = int(end_date.timestamp())\n",
    "\n",
    "# Get the start date\n",
    "start_date = end_date - datetime.timedelta(days=10)#datetime.timedelta(weeks=1)\n",
    "start_date_ts = int(start_date.timestamp())"
   ]
  },
  {
   "cell_type": "code",
   "execution_count": 159,
   "metadata": {},
   "outputs": [
    {
     "data": {
      "text/plain": [
       "116559"
      ]
     },
     "execution_count": 159,
     "metadata": {},
     "output_type": "execute_result"
    }
   ],
   "source": [
    "# count nb events\n",
    "db[\"events\"].count_documents({})"
   ]
  },
  {
   "cell_type": "code",
   "execution_count": 160,
   "metadata": {},
   "outputs": [
    {
     "data": {
      "text/plain": [
       "1488"
      ]
     },
     "execution_count": 160,
     "metadata": {},
     "output_type": "execute_result"
    }
   ],
   "source": [
    "# Fetch duplicate events id\n",
    "duplicated_events = list(\n",
    "    db[\"events\"].aggregate(\n",
    "        [\n",
    "            {\n",
    "                \"$match\": {\n",
    "                    # \"org_id\": {\"$in\": ORGS_TO_PROCESS},\n",
    "                    \"created_at\": {\"$gte\": start_date_ts, \"$lte\": end_date_ts},\n",
    "                }\n",
    "            },\n",
    "            {\n",
    "                # from earliest to latest\n",
    "                \"$sort\": {\"created_at\":  1}\n",
    "            },\n",
    "            {\n",
    "                \"$group\": {\n",
    "                    \"_id\": {\"task_id\": \"$task_id\", \"event_name\": \"$event_name\"},\n",
    "                    \"dups\": {\"$push\": \"$_id\"},\n",
    "                    \"count\": {\"$sum\": 1},\n",
    "                },\n",
    "            },\n",
    "            {\"$match\": {\"count\": {\"$gt\": 1}}},\n",
    "        ],\n",
    "    )\n",
    ")\n",
    "\n",
    "len(duplicated_events)"
   ]
  },
  {
   "cell_type": "code",
   "execution_count": 161,
   "metadata": {},
   "outputs": [
    {
     "data": {
      "text/plain": [
       "14803"
      ]
     },
     "execution_count": 161,
     "metadata": {},
     "output_type": "execute_result"
    }
   ],
   "source": [
    "sum(len(k[\"dups\"]) for k in duplicated_events)"
   ]
  },
  {
   "cell_type": "code",
   "execution_count": 162,
   "metadata": {},
   "outputs": [
    {
     "name": "stderr",
     "output_type": "stream",
     "text": [
      "100%|██████████| 1488/1488 [00:00<00:00, 1307589.43it/s]\n"
     ]
    },
    {
     "name": "stdout",
     "output_type": "stream",
     "text": [
      "Deleting 13315 events\n"
     ]
    },
    {
     "data": {
      "text/plain": [
       "DeleteResult({'n': 13315, 'ok': 1.0, '$clusterTime': {'clusterTime': Timestamp(1710192546, 3615), 'signature': {'hash': b'x\\xd9\\xdb\\xb8B\\xdcC\\x99\\xc8\\xb6\\x8f\\xfdDM\\x95\\x87\\xab\\xaa\\x13\\xc2', 'keyId': 7314743902576050178}}, 'operationTime': Timestamp(1710192546, 3611)}, acknowledged=True)"
      ]
     },
     "execution_count": 162,
     "metadata": {},
     "output_type": "execute_result"
    }
   ],
   "source": [
    "from tqdm import tqdm\n",
    "\n",
    "# Drop duplicated events based on _id\n",
    "events_to_delete = []\n",
    "for duplicated_event in tqdm(duplicated_events):\n",
    "    # Get the first event\n",
    "    first_event = duplicated_event[\"dups\"][0]\n",
    "    # Get the rest of the events\n",
    "    rest_of_events = duplicated_event[\"dups\"][1:]\n",
    "\n",
    "    if len(rest_of_events) == 0:\n",
    "        continue\n",
    "\n",
    "    events_to_delete.extend(rest_of_events)\n",
    "\n",
    "# Delete the rest of the events\n",
    "# print(f\"Deleting {len(rest_of_events)} events\")\n",
    "print(f\"Deleting {len(events_to_delete)} events\")\n",
    "\n",
    "db[\"events\"].delete_many({\"_id\": {\"$in\": events_to_delete}})"
   ]
  },
  {
   "cell_type": "code",
   "execution_count": null,
   "metadata": {},
   "outputs": [],
   "source": []
  }
 ],
 "metadata": {
  "kernelspec": {
   "display_name": "phospho-env-min",
   "language": "python",
   "name": "python3"
  },
  "language_info": {
   "codemirror_mode": {
    "name": "ipython",
    "version": 3
   },
   "file_extension": ".py",
   "mimetype": "text/x-python",
   "name": "python",
   "nbconvert_exporter": "python",
   "pygments_lexer": "ipython3",
   "version": "3.11.7"
  }
 },
 "nbformat": 4,
 "nbformat_minor": 2
}
