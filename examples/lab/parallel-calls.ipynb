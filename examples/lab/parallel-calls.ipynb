{
 "cells": [
  {
   "cell_type": "markdown",
   "metadata": {},
   "source": [
    "# Run parallel calls to OpenAI with rate limit"
   ]
  },
  {
   "cell_type": "code",
   "execution_count": 1,
   "metadata": {},
   "outputs": [],
   "source": [
    "import pandas as pd\n",
    "\n",
    "df = pd.read_csv('data/Magazine_Subscriptions_5.csv')"
   ]
  },
  {
   "cell_type": "code",
   "execution_count": 2,
   "metadata": {},
   "outputs": [
    {
     "data": {
      "text/html": [
       "<div>\n",
       "<style scoped>\n",
       "    .dataframe tbody tr th:only-of-type {\n",
       "        vertical-align: middle;\n",
       "    }\n",
       "\n",
       "    .dataframe tbody tr th {\n",
       "        vertical-align: top;\n",
       "    }\n",
       "\n",
       "    .dataframe thead th {\n",
       "        text-align: right;\n",
       "    }\n",
       "</style>\n",
       "<table border=\"1\" class=\"dataframe\">\n",
       "  <thead>\n",
       "    <tr style=\"text-align: right;\">\n",
       "      <th></th>\n",
       "      <th>overall</th>\n",
       "      <th>verified</th>\n",
       "      <th>reviewTime</th>\n",
       "      <th>reviewerID</th>\n",
       "      <th>asin</th>\n",
       "      <th>reviewerName</th>\n",
       "      <th>reviewText</th>\n",
       "      <th>summary</th>\n",
       "      <th>unixReviewTime</th>\n",
       "      <th>vote</th>\n",
       "      <th>style</th>\n",
       "      <th>image</th>\n",
       "    </tr>\n",
       "  </thead>\n",
       "  <tbody>\n",
       "    <tr>\n",
       "      <th>0</th>\n",
       "      <td>4</td>\n",
       "      <td>True</td>\n",
       "      <td>02 26, 2014</td>\n",
       "      <td>A5QQOOZJOVPSF</td>\n",
       "      <td>B00005N7P0</td>\n",
       "      <td>John L. Mehlmauer</td>\n",
       "      <td>I'm old, and so is my computer.  Any advice th...</td>\n",
       "      <td>Cheapskates guide</td>\n",
       "      <td>1393372800</td>\n",
       "      <td>NaN</td>\n",
       "      <td>NaN</td>\n",
       "      <td>NaN</td>\n",
       "    </tr>\n",
       "  </tbody>\n",
       "</table>\n",
       "</div>"
      ],
      "text/plain": [
       "   overall  verified   reviewTime     reviewerID        asin  \\\n",
       "0        4      True  02 26, 2014  A5QQOOZJOVPSF  B00005N7P0   \n",
       "\n",
       "        reviewerName                                         reviewText  \\\n",
       "0  John L. Mehlmauer  I'm old, and so is my computer.  Any advice th...   \n",
       "\n",
       "             summary  unixReviewTime  vote style image  \n",
       "0  Cheapskates guide      1393372800   NaN   NaN   NaN  "
      ]
     },
     "execution_count": 2,
     "metadata": {},
     "output_type": "execute_result"
    }
   ],
   "source": [
    "df.head(1)"
   ]
  },
  {
   "cell_type": "code",
   "execution_count": 3,
   "metadata": {},
   "outputs": [
    {
     "data": {
      "text/plain": [
       "[Message(id='0', created_at=1393372800, role=None, content=\"I'm old, and so is my computer.  Any advice that can help me maximize my computer perfomance is very welcome.  MaximumPC has some good tips on computer parts, vendors, and usefull tests\", previous_messages=[], metadata={}),\n",
       " Message(id='1', created_at=1078531200, role=None, content=\"There's nothing to say, but if you want a REAL men's magazine, this is it. They have great articles and stories, and I love the bits of knowledge that starts the Know & Tell section, and I love the last page, which has an interview with a celebrity. Just get this magazine and forget all the other mature men's mags.\", previous_messages=[], metadata={}),\n",
       " Message(id='2', created_at=1058227200, role=None, content=\"If you're the kind of man who looks at himself in a full length mirrror every morning, this is the magazine for you.\\nIf you think the car you drive defines you, the clothes you wear are the measure of your self-worth, the watch on your wrist tells the value of you as a person, and the woman you're seen with is a measure of your rank in society- you need this magazine.\\nOther men- who might value human relationships- may profitably give it a pass.\", previous_messages=[], metadata={}),\n",
       " Message(id='3', created_at=1422662400, role=None, content='Nothing to it.  Just an advertisement.  Little article content.', previous_messages=[], metadata={})]"
      ]
     },
     "execution_count": 3,
     "metadata": {},
     "output_type": "execute_result"
    }
   ],
   "source": [
    "from phospho import lab\n",
    "\n",
    "# Convert every valid row of the df into a lab.Message\n",
    "messages = lab.Message.from_df(df, content=\"reviewText\", created_at=\"unixReviewTime\")\n",
    "messages[:4]"
   ]
  },
  {
   "cell_type": "code",
   "execution_count": 4,
   "metadata": {},
   "outputs": [
    {
     "data": {
      "text/plain": [
       "JobResult(value=['computer performance', 'advice', 'MaximumPC', 'computer parts', 'vendors', 'useful tests'], result_type=<ResultType.list: 'list'>, logs=[], metadata={}, created_at=1710790553, job_id=None)"
      ]
     },
     "execution_count": 4,
     "metadata": {},
     "output_type": "execute_result"
    }
   ],
   "source": [
    "from dotenv import load_dotenv\n",
    "import re\n",
    "\n",
    "load_dotenv()\n",
    "\n",
    "\n",
    "\n",
    "async def get_keywords(\n",
    "    message: lab.Message,\n",
    "    model: str=\"openai:gpt-3.5-turbo\",\n",
    "):\n",
    "    \"\"\"\n",
    "    This function uses GPT-3 to extract keywords from a given message.\n",
    "    \"\"\"\n",
    "    provider, model_name = lab.get_provider_and_model(model)\n",
    "    openai_client = lab.get_async_client(provider)\n",
    "\n",
    "    # Label every message with keywords it contains\n",
    "    prompt = f\"\"\"You are an annotator reading Amazon product reviews. Your job is to label\n",
    "    each review with keywords that describe the main topics covered in the review.\n",
    "    The review is: \n",
    "    {message.content}\n",
    "\n",
    "    Return a list of max 10 keywords as a bullet point list: `- keyword1\\n- keyword2\\n- keyword3`\n",
    "    Keywords:\"\"\"\n",
    "\n",
    "    response = await openai_client.chat.completions.create(\n",
    "        model=\"gpt-3.5-turbo\",\n",
    "        messages=[\n",
    "            {\n",
    "                \"role\": \"system\",\n",
    "                \"content\": \"You are a business analyst, expert in e-commerce.\",\n",
    "            },\n",
    "            {\"role\": \"user\", \"content\": prompt},\n",
    "        ],\n",
    "    )\n",
    "\n",
    "    response = response.choices[0].message.content\n",
    "    # Parse the response to extract the keywords with regex\n",
    "    keywords = re.findall(r\"- (.*)\", response)\n",
    "    return lab.JobResult(\n",
    "        value=keywords,\n",
    "        result_type=lab.ResultType.list,\n",
    "    )\n",
    "\n",
    "\n",
    "# Try the function one a single message\n",
    "await get_keywords(messages[0])"
   ]
  },
  {
   "cell_type": "code",
   "execution_count": 6,
   "metadata": {},
   "outputs": [
    {
     "name": "stderr",
     "output_type": "stream",
     "text": [
      "No job_config provided. Running with empty config\n",
      "100%|██████████| 100/100 [00:08<00:00, 11.35it/s]\n"
     ]
    },
    {
     "data": {
      "text/plain": [
       "{'0': {'get_keywords': JobResult(value=['computer performance', 'advice', 'MaximumPC', 'computer parts', 'vendors', 'useful tests'], result_type=<ResultType.list: 'list'>, logs=[], metadata={}, created_at=1710790564, job_id='get_keywords')},\n",
       " '1': {'get_keywords': JobResult(value=[\"men's magazine\", 'articles', 'stories', 'Know & Tell', 'celebrity interview', \"mature men's mags\"], result_type=<ResultType.list: 'list'>, logs=[], metadata={}, created_at=1710790564, job_id='get_keywords')},\n",
       " '2': {'get_keywords': JobResult(value=['self-image', 'materialism', 'status symbols', 'relationships', 'magazine subscription'], result_type=<ResultType.list: 'list'>, logs=[], metadata={}, created_at=1710790564, job_id='get_keywords')},\n",
       " '3': {'get_keywords': JobResult(value=['advertisement', 'little content'], result_type=<ResultType.list: 'list'>, logs=[], metadata={}, created_at=1710790564, job_id='get_keywords')},\n",
       " '4': {'get_keywords': JobResult(value=['magazine content', 'computer technology', 'sections', 'white paper', 'doctor', 'features', 'news', 'reviews', 'rating system', 'coverage of computer field'], result_type=<ResultType.list: 'list'>, logs=[], metadata={}, created_at=1710790564, job_id='get_keywords')},\n",
       " '5': {'get_keywords': JobResult(value=['Magazine content', 'In-depth', 'Informative', 'Lifestyle focus', 'Short articles', 'Younger male', 'Metrosexual', 'Affordable price', 'Investment', 'Monthly interest'], result_type=<ResultType.list: 'list'>, logs=[], metadata={}, created_at=1710790564, job_id='get_keywords')},\n",
       " '6': {'get_keywords': JobResult(value=['PC Magazine', 'upgrades', 'hardware info', 'tips', 'tricks', 'price', 'best', 'great', 'information', 'reviews'], result_type=<ResultType.list: 'list'>, logs=[], metadata={}, created_at=1710790564, job_id='get_keywords')},\n",
       " '7': {'get_keywords': JobResult(value=['Details Magazine', \"Men's lifestyle\", 'Magazine content diversity', 'Writing style', 'Eye-catching headlines', 'Language and explicit content', 'Offensiveness', 'Advertisements', 'Fashion focus', 'Overall rating'], result_type=<ResultType.list: 'list'>, logs=[], metadata={}, created_at=1710790564, job_id='get_keywords')},\n",
       " '8': {'get_keywords': JobResult(value=['Electronics magazine', 'Product reviews', 'Instructional articles', 'Technical content', 'Question and answer sessions', 'Electronics enthusiasts', 'Technology learning', 'New products', 'Maximum PC', 'Quality vs quantity'], result_type=<ResultType.list: 'list'>, logs=[], metadata={}, created_at=1710790564, job_id='get_keywords')},\n",
       " '9': {'get_keywords': JobResult(value=['Maximum PC subscription', 'CD content', 'Price comparison', 'PC Gamer', 'Magazine content', 'Head 2 Head feature', 'Independent magazine', 'PC Magazine recommendation'], result_type=<ResultType.list: 'list'>, logs=[], metadata={}, created_at=1710790564, job_id='get_keywords')},\n",
       " '10': {'get_keywords': JobResult(value=['glamour magazine', 'articles', 'clothes', 'beautiful', 'love', 'reading', '25 years', 'good', 'fashion', 'longevity'], result_type=<ResultType.list: 'list'>, logs=[], metadata={}, created_at=1710790565, job_id='get_keywords')},\n",
       " '11': {'get_keywords': JobResult(value=['Magazine review', 'Pricing', 'Advertising', 'Content quality', 'D&eacute;cor ideas', 'Recipes', 'Fall theme', 'Home and garden', 'Remodeling', 'Soup recipes'], result_type=<ResultType.list: 'list'>, logs=[], metadata={}, created_at=1710790565, job_id='get_keywords')},\n",
       " '12': {'get_keywords': JobResult(value=['magazine subscriptions', 'Better Homes and Garden', 'Country Living', 'House & Garden', 'articles', 'gardening hints', 'recipes', 'cost-effective', 'recommendations', 'happy reading'], result_type=<ResultType.list: 'list'>, logs=[], metadata={}, created_at=1710790565, job_id='get_keywords')},\n",
       " '13': {'get_keywords': JobResult(value=['decorating projects', 'interior design', 'gardening', 'building', 'family matters', 'health', 'shopping', 'Yours for the Asking section', 'kids projects', 'cartoons'], result_type=<ResultType.list: 'list'>, logs=[], metadata={}, created_at=1710790565, job_id='get_keywords')},\n",
       " '14': {'get_keywords': JobResult(value=['gym articles', 'health information', 'workout routines', \"men's perspective\", 'entertaining', 'learning', \"men's psychology\", 'magazine personality', 'fitness', 'self-improvement'], result_type=<ResultType.list: 'list'>, logs=[], metadata={}, created_at=1710790565, job_id='get_keywords')},\n",
       " '15': {'get_keywords': JobResult(value=['magazine', 'ads', 'sale', 'content', 'proportion'], result_type=<ResultType.list: 'list'>, logs=[], metadata={}, created_at=1710790564, job_id='get_keywords')},\n",
       " '16': {'get_keywords': JobResult(value=['love', 'magazine'], result_type=<ResultType.list: 'list'>, logs=[], metadata={}, created_at=1710790564, job_id='get_keywords')},\n",
       " '17': {'get_keywords': JobResult(value=['Fun'], result_type=<ResultType.list: 'list'>, logs=[], metadata={}, created_at=1710790565, job_id='get_keywords')},\n",
       " '18': {'get_keywords': JobResult(value=['great articles', 'photos', 'inspiring', 'variations', 'workouts', 'nice'], result_type=<ResultType.list: 'list'>, logs=[], metadata={}, created_at=1710790565, job_id='get_keywords')},\n",
       " '19': {'get_keywords': JobResult(value=['men', 'masculinity ', 'male products ', 'gender-specific items ', 'gifts for men'], result_type=<ResultType.list: 'list'>, logs=[], metadata={}, created_at=1710790565, job_id='get_keywords')},\n",
       " '20': {'get_keywords': JobResult(value=['magazine', 'good info', 'repetitive', 'reminders', 'husband', 'love'], result_type=<ResultType.list: 'list'>, logs=[], metadata={}, created_at=1710790566, job_id='get_keywords')},\n",
       " '21': {'get_keywords': JobResult(value=['magazine', 'not received', 'change of address', 'issue', 'delivery', 'moving', 'subscription', 'customer service'], result_type=<ResultType.list: 'list'>, logs=[], metadata={}, created_at=1710790565, job_id='get_keywords')},\n",
       " '22': {'get_keywords': JobResult(value=['Glamour magazine', 'best', 'up-to-date information', 'well-written articles', 'great photos', 'market', 'today', 'mags', 'articles', 'photos'], result_type=<ResultType.list: 'list'>, logs=[], metadata={}, created_at=1710790566, job_id='get_keywords')},\n",
       " '23': {'get_keywords': JobResult(value=['excellent conditions', 'well packed', 'new', 'no defect', 'as expected'], result_type=<ResultType.list: 'list'>, logs=[], metadata={}, created_at=1710790565, job_id='get_keywords')},\n",
       " '24': {'get_keywords': JobResult(value=['gift', 'purchase', 'present', 'bought', 'recipient', 'item', 'giving', 'occasion'], result_type=<ResultType.list: 'list'>, logs=[], metadata={}, created_at=1710790565, job_id='get_keywords')},\n",
       " '25': {'get_keywords': JobResult(value=['sweetheart', 'loves', 'magazine'], result_type=<ResultType.list: 'list'>, logs=[], metadata={}, created_at=1710790565, job_id='get_keywords')},\n",
       " '26': {'get_keywords': JobResult(value=['grandchildren', 'read', 'talk ', \"children's book\"], result_type=<ResultType.list: 'list'>, logs=[], metadata={}, created_at=1710790565, job_id='get_keywords')},\n",
       " '27': {'get_keywords': JobResult(value=['great deal', 'office'], result_type=<ResultType.list: 'list'>, logs=[], metadata={}, created_at=1710790566, job_id='get_keywords')},\n",
       " '28': {'get_keywords': JobResult(value=['Great gift', 'Science lover', 'Variety of articles', 'Pictures', 'New technology', 'Ever-changing'], result_type=<ResultType.list: 'list'>, logs=[], metadata={}, created_at=1710790566, job_id='get_keywords')},\n",
       " '29': {'get_keywords': JobResult(value=['magazine subscription', 'Amazon deals', 'auto-subscribe', 'content for parents', 'content about kids', 'retired reader', 'reading habits', 'entertainment while watching TV'], result_type=<ResultType.list: 'list'>, logs=[], metadata={}, created_at=1710790566, job_id='get_keywords')},\n",
       " '30': {'get_keywords': JobResult(value=['living space', 'home decor', 'furniture', 'comfort', 'design', 'quality', 'usability', 'functionality', 'aesthetics', 'satisfaction'], result_type=<ResultType.list: 'list'>, logs=[], metadata={}, created_at=1710790566, job_id='get_keywords')},\n",
       " '31': {'get_keywords': JobResult(value=['ideas', 'decorating', 'recipes'], result_type=<ResultType.list: 'list'>, logs=[], metadata={}, created_at=1710790566, job_id='get_keywords')},\n",
       " '32': {'get_keywords': JobResult(value=['magazines', 'reading habits', 'content selection', 'appeal to everyone', 'great articles', 'humor', 'advice', 'enjoyment', 'Readers Digest', 'monthly reading'], result_type=<ResultType.list: 'list'>, logs=[], metadata={}, created_at=1710790566, job_id='get_keywords')},\n",
       " '33': {'get_keywords': JobResult(value=[\"Men's Health magazine\", 'Fitness', 'Subscription', 'Review', 'Relevance', 'Recommendation'], result_type=<ResultType.list: 'list'>, logs=[], metadata={}, created_at=1710790566, job_id='get_keywords')},\n",
       " '34': {'get_keywords': JobResult(value=['subscription price', 'sharing', 'magazine content', 'ideas', 'relevance to life'], result_type=<ResultType.list: 'list'>, logs=[], metadata={}, created_at=1710790566, job_id='get_keywords')},\n",
       " '35': {'get_keywords': JobResult(value=['favorite', 'magazine'], result_type=<ResultType.list: 'list'>, logs=[], metadata={}, created_at=1710790566, job_id='get_keywords')},\n",
       " '36': {'get_keywords': JobResult(value=['cheap subscription', 'easy to read layout', 'kindle fire hd'], result_type=<ResultType.list: 'list'>, logs=[], metadata={}, created_at=1710790566, job_id='get_keywords')},\n",
       " '37': {'get_keywords': JobResult(value=['magazine subscription', 'age demographic', 'fitness content', 'variety of topics', 'print and digital editions', 'health and wellness', 'reader demographics', \"comparison between men's and women's health\", 'fitness programs', 'motivation and ideas'], result_type=<ResultType.list: 'list'>, logs=[], metadata={}, created_at=1710790567, job_id='get_keywords')},\n",
       " '38': {'get_keywords': JobResult(value=['Glamour magazine', 'Fashion trends', 'Layering clothes', 'Shopping', 'Articles', 'Life lessons', 'Fashion magazine', 'Trendy fashion', 'Advertising', 'Magazine evolution'], result_type=<ResultType.list: 'list'>, logs=[], metadata={}, created_at=1710790567, job_id='get_keywords')},\n",
       " '39': {'get_keywords': JobResult(value=['excellent content', 'diversity in material'], result_type=<ResultType.list: 'list'>, logs=[], metadata={}, created_at=1710790566, job_id='get_keywords')},\n",
       " '40': {'get_keywords': JobResult(value=['happy', 'grandmother'], result_type=<ResultType.list: 'list'>, logs=[], metadata={}, created_at=1710790566, job_id='get_keywords')},\n",
       " '41': {'get_keywords': JobResult(value=['Glamour magazine', 'Careers', 'Relationships', 'Beauty', 'Fashion', 'Women in their twenties', 'Women in their thirties', 'Smart', 'Sassy', 'Entertaining'], result_type=<ResultType.list: 'list'>, logs=[], metadata={}, created_at=1710790567, job_id='get_keywords')},\n",
       " '42': {'get_keywords': JobResult(value=['fun', 'monthly subscription', 'enjoyment', 'entertainment', 'novelty', 'consistent delivery', 'regular excitement', 'variety', 'convenience', 'anticipation'], result_type=<ResultType.list: 'list'>, logs=[], metadata={}, created_at=1710790567, job_id='get_keywords')},\n",
       " '43': {'get_keywords': JobResult(value=['ads', 'promotional content'], result_type=<ResultType.list: 'list'>, logs=[], metadata={}, created_at=1710790567, job_id='get_keywords')},\n",
       " '44': {'get_keywords': JobResult(value=['subscription', 'many years', 'satisfied', 'beautiful pictures'], result_type=<ResultType.list: 'list'>, logs=[], metadata={}, created_at=1710790567, job_id='get_keywords')},\n",
       " '45': {'get_keywords': JobResult(value=['magazine', 'helpful articles', 'baking', 'cosmetics'], result_type=<ResultType.list: 'list'>, logs=[], metadata={}, created_at=1710790567, job_id='get_keywords')},\n",
       " '46': {'get_keywords': JobResult(value=['product quality', 'customer service', 'delivery time', 'pricing', 'packaging ', 'user experience', 'ease of use ', 'product performance ', 'value for money ', 'product features'], result_type=<ResultType.list: 'list'>, logs=[], metadata={}, created_at=1710790568, job_id='get_keywords')},\n",
       " '47': {'get_keywords': JobResult(value=['decorating ideas', 'great ', 'creative', 'inspiration', 'home decor', 'DIY', 'design', 'style', 'suggestions', 'tips'], result_type=<ResultType.list: 'list'>, logs=[], metadata={}, created_at=1710790568, job_id='get_keywords')},\n",
       " '48': {'get_keywords': JobResult(value=['Good price', 'Great magazine'], result_type=<ResultType.list: 'list'>, logs=[], metadata={}, created_at=1710790567, job_id='get_keywords')},\n",
       " '49': {'get_keywords': JobResult(value=['Excellent', 'Positive feedback', 'Customer satisfaction', 'Product quality', 'Service excellence'], result_type=<ResultType.list: 'list'>, logs=[], metadata={}, created_at=1710790567, job_id='get_keywords')},\n",
       " '50': {'get_keywords': JobResult(value=['Magazine', 'Tips', 'Articles', 'Guy stuff', 'Learning', 'Up to date', 'Fast paced', 'Informative'], result_type=<ResultType.list: 'list'>, logs=[], metadata={}, created_at=1710790568, job_id='get_keywords')},\n",
       " '51': {'get_keywords': JobResult(value=['magazine', 'like', 'find', 'something'], result_type=<ResultType.list: 'list'>, logs=[], metadata={}, created_at=1710790567, job_id='get_keywords')},\n",
       " '52': {'get_keywords': JobResult(value=['good value', 'money', 'paper mags'], result_type=<ResultType.list: 'list'>, logs=[], metadata={}, created_at=1710790569, job_id='get_keywords')},\n",
       " '53': {'get_keywords': JobResult(value=['magazine', 'price', 'sharing', 'family', 'enjoyment'], result_type=<ResultType.list: 'list'>, logs=[], metadata={}, created_at=1710790568, job_id='get_keywords')},\n",
       " '54': {'get_keywords': JobResult(value=['Handyman magazine', 'Wood magazine', 'Patterns', 'Tips', 'Cleaning', 'Information', 'Subscription', 'Favorite', 'Husband', 'Articles'], result_type=<ResultType.list: 'list'>, logs=[], metadata={}, created_at=1710790568, job_id='get_keywords')},\n",
       " '55': {'get_keywords': JobResult(value=['resourceful', 'helpful', 'informative'], result_type=<ResultType.list: 'list'>, logs=[], metadata={}, created_at=1710790568, job_id='get_keywords')},\n",
       " '56': {'get_keywords': JobResult(value=['magazine updates', 'style', 'projects', 'website features', 'guest writers', 'bloggers', 'recommendation', 'fashion style'], result_type=<ResultType.list: 'list'>, logs=[], metadata={}, created_at=1710790568, job_id='get_keywords')},\n",
       " '57': {'get_keywords': JobResult(value=['magazine', 'great articles', 'very nice'], result_type=<ResultType.list: 'list'>, logs=[], metadata={}, created_at=1710790568, job_id='get_keywords')},\n",
       " '58': {'get_keywords': JobResult(value=['magazine', 'product description', 'brief ', 'concise ', 'may be helpful'], result_type=<ResultType.list: 'list'>, logs=[], metadata={}, created_at=1710790568, job_id='get_keywords')},\n",
       " '59': {'get_keywords': JobResult(value=['Great Packing', 'Good Shipping time', 'As expected'], result_type=<ResultType.list: 'list'>, logs=[], metadata={}, created_at=1710790568, job_id='get_keywords')},\n",
       " '60': {'get_keywords': JobResult(value=['quickly shipped', 'loved', 'item'], result_type=<ResultType.list: 'list'>, logs=[], metadata={}, created_at=1710790568, job_id='get_keywords')},\n",
       " '61': {'get_keywords': JobResult(value=['magazine', 'home', 'garden', 'ideas', 'advertising', 'enjoyable'], result_type=<ResultType.list: 'list'>, logs=[], metadata={}, created_at=1710790568, job_id='get_keywords')},\n",
       " '62': {'get_keywords': JobResult(value=['wife', 'happy'], result_type=<ResultType.list: 'list'>, logs=[], metadata={}, created_at=1710790568, job_id='get_keywords')},\n",
       " '63': {'get_keywords': JobResult(value=['magazine', 'pictures', 'ideas', 'home decor', 'hints', 'purchase satisfaction'], result_type=<ResultType.list: 'list'>, logs=[], metadata={}, created_at=1710790569, job_id='get_keywords')},\n",
       " '64': {'get_keywords': JobResult(value=['throwaway subscription', 'gym reading', 'magazine quality', 'article timeliness', 'price', 'value for money'], result_type=<ResultType.list: 'list'>, logs=[], metadata={}, created_at=1710790569, job_id='get_keywords')},\n",
       " '65': {'get_keywords': JobResult(value=['useful tips', 'instructions', 'projects', 'ideas', 'knowledge', 'shortcuts', 'useful information'], result_type=<ResultType.list: 'list'>, logs=[], metadata={}, created_at=1710790569, job_id='get_keywords')},\n",
       " '66': {'get_keywords': JobResult(value=[\"Men's Health Magazine\", 'Content', 'Style', 'Lists', 'Advertisements', 'Practical information', 'Target audience', 'Lifestyle', 'Disappointment', 'Opinion'], result_type=<ResultType.list: 'list'>, logs=[], metadata={}, created_at=1710790569, job_id='get_keywords')},\n",
       " '67': {'get_keywords': JobResult(value=['magazine', 'good'], result_type=<ResultType.list: 'list'>, logs=[], metadata={}, created_at=1710790568, job_id='get_keywords')},\n",
       " '68': {'get_keywords': JobResult(value=['magazine subscription', 'gift idea', 'ordering process', 'easy', 'individual shipping information', 'positive feedback', 'purposeful gift', 'festive occasion', 'satisfaction'], result_type=<ResultType.list: 'list'>, logs=[], metadata={}, created_at=1710790569, job_id='get_keywords')},\n",
       " '69': {'get_keywords': JobResult(value=['Love'], result_type=<ResultType.list: 'list'>, logs=[], metadata={}, created_at=1710790569, job_id='get_keywords')},\n",
       " '70': {'get_keywords': JobResult(value=['magazine', 'advertisements', 'dislike'], result_type=<ResultType.list: 'list'>, logs=[], metadata={}, created_at=1710790569, job_id='get_keywords')},\n",
       " '71': {'get_keywords': JobResult(value=['articles', 'recipes', 'subscription', 'generations', 'reading', 'family tradition'], result_type=<ResultType.list: 'list'>, logs=[], metadata={}, created_at=1710790569, job_id='get_keywords')},\n",
       " '72': {'get_keywords': JobResult(value=['magazine', 'love'], result_type=<ResultType.list: 'list'>, logs=[], metadata={}, created_at=1710790569, job_id='get_keywords')},\n",
       " '73': {'get_keywords': JobResult(value=['magazine', 'ideas', 'planting', 'flowers', 'care', 'remodel', 'house', 'great'], result_type=<ResultType.list: 'list'>, logs=[], metadata={}, created_at=1710790569, job_id='get_keywords')},\n",
       " '74': {'get_keywords': JobResult(value=['satisfied', 'met expectations', 'perfect fit'], result_type=<ResultType.list: 'list'>, logs=[], metadata={}, created_at=1710790569, job_id='get_keywords')},\n",
       " '75': {'get_keywords': JobResult(value=[\"Men's magazine\", 'Affluent young men', 'Luxury cars', 'Health and fitness', 'Lifestyle', 'Fashion', 'Relationships', 'Humor', 'Masculinity', 'Entertainment'], result_type=<ResultType.list: 'list'>, logs=[], metadata={}, created_at=1710790570, job_id='get_keywords')},\n",
       " '76': {'get_keywords': JobResult(value=['little value', 'reception room', 'served its purpose'], result_type=<ResultType.list: 'list'>, logs=[], metadata={}, created_at=1710790570, job_id='get_keywords')},\n",
       " '77': {'get_keywords': JobResult(value=['love', 'price', 'good', 'magazine'], result_type=<ResultType.list: 'list'>, logs=[], metadata={}, created_at=1710790570, job_id='get_keywords')},\n",
       " '78': {'get_keywords': JobResult(value=['magazine', 'great', 'signed up', 'receive'], result_type=<ResultType.list: 'list'>, logs=[], metadata={}, created_at=1710790569, job_id='get_keywords')},\n",
       " '79': {'get_keywords': JobResult(value=['gift for wife', 'liked by wife', 'good articles', 'great recipes'], result_type=<ResultType.list: 'list'>, logs=[], metadata={}, created_at=1710790570, job_id='get_keywords')},\n",
       " '80': {'get_keywords': JobResult(value=['great', 'reading'], result_type=<ResultType.list: 'list'>, logs=[], metadata={}, created_at=1710790569, job_id='get_keywords')},\n",
       " '81': {'get_keywords': JobResult(value=['excellent'], result_type=<ResultType.list: 'list'>, logs=[], metadata={}, created_at=1710790571, job_id='get_keywords')},\n",
       " '82': {'get_keywords': JobResult(value=['articles', 'interesting'], result_type=<ResultType.list: 'list'>, logs=[], metadata={}, created_at=1710790570, job_id='get_keywords')},\n",
       " '83': {'get_keywords': JobResult(value=['Popular Mechanics magazine', 'Duplicates', 'Subscription manager', 'Address issue'], result_type=<ResultType.list: 'list'>, logs=[], metadata={}, created_at=1710790570, job_id='get_keywords')},\n",
       " '84': {'get_keywords': JobResult(value=['favorite'], result_type=<ResultType.list: 'list'>, logs=[], metadata={}, created_at=1710790570, job_id='get_keywords')},\n",
       " '85': {'get_keywords': JobResult(value=['magazines', 'ads', 'price'], result_type=<ResultType.list: 'list'>, logs=[], metadata={}, created_at=1710790570, job_id='get_keywords')},\n",
       " '86': {'get_keywords': JobResult(value=['print magazine', 'Kindle edition', 'magazine subscription', 'charges', 'cancellation', 'customer service', 'publisher', 'Amazon', 'subscription manager', 'difficulty'], result_type=<ResultType.list: 'list'>, logs=[], metadata={}, created_at=1710790571, job_id='get_keywords')},\n",
       " '87': {'get_keywords': JobResult(value=['Perfect'], result_type=<ResultType.list: 'list'>, logs=[], metadata={}, created_at=1710790570, job_id='get_keywords')},\n",
       " '88': {'get_keywords': JobResult(value=['Better Homes and Gardens', 'Kindle HD7', 'favorite magazine', 'raised children', 'home ideas', 'information', 'Kindle reading', 'years of subscription', 'homecare', 'thank you note'], result_type=<ResultType.list: 'list'>, logs=[], metadata={}, created_at=1710790571, job_id='get_keywords')},\n",
       " '89': {'get_keywords': JobResult(value=['Magazine', 'Husband', 'Loves', 'Looks forward', 'Monthly', 'Addition', 'Subscription'], result_type=<ResultType.list: 'list'>, logs=[], metadata={}, created_at=1710790571, job_id='get_keywords')},\n",
       " '90': {'get_keywords': JobResult(value=['BH&G (Better Homes & Gardens)', 'Gardening', 'Redecorating/renovating', 'Magazine content', 'Home decor', 'Beautiful photos', 'Content variety', 'Ads', 'Inserts', 'Wish for more content'], result_type=<ResultType.list: 'list'>, logs=[], metadata={}, created_at=1710790571, job_id='get_keywords')},\n",
       " '91': {'get_keywords': JobResult(value=['Better Homes and Garden', 'magazine', 'renewed until 2015', 'class magazine'], result_type=<ResultType.list: 'list'>, logs=[], metadata={}, created_at=1710790570, job_id='get_keywords')},\n",
       " '92': {'get_keywords': JobResult(value=['great ideas'], result_type=<ResultType.list: 'list'>, logs=[], metadata={}, created_at=1710790570, job_id='get_keywords')},\n",
       " '93': {'get_keywords': JobResult(value=['magazine', 'decorating', 'recipes', 'new items', 'interest'], result_type=<ResultType.list: 'list'>, logs=[], metadata={}, created_at=1710790570, job_id='get_keywords')},\n",
       " '94': {'get_keywords': JobResult(value=['subscription', 'pleased'], result_type=<ResultType.list: 'list'>, logs=[], metadata={}, created_at=1710790570, job_id='get_keywords')},\n",
       " '95': {'get_keywords': JobResult(value=['Better Homes and Gardens magazine', 'house', 'garden', 'dream', 'love', 'reading', 'wish'], result_type=<ResultType.list: 'list'>, logs=[], metadata={}, created_at=1710790571, job_id='get_keywords')},\n",
       " '96': {'get_keywords': JobResult(value=['satisfied', 'happy', 'content', 'pleased', 'review', 'product', 'quality', 'delivery', 'customer service', 'value'], result_type=<ResultType.list: 'list'>, logs=[], metadata={}, created_at=1710790571, job_id='get_keywords')},\n",
       " '97': {'get_keywords': JobResult(value=['Better Homes', 'practical ideas', 'decorating', 'family living', 'food preparation', 'gardening', 'budget projects', 'up to date', 'easy', 'Home'], result_type=<ResultType.list: 'list'>, logs=[], metadata={}, created_at=1710790572, job_id='get_keywords')},\n",
       " '98': {'get_keywords': JobResult(value=['cooking', 'gluten free', 'consumerism', 'budget room remodels', 'family issues', 'financial issues', 'social issues', 'modern mom', 'disposable income', 'product endorsement'], result_type=<ResultType.list: 'list'>, logs=[], metadata={}, created_at=1710790572, job_id='get_keywords')},\n",
       " '99': {'get_keywords': JobResult(value=['Magazine', 'Audience', 'Articles', 'Restaurant reviews', 'Advertising', 'Subscription', 'Gift idea', 'Local government', 'High society', 'Reading value'], result_type=<ResultType.list: 'list'>, logs=[], metadata={}, created_at=1710790571, job_id='get_keywords')}}"
      ]
     },
     "execution_count": 6,
     "metadata": {},
     "output_type": "execute_result"
    }
   ],
   "source": [
    "workload = lab.Workload(jobs=[lab.Job(job_function=get_keywords)])\n",
    "\n",
    "# Run the workload on the messages\n",
    "await workload.async_run(messages[:100], executor_type=\"parallel\", max_parallelism=10)"
   ]
  },
  {
   "cell_type": "code",
   "execution_count": 7,
   "metadata": {},
   "outputs": [
    {
     "name": "stderr",
     "output_type": "stream",
     "text": [
      "Job get_keywords: No alternative configurations found. Skipping.\n",
      "Job get_keywords: No alternative configurations found. Skipping.\n",
      "Job get_keywords: No alternative configurations found. Skipping.\n",
      "Job get_keywords: No alternative configurations found. Skipping.\n",
      "Job get_keywords: No alternative configurations found. Skipping.\n",
      "Job get_keywords: No alternative configurations found. Skipping.\n",
      "Job get_keywords: No alternative configurations found. Skipping.\n",
      "Job get_keywords: No alternative configurations found. Skipping.\n",
      "Job get_keywords: No alternative configurations found. Skipping.\n",
      "Job get_keywords: No alternative configurations found. Skipping.\n"
     ]
    }
   ],
   "source": [
    "await workload.async_run_on_alternative_configurations(messages[:10])"
   ]
  },
  {
   "cell_type": "code",
   "execution_count": 8,
   "metadata": {},
   "outputs": [
    {
     "name": "stderr",
     "output_type": "stream",
     "text": [
      "Can't run Workload.optimize(): No alternative results found. Make sure you called Workload.async_run_on_alternative_configurations() first. Skipping.\n"
     ]
    }
   ],
   "source": [
    "workload.optimize_jobs(accuracy_threshold=0.0)"
   ]
  },
  {
   "cell_type": "code",
   "execution_count": null,
   "metadata": {},
   "outputs": [],
   "source": []
  }
 ],
 "metadata": {
  "kernelspec": {
   "display_name": "phospho-env-min",
   "language": "python",
   "name": "python3"
  },
  "language_info": {
   "codemirror_mode": {
    "name": "ipython",
    "version": 3
   },
   "file_extension": ".py",
   "mimetype": "text/x-python",
   "name": "python",
   "nbconvert_exporter": "python",
   "pygments_lexer": "ipython3",
   "version": "3.11.7"
  }
 },
 "nbformat": 4,
 "nbformat_minor": 2
}
