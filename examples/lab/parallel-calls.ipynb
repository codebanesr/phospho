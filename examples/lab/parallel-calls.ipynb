{
 "cells": [
  {
   "cell_type": "markdown",
   "metadata": {},
   "source": [
    "# Run parallel calls to OpenAI on a dataset, with rate limit\n",
    "\n",
    "In this notebook, you'll learn how to run multiple parallel calls to OpenAI on a dataset with a rate limit. \n",
    "\n",
    "As an example, we'll take a bunch of Amazon reviews as a dataset. Our goal is to **extract keywords** from the reviews. The way we extract keywords is by making a call to OpenAI GPT-4 and asking to list the keywords. \n",
    "\n",
    "To do that, here is what we will do:\n",
    "\n",
    "1. Load the dataset\n",
    "2. Make API calls to OpenAI\n",
    "3. Parallelize the calls while respecting the OpenAI rate limits\n",
    "4. Displaying results\n",
    "\n",
    "Let's go!"
   ]
  },
  {
   "cell_type": "code",
   "execution_count": null,
   "metadata": {},
   "outputs": [],
   "source": [
    "!pip install \"phospho[lab]\""
   ]
  },
  {
   "cell_type": "code",
   "execution_count": 1,
   "metadata": {},
   "outputs": [],
   "source": [
    "import pandas as pd\n",
    "import re\n",
    "import os\n",
    "import openai \n",
    "\n",
    "from phospho import lab\n",
    "from dotenv import load_dotenv\n",
    "\n",
    "load_dotenv()\n",
    "\n",
    "assert os.environ.get(\"OPENAI_API_KEY\"), \"Please set the OPENAI_API_KEY environment variable.\""
   ]
  },
  {
   "cell_type": "markdown",
   "metadata": {},
   "source": [
    "## Load dataset\n",
    "\n",
    "For demonstration purposes, we'll use a subset of the [Amazon Reviews dataset, collected in 2023 by McAuley Lab](https://amazon-reviews-2023.github.io)."
   ]
  },
  {
   "cell_type": "code",
   "execution_count": 2,
   "metadata": {},
   "outputs": [],
   "source": [
    "messages_df = pd.read_csv('data/Magazine_Subscriptions_5.csv')\n",
    "# Create a new column to store the message id\n",
    "messages_df[\"id\"] = messages_df.index.astype(str)"
   ]
  },
  {
   "cell_type": "code",
   "execution_count": 3,
   "metadata": {},
   "outputs": [
    {
     "data": {
      "text/html": [
       "<div>\n",
       "<style scoped>\n",
       "    .dataframe tbody tr th:only-of-type {\n",
       "        vertical-align: middle;\n",
       "    }\n",
       "\n",
       "    .dataframe tbody tr th {\n",
       "        vertical-align: top;\n",
       "    }\n",
       "\n",
       "    .dataframe thead th {\n",
       "        text-align: right;\n",
       "    }\n",
       "</style>\n",
       "<table border=\"1\" class=\"dataframe\">\n",
       "  <thead>\n",
       "    <tr style=\"text-align: right;\">\n",
       "      <th></th>\n",
       "      <th>overall</th>\n",
       "      <th>verified</th>\n",
       "      <th>reviewTime</th>\n",
       "      <th>reviewerID</th>\n",
       "      <th>asin</th>\n",
       "      <th>reviewerName</th>\n",
       "      <th>reviewText</th>\n",
       "      <th>summary</th>\n",
       "      <th>unixReviewTime</th>\n",
       "      <th>vote</th>\n",
       "      <th>style</th>\n",
       "      <th>image</th>\n",
       "      <th>id</th>\n",
       "    </tr>\n",
       "  </thead>\n",
       "  <tbody>\n",
       "    <tr>\n",
       "      <th>0</th>\n",
       "      <td>4</td>\n",
       "      <td>True</td>\n",
       "      <td>02 26, 2014</td>\n",
       "      <td>A5QQOOZJOVPSF</td>\n",
       "      <td>B00005N7P0</td>\n",
       "      <td>John L. Mehlmauer</td>\n",
       "      <td>I'm old, and so is my computer.  Any advice th...</td>\n",
       "      <td>Cheapskates guide</td>\n",
       "      <td>1393372800</td>\n",
       "      <td>NaN</td>\n",
       "      <td>NaN</td>\n",
       "      <td>NaN</td>\n",
       "      <td>0</td>\n",
       "    </tr>\n",
       "  </tbody>\n",
       "</table>\n",
       "</div>"
      ],
      "text/plain": [
       "   overall  verified   reviewTime     reviewerID        asin  \\\n",
       "0        4      True  02 26, 2014  A5QQOOZJOVPSF  B00005N7P0   \n",
       "\n",
       "        reviewerName                                         reviewText  \\\n",
       "0  John L. Mehlmauer  I'm old, and so is my computer.  Any advice th...   \n",
       "\n",
       "             summary  unixReviewTime  vote style image id  \n",
       "0  Cheapskates guide      1393372800   NaN   NaN   NaN  0  "
      ]
     },
     "execution_count": 3,
     "metadata": {},
     "output_type": "execute_result"
    }
   ],
   "source": [
    "messages_df.head(1)"
   ]
  },
  {
   "cell_type": "markdown",
   "metadata": {},
   "source": [
    "The first thing we need to do is to transform this dataset in a list of phospho `lab.Message`, which is a data format more adapted for what we need to do. "
   ]
  },
  {
   "cell_type": "code",
   "execution_count": 4,
   "metadata": {},
   "outputs": [
    {
     "data": {
      "text/plain": [
       "[Message(id='0', created_at=1393372800, role=None, content=\"I'm old, and so is my computer.  Any advice that can help me maximize my computer perfomance is very welcome.  MaximumPC has some good tips on computer parts, vendors, and usefull tests\", previous_messages=[], metadata={}),\n",
       " Message(id='1', created_at=1078531200, role=None, content=\"There's nothing to say, but if you want a REAL men's magazine, this is it. They have great articles and stories, and I love the bits of knowledge that starts the Know & Tell section, and I love the last page, which has an interview with a celebrity. Just get this magazine and forget all the other mature men's mags.\", previous_messages=[], metadata={}),\n",
       " Message(id='2', created_at=1058227200, role=None, content=\"If you're the kind of man who looks at himself in a full length mirrror every morning, this is the magazine for you.\\nIf you think the car you drive defines you, the clothes you wear are the measure of your self-worth, the watch on your wrist tells the value of you as a person, and the woman you're seen with is a measure of your rank in society- you need this magazine.\\nOther men- who might value human relationships- may profitably give it a pass.\", previous_messages=[], metadata={}),\n",
       " Message(id='3', created_at=1422662400, role=None, content='Nothing to it.  Just an advertisement.  Little article content.', previous_messages=[], metadata={})]"
      ]
     },
     "execution_count": 4,
     "metadata": {},
     "output_type": "execute_result"
    }
   ],
   "source": [
    "# Convert every valid row of the df into a lab.Message\n",
    "messages = lab.Message.from_df(messages_df, content=\"reviewText\", created_at=\"unixReviewTime\", id=\"id\")\n",
    "messages[:4]"
   ]
  },
  {
   "cell_type": "markdown",
   "metadata": {},
   "source": [
    "## Make API calls to OpenAI\n",
    "\n",
    "Let's create a function that takes a message content as an input, and then make a call to OpenAI to get a list of keywords. \n",
    "\n",
    "### Step by step\n",
    "\n",
    "First, we'll take a message. "
   ]
  },
  {
   "cell_type": "code",
   "execution_count": 5,
   "metadata": {},
   "outputs": [
    {
     "data": {
      "text/plain": [
       "Message(id='0', created_at=1393372800, role=None, content=\"I'm old, and so is my computer.  Any advice that can help me maximize my computer perfomance is very welcome.  MaximumPC has some good tips on computer parts, vendors, and usefull tests\", previous_messages=[], metadata={})"
      ]
     },
     "execution_count": 5,
     "metadata": {},
     "output_type": "execute_result"
    }
   ],
   "source": [
    "message = messages[0]\n",
    "message"
   ]
  },
  {
   "cell_type": "markdown",
   "metadata": {},
   "source": [
    "Then, we embed it into a prompt that we make to OpenAI."
   ]
  },
  {
   "cell_type": "code",
   "execution_count": 9,
   "metadata": {},
   "outputs": [
    {
     "data": {
      "text/plain": [
       "'- Computer performance optimization\\n- Aging computer\\n- Advice\\n- MaximumPC\\n- Computer parts\\n- Vendors\\n- Useful tests'"
      ]
     },
     "execution_count": 9,
     "metadata": {},
     "output_type": "execute_result"
    }
   ],
   "source": [
    "openai_client = openai.AsyncClient(api_key=os.environ[\"OPENAI_API_KEY\"])\n",
    "\n",
    "# Label every message with keywords it contains\n",
    "prompt = f\"\"\"You are an annotator reading Amazon product reviews. Your job is to label\n",
    "each review with keywords that describe the main topics covered in the review.\n",
    "The review is: \n",
    "{message.content}\n",
    "\n",
    "Return a list of max 10 keywords as a bullet point list: `- keyword1\\n- keyword2\\n- keyword3`\n",
    "Keywords:\"\"\"\n",
    "\n",
    "response = await openai_client.chat.completions.create(\n",
    "    model=\"gpt-3.5-turbo\",\n",
    "    messages=[\n",
    "        {\n",
    "            \"role\": \"system\",\n",
    "            \"content\": \"You are a business analyst, expert in e-commerce.\",\n",
    "        },\n",
    "        {\"role\": \"user\", \"content\": prompt},\n",
    "    ],\n",
    ")\n",
    "response.choices[0].message.content"
   ]
  },
  {
   "cell_type": "markdown",
   "metadata": {},
   "source": [
    "Finally, we use regex to read the response. "
   ]
  },
  {
   "cell_type": "code",
   "execution_count": 7,
   "metadata": {},
   "outputs": [
    {
     "data": {
      "text/plain": [
       "['Old computer',\n",
       " 'Computer performance',\n",
       " 'MaximumPC',\n",
       " 'Computer parts',\n",
       " 'Vendors',\n",
       " 'Useful tests',\n",
       " 'Advice',\n",
       " 'Optimization',\n",
       " 'Maximize performance']"
      ]
     },
     "execution_count": 7,
     "metadata": {},
     "output_type": "execute_result"
    }
   ],
   "source": [
    "response = response.choices[0].message.content\n",
    "# Parse the response to extract the keywords with regex\n",
    "keywords = re.findall(r\"- (.*)\", response)\n",
    "keywords"
   ]
  },
  {
   "cell_type": "markdown",
   "metadata": {},
   "source": [
    "### Turn this into a phospho job\n",
    "\n",
    "Okay, let's muscle up and turn this proof of concept into a function.\n",
    "\n",
    "However, let's respect the phospho job convention. To respect the convention, we need the function to take a lab.Message as an input, and return a lab.JobResult as an output.\n",
    "\n",
    "Respecting this format helps us parallelize the calls later on. \n",
    "\n",
    "Here's what the function looks like:"
   ]
  },
  {
   "cell_type": "code",
   "execution_count": 10,
   "metadata": {},
   "outputs": [],
   "source": [
    "async def get_keywords(\n",
    "    message: lab.Message,\n",
    "    model: str=\"openai:gpt-3.5-turbo\",\n",
    ") -> lab.JobResult:\n",
    "    \"\"\"\n",
    "    This function uses OpenAI GPT to extract keywords from a given message.\n",
    "    \"\"\"\n",
    "    provider, model_name = lab.get_provider_and_model(model)\n",
    "    openai_client = lab.get_async_client(provider)\n",
    "\n",
    "    # Label every message with keywords it contains\n",
    "    prompt = f\"\"\"You are an annotator reading Amazon product reviews. Your job is to label\n",
    "    each review with keywords that describe the main topics covered in the review.\n",
    "    The review is: \n",
    "    {message.content}\n",
    "\n",
    "    Return a list of max 10 keywords as a bullet point list: `- keyword1\\n- keyword2\\n- keyword3`\n",
    "    Keywords:\"\"\"\n",
    "\n",
    "    response = await openai_client.chat.completions.create(\n",
    "        model=\"gpt-3.5-turbo\",\n",
    "        messages=[\n",
    "            {\n",
    "                \"role\": \"system\",\n",
    "                \"content\": \"You are a business analyst, expert in e-commerce.\",\n",
    "            },\n",
    "            {\"role\": \"user\", \"content\": prompt},\n",
    "        ],\n",
    "    )\n",
    "\n",
    "    response = response.choices[0].message.content\n",
    "    # Parse the response to extract the keywords with regex\n",
    "    keywords = re.findall(r\"- (.*)\", response)\n",
    "    return lab.JobResult(\n",
    "        value=keywords,\n",
    "        result_type=lab.ResultType.list,\n",
    "    )"
   ]
  },
  {
   "cell_type": "markdown",
   "metadata": {},
   "source": [
    "Easy, right ? Let's try the function on a single keyword:"
   ]
  },
  {
   "cell_type": "code",
   "execution_count": 11,
   "metadata": {},
   "outputs": [
    {
     "data": {
      "text/plain": [
       "JobResult(value=['computer performance', 'MaximumPC', 'tips', 'computer parts', 'vendors', 'useful tests', 'advice', 'maximize', 'old computer', 'performance optimization'], result_type=<ResultType.list: 'list'>, logs=[], metadata={}, created_at=1710799643, job_id=None)"
      ]
     },
     "execution_count": 11,
     "metadata": {},
     "output_type": "execute_result"
    }
   ],
   "source": [
    "# Try the function one a single message\n",
    "await get_keywords(messages[0])"
   ]
  },
  {
   "cell_type": "markdown",
   "metadata": {},
   "source": [
    "## Run the job on multiple messages\n",
    "\n",
    "Now, let's run the jobs on the dataset. \n",
    "\n",
    "With a simple for loop, you have to wait for a full API call to complete before running the next one. This takes a long time. \n",
    "\n",
    "**Parallelization** helps you make multiple calls at the same time to speed up generation.\n",
    "\n",
    "However, OpenAI and model providers have set up **rate limits.** This means your requests will fail if you make too many requests, too fast.\n",
    "\n",
    "To circumvent this, phospho has a `max_parallelism` parameter, which **purposefully slow down parallel calls.** "
   ]
  },
  {
   "cell_type": "code",
   "execution_count": 12,
   "metadata": {},
   "outputs": [
    {
     "name": "stderr",
     "output_type": "stream",
     "text": [
      "No job_config provided. Running with empty config\n",
      "100%|██████████| 100/100 [00:07<00:00, 12.81it/s]\n"
     ]
    },
    {
     "data": {
      "text/plain": [
       "{'0': {'get_keywords': JobResult(value=['computer performance', 'tips', 'computer parts', 'vendors', 'tests', 'MaximumPC', 'advice', 'maximize', 'old computer', 'useful'], result_type=<ResultType.list: 'list'>, logs=[], metadata={}, created_at=1710799650, job_id='get_keywords')},\n",
       " '1': {'get_keywords': JobResult(value=[\"men's magazine\", 'great articles', 'stories', 'Know & Tell section', 'interview with a celebrity', \"mature men's magazines\"], result_type=<ResultType.list: 'list'>, logs=[], metadata={}, created_at=1710799650, job_id='get_keywords')},\n",
       " '2': {'get_keywords': JobResult(value=['self-image', 'materialism', 'status symbol', 'relationships', 'magazine', 'lifestyle', 'appearance', 'social status'], result_type=<ResultType.list: 'list'>, logs=[], metadata={}, created_at=1710799650, job_id='get_keywords')},\n",
       " '3': {'get_keywords': JobResult(value=['Advertisement', 'Little content', 'Article'], result_type=<ResultType.list: 'list'>, logs=[], metadata={}, created_at=1710799649, job_id='get_keywords')},\n",
       " '4': {'get_keywords': JobResult(value=['PC Magazine', 'technology information', 'white paper', 'AES', 'Doctor section', 'user questions', 'feature articles', 'news', 'tech gear reviews', 'computer field coverage'], result_type=<ResultType.list: 'list'>, logs=[], metadata={}, created_at=1710799650, job_id='get_keywords')},\n",
       " '5': {'get_keywords': JobResult(value=['lifestyle', 'magazine', 'shorter articles', 'younger male', 'metrosexual', 'price', 'investment', 'reviews', 'male fashion', 'leisure'], result_type=<ResultType.list: 'list'>, logs=[], metadata={}, created_at=1710799650, job_id='get_keywords')},\n",
       " '6': {'get_keywords': JobResult(value=['PC Magazine', 'upgrades', 'hardware info', 'tips', 'tricks', 'price', 'best', 'valuable', 'informative', 'recommendations'], result_type=<ResultType.list: 'list'>, logs=[], metadata={}, created_at=1710799650, job_id='get_keywords')},\n",
       " '7': {'get_keywords': JobResult(value=['Details Magazine', \"Men's lifestyle\", 'Writing diversity', 'Eye-catching headlines', 'Explicit language', 'Offensive content', 'Advertisements', 'High fashion', 'Magazine review', 'Target audience'], result_type=<ResultType.list: 'list'>, logs=[], metadata={}, created_at=1710799650, job_id='get_keywords')},\n",
       " '8': {'get_keywords': JobResult(value=['Electronics magazine', 'Product reviews', 'Instructional articles', 'Technology focused', 'Educational content', 'Question and answer sessions', 'New products', 'Technical nature', 'Electronics enthusiasts', 'Young and middle-aged adults'], result_type=<ResultType.list: 'list'>, logs=[], metadata={}, created_at=1710799650, job_id='get_keywords')},\n",
       " '9': {'get_keywords': JobResult(value=['Maximum PC', 'Magazine subscription', 'CD content', 'Price comparison', 'Head 2 Head', 'PC Magazine', 'Independent magazine', 'Product comparison', 'Content quality', 'CD inclusion'], result_type=<ResultType.list: 'list'>, logs=[], metadata={}, created_at=1710799650, job_id='get_keywords')},\n",
       " '10': {'get_keywords': JobResult(value=['glamour mag', 'articles', 'clothes', 'beauty', 'long-time reader'], result_type=<ResultType.list: 'list'>, logs=[], metadata={}, created_at=1710799650, job_id='get_keywords')},\n",
       " '11': {'get_keywords': JobResult(value=['Magazine review', 'Cover price', 'Ads with coupons', 'Thin paper quality', 'Decor ideas', 'Recipes', 'Fall theme', 'Home/garden articles', 'Remodeling', 'Letter writing'], result_type=<ResultType.list: 'list'>, logs=[], metadata={}, created_at=1710799651, job_id='get_keywords')},\n",
       " '12': {'get_keywords': JobResult(value=['magazine subscriptions', 'Better Homes and Garden', 'articles', 'gardening hints', 'recipes', 'value for money', 'recommendations', 'Country Living', 'House & Garden', 'reading satisfaction'], result_type=<ResultType.list: 'list'>, logs=[], metadata={}, created_at=1710799651, job_id='get_keywords')},\n",
       " '13': {'get_keywords': JobResult(value=['decorating project', 'gardening', 'interior design', 'building', 'family matters', 'flood', 'good health', 'shopping', '\"Yours for the Asking\" section', '\"kids project\" section'], result_type=<ResultType.list: 'list'>, logs=[], metadata={}, created_at=1710799651, job_id='get_keywords')},\n",
       " '14': {'get_keywords': JobResult(value=['gym articles', 'health information', 'workout routines', \"men's perspective\", 'entertaining', 'learning', \"men's behavior\", 'magazine personality'], result_type=<ResultType.list: 'list'>, logs=[], metadata={}, created_at=1710799651, job_id='get_keywords')},\n",
       " '15': {'get_keywords': JobResult(value=['magazine', 'advertising', 'content', 'opinion', 'length'], result_type=<ResultType.list: 'list'>, logs=[], metadata={}, created_at=1710799651, job_id='get_keywords')},\n",
       " '16': {'get_keywords': JobResult(value=['magazine', 'love'], result_type=<ResultType.list: 'list'>, logs=[], metadata={}, created_at=1710799650, job_id='get_keywords')},\n",
       " '17': {'get_keywords': JobResult(value=['Fun'], result_type=<ResultType.list: 'list'>, logs=[], metadata={}, created_at=1710799650, job_id='get_keywords')},\n",
       " '18': {'get_keywords': JobResult(value=['great articles', 'photos', 'inspiring', 'variations', 'workouts', 'nice'], result_type=<ResultType.list: 'list'>, logs=[], metadata={}, created_at=1710799651, job_id='get_keywords')},\n",
       " '19': {'get_keywords': JobResult(value=['men', 'masculinity', 'gender', 'preferences'], result_type=<ResultType.list: 'list'>, logs=[], metadata={}, created_at=1710799651, job_id='get_keywords')},\n",
       " '20': {'get_keywords': JobResult(value=['magazine', 'good info', 'repetitive', 'reminders', 'husband', 'loves'], result_type=<ResultType.list: 'list'>, logs=[], metadata={}, created_at=1710799651, job_id='get_keywords')},\n",
       " '21': {'get_keywords': JobResult(value=['magazine', 'not received', 'change of address', 'delivery issue'], result_type=<ResultType.list: 'list'>, logs=[], metadata={}, created_at=1710799651, job_id='get_keywords')},\n",
       " '22': {'get_keywords': JobResult(value=['Glamour magazine', 'best', 'up-to-date information', 'well-written articles', 'great photos', 'market', 'today', 'information', 'articles', 'photos'], result_type=<ResultType.list: 'list'>, logs=[], metadata={}, created_at=1710799651, job_id='get_keywords')},\n",
       " '23': {'get_keywords': JobResult(value=['excellent conditions', 'well packed', 'NEW', 'no defect', 'as expected'], result_type=<ResultType.list: 'list'>, logs=[], metadata={}, created_at=1710799651, job_id='get_keywords')},\n",
       " '24': {'get_keywords': JobResult(value=['gift', 'purchase', 'recipient', 'buying', 'present', 'item', 'occasion', 'present', 'giving', 'occasion'], result_type=<ResultType.list: 'list'>, logs=[], metadata={}, created_at=1710799651, job_id='get_keywords')},\n",
       " '25': {'get_keywords': JobResult(value=['sweetheart', 'loves', 'magazine'], result_type=<ResultType.list: 'list'>, logs=[], metadata={}, created_at=1710799652, job_id='get_keywords')},\n",
       " '26': {'get_keywords': JobResult(value=['children', 'reading', 'talking'], result_type=<ResultType.list: 'list'>, logs=[], metadata={}, created_at=1710799651, job_id='get_keywords')},\n",
       " '27': {'get_keywords': JobResult(value=['great deal', 'office'], result_type=<ResultType.list: 'list'>, logs=[], metadata={}, created_at=1710799651, job_id='get_keywords')},\n",
       " '28': {'get_keywords': JobResult(value=['gift', 'science lover', 'articles', 'pictures', 'technology', 'new', 'variety', 'awesome', 'ever-changing', 'great'], result_type=<ResultType.list: 'list'>, logs=[], metadata={}, created_at=1710799652, job_id='get_keywords')},\n",
       " '29': {'get_keywords': JobResult(value=['magazine', 'subscription', 'Amazon', 'content', 'parents', 'kids', 'retired', 'review', 'auto subscribe', 'information'], result_type=<ResultType.list: 'list'>, logs=[], metadata={}, created_at=1710799652, job_id='get_keywords')},\n",
       " '30': {'get_keywords': JobResult(value=['living space', 'home decor', 'furniture', 'ambiance', 'comfort', 'aesthetics', 'functionality', 'design', 'quality', 'atmosphere'], result_type=<ResultType.list: 'list'>, logs=[], metadata={}, created_at=1710799652, job_id='get_keywords')},\n",
       " '31': {'get_keywords': JobResult(value=['ideas', 'decorating', 'recipes'], result_type=<ResultType.list: 'list'>, logs=[], metadata={}, created_at=1710799652, job_id='get_keywords')},\n",
       " '32': {'get_keywords': JobResult(value=['magazines', 'reading', 'content', 'articles', 'humor', 'advice', 'enjoyment', 'appeal', 'Parents', 'TV Guide'], result_type=<ResultType.list: 'list'>, logs=[], metadata={}, created_at=1710799652, job_id='get_keywords')},\n",
       " '33': {'get_keywords': JobResult(value=[\"Men's Health\", 'Subscription', 'Fitness', 'Relevance', 'Great quality'], result_type=<ResultType.list: 'list'>, logs=[], metadata={}, created_at=1710799652, job_id='get_keywords')},\n",
       " '34': {'get_keywords': JobResult(value=['subscription price', 'sharing', 'magazine content', 'good ideas', 'relevancy', 'life suitability'], result_type=<ResultType.list: 'list'>, logs=[], metadata={}, created_at=1710799652, job_id='get_keywords')},\n",
       " '35': {'get_keywords': JobResult(value=['favorite ', 'magazine'], result_type=<ResultType.list: 'list'>, logs=[], metadata={}, created_at=1710799652, job_id='get_keywords')},\n",
       " '36': {'get_keywords': JobResult(value=['cheap subscription', 'easy to read layout', 'Kindle Fire HD'], result_type=<ResultType.list: 'list'>, logs=[], metadata={}, created_at=1710799652, job_id='get_keywords')},\n",
       " '37': {'get_keywords': JobResult(value=['magazine subscription', 'content variety', 'demographic targeting', 'fitness programs', 'print and digital editions', 'editorial focus', 'reader age', 'product value', 'food and recipes', 'gender-specific magazines'], result_type=<ResultType.list: 'list'>, logs=[], metadata={}, created_at=1710799653, job_id='get_keywords')},\n",
       " '38': {'get_keywords': JobResult(value=['Glamour magazine', 'Fashion', 'Trends', 'Layering clothes', 'Articles', 'Life lessons', 'Shopping', 'Ads', 'New trends', 'Magazine changes'], result_type=<ResultType.list: 'list'>, logs=[], metadata={}, created_at=1710799653, job_id='get_keywords')},\n",
       " '39': {'get_keywords': JobResult(value=['Excellent content', 'Diversity', 'Material'], result_type=<ResultType.list: 'list'>, logs=[], metadata={}, created_at=1710799652, job_id='get_keywords')},\n",
       " '40': {'get_keywords': JobResult(value=['happy', 'grandmother'], result_type=<ResultType.list: 'list'>, logs=[], metadata={}, created_at=1710799652, job_id='get_keywords')},\n",
       " '41': {'get_keywords': JobResult(value=['Glamour magazine', 'Subscription', 'Careers', 'Relationships', 'Beauty', 'Fashion', 'Women', 'Twenties', 'Thirties', 'Entertainment'], result_type=<ResultType.list: 'list'>, logs=[], metadata={}, created_at=1710799653, job_id='get_keywords')},\n",
       " '42': {'get_keywords': JobResult(value=['Fun', 'Monthly subscription', 'Enjoyable', 'Exciting', 'Fresh product', 'Regular delivery', 'Variety', 'Convenience', 'Subscription box', 'Novelty'], result_type=<ResultType.list: 'list'>, logs=[], metadata={}, created_at=1710799653, job_id='get_keywords')},\n",
       " '43': {'get_keywords': JobResult(value=['ads'], result_type=<ResultType.list: 'list'>, logs=[], metadata={}, created_at=1710799652, job_id='get_keywords')},\n",
       " '44': {'get_keywords': JobResult(value=['subscription', 'many years', 'never disappointed', 'beautiful pictures'], result_type=<ResultType.list: 'list'>, logs=[], metadata={}, created_at=1710799653, job_id='get_keywords')},\n",
       " '45': {'get_keywords': JobResult(value=['magazine', 'helpful articles', 'baking', 'cosmetics', 'rated', 'like', 'lots', 'everything'], result_type=<ResultType.list: 'list'>, logs=[], metadata={}, created_at=1710799653, job_id='get_keywords')},\n",
       " '46': {'get_keywords': JobResult(value=['product quality', 'delivery time', 'customer service', 'packaging', 'value for money', 'ease of use', 'features', 'durability', 'user experience', 'overall satisfaction'], result_type=<ResultType.list: 'list'>, logs=[], metadata={}, created_at=1710799653, job_id='get_keywords')},\n",
       " '47': {'get_keywords': JobResult(value=['decorating ideas', 'great ', 'home decor ', 'interior design'], result_type=<ResultType.list: 'list'>, logs=[], metadata={}, created_at=1710799653, job_id='get_keywords')},\n",
       " '48': {'get_keywords': JobResult(value=['good price', 'great magazine'], result_type=<ResultType.list: 'list'>, logs=[], metadata={}, created_at=1710799653, job_id='get_keywords')},\n",
       " '49': {'get_keywords': JobResult(value=['Excellent', 'Positive feedback', 'Satisfaction'], result_type=<ResultType.list: 'list'>, logs=[], metadata={}, created_at=1710799653, job_id='get_keywords')},\n",
       " '50': {'get_keywords': JobResult(value=['Magazine', 'Tips', 'Articles', 'Guy stuff', 'Learning', 'Up to date', 'Fast paced', 'Helpful', 'Informative'], result_type=<ResultType.list: 'list'>, logs=[], metadata={}, created_at=1710799653, job_id='get_keywords')},\n",
       " '51': {'get_keywords': JobResult(value=['magazine', 'like', 'find'], result_type=<ResultType.list: 'list'>, logs=[], metadata={}, created_at=1710799653, job_id='get_keywords')},\n",
       " '52': {'get_keywords': JobResult(value=['good value', 'money', 'paper mags'], result_type=<ResultType.list: 'list'>, logs=[], metadata={}, created_at=1710799654, job_id='get_keywords')},\n",
       " '53': {'get_keywords': JobResult(value=['Magazine', 'Price', 'Sharing', 'Gratitude', 'Enjoyment', 'Family', 'Value', 'Generosity'], result_type=<ResultType.list: 'list'>, logs=[], metadata={}, created_at=1710799653, job_id='get_keywords')},\n",
       " '54': {'get_keywords': JobResult(value=['Handyman magazine', 'wood magazine', 'patterns', 'articles', 'tips', 'maintenance', 'information', 'subscription', 'renewal', 'satisfaction'], result_type=<ResultType.list: 'list'>, logs=[], metadata={}, created_at=1710799653, job_id='get_keywords')},\n",
       " '55': {'get_keywords': JobResult(value=['resourceful'], result_type=<ResultType.list: 'list'>, logs=[], metadata={}, created_at=1710799653, job_id='get_keywords')},\n",
       " '56': {'get_keywords': JobResult(value=['magazine updates', 'style', 'projects', 'guest writers/bloggers', 'recommendation'], result_type=<ResultType.list: 'list'>, logs=[], metadata={}, created_at=1710799653, job_id='get_keywords')},\n",
       " '57': {'get_keywords': JobResult(value=['magazine', 'great articles', 'nice'], result_type=<ResultType.list: 'list'>, logs=[], metadata={}, created_at=1710799653, job_id='get_keywords')},\n",
       " '58': {'get_keywords': JobResult(value=['magazine', 'product satisfaction', 'brief', 'concise'], result_type=<ResultType.list: 'list'>, logs=[], metadata={}, created_at=1710799654, job_id='get_keywords')},\n",
       " '59': {'get_keywords': JobResult(value=['Great Packing', 'Good Shipping time', 'As expected'], result_type=<ResultType.list: 'list'>, logs=[], metadata={}, created_at=1710799654, job_id='get_keywords')},\n",
       " '60': {'get_keywords': JobResult(value=['Quick shipping', 'Positive feedback', 'Item satisfaction'], result_type=<ResultType.list: 'list'>, logs=[], metadata={}, created_at=1710799654, job_id='get_keywords')},\n",
       " '61': {'get_keywords': JobResult(value=['magazine', 'home ideas', 'garden', 'advertising', 'enjoyable'], result_type=<ResultType.list: 'list'>, logs=[], metadata={}, created_at=1710799654, job_id='get_keywords')},\n",
       " '62': {'get_keywords': JobResult(value=['wife', 'happy'], result_type=<ResultType.list: 'list'>, logs=[], metadata={}, created_at=1710799654, job_id='get_keywords')},\n",
       " '63': {'get_keywords': JobResult(value=['magazine', 'pictures', 'ideas', 'home decor', 'hints', 'purchase happiness'], result_type=<ResultType.list: 'list'>, logs=[], metadata={}, created_at=1710799654, job_id='get_keywords')},\n",
       " '64': {'get_keywords': JobResult(value=['throwaway subscription', 'gym reading', 'non-glossy pages', 'outdated content', 'affordable price'], result_type=<ResultType.list: 'list'>, logs=[], metadata={}, created_at=1710799654, job_id='get_keywords')},\n",
       " '65': {'get_keywords': JobResult(value=['useful tips', 'instructions', 'projects', 'ideas', 'knowledge', 'shortcuts', 'information', 'magazine'], result_type=<ResultType.list: 'list'>, logs=[], metadata={}, created_at=1710799654, job_id='get_keywords')},\n",
       " '66': {'get_keywords': JobResult(value=[\"Men's Health Magazine\", 'Content quality', 'Magazine features', 'Lifestyle', 'Male audience', 'Advertising', 'Lists format', 'Practical information', 'Reader perspective', 'Age and lifestyle relevance'], result_type=<ResultType.list: 'list'>, logs=[], metadata={}, created_at=1710799655, job_id='get_keywords')},\n",
       " '67': {'get_keywords': JobResult(value=['magazine', 'good'], result_type=<ResultType.list: 'list'>, logs=[], metadata={}, created_at=1710799654, job_id='get_keywords')},\n",
       " '68': {'get_keywords': JobResult(value=['Magazine subscription', 'Gift idea', 'Easy ordering process', 'Individual shipping information', 'Positive reviews'], result_type=<ResultType.list: 'list'>, logs=[], metadata={}, created_at=1710799654, job_id='get_keywords')},\n",
       " '69': {'get_keywords': JobResult(value=['Love'], result_type=<ResultType.list: 'list'>, logs=[], metadata={}, created_at=1710799654, job_id='get_keywords')},\n",
       " '70': {'get_keywords': JobResult(value=['dislike', 'magazine', 'advertisements'], result_type=<ResultType.list: 'list'>, logs=[], metadata={}, created_at=1710799654, job_id='get_keywords')},\n",
       " '71': {'get_keywords': JobResult(value=['articles', 'recipes', \"mom's subscription\", 'generations of readers'], result_type=<ResultType.list: 'list'>, logs=[], metadata={}, created_at=1710799654, job_id='get_keywords')},\n",
       " '72': {'get_keywords': JobResult(value=['magazine', 'love'], result_type=<ResultType.list: 'list'>, logs=[], metadata={}, created_at=1710799654, job_id='get_keywords')},\n",
       " '73': {'get_keywords': JobResult(value=['magazine', 'planting', 'flowers', 'remodel', 'house', 'ideas', 'care', 'great', 'Cheryl'], result_type=<ResultType.list: 'list'>, logs=[], metadata={}, created_at=1710799655, job_id='get_keywords')},\n",
       " '74': {'get_keywords': JobResult(value=['satisfied', 'search', 'product', 'need', 'match', 'expectations'], result_type=<ResultType.list: 'list'>, logs=[], metadata={}, created_at=1710799655, job_id='get_keywords')},\n",
       " '75': {'get_keywords': JobResult(value=[\"Men's magazine\", 'Affluent readership', 'Luxury cars', 'Lifestyle', 'Health', 'Fitness', 'Fashion', 'Attitude', 'Male interests', 'Magazine review'], result_type=<ResultType.list: 'list'>, logs=[], metadata={}, created_at=1710799655, job_id='get_keywords')},\n",
       " '76': {'get_keywords': JobResult(value=['low value', 'reception room', 'served its purpose'], result_type=<ResultType.list: 'list'>, logs=[], metadata={}, created_at=1710799655, job_id='get_keywords')},\n",
       " '77': {'get_keywords': JobResult(value=['love', 'price', 'magazine', 'good'], result_type=<ResultType.list: 'list'>, logs=[], metadata={}, created_at=1710799655, job_id='get_keywords')},\n",
       " '78': {'get_keywords': JobResult(value=['magazine', 'great', 'signed up', 'receive'], result_type=<ResultType.list: 'list'>, logs=[], metadata={}, created_at=1710799655, job_id='get_keywords')},\n",
       " '79': {'get_keywords': JobResult(value=['Gift for wife', 'Good articles', 'Great recipes', 'Love the product'], result_type=<ResultType.list: 'list'>, logs=[], metadata={}, created_at=1710799655, job_id='get_keywords')},\n",
       " '80': {'get_keywords': JobResult(value=['great', 'reading'], result_type=<ResultType.list: 'list'>, logs=[], metadata={}, created_at=1710799655, job_id='get_keywords')},\n",
       " '81': {'get_keywords': JobResult(value=['excellent', 'positive feedback', 'satisfaction', 'high quality', 'top-notch', 'great experience', 'impressive', 'premium', 'exceptional', 'satisfaction'], result_type=<ResultType.list: 'list'>, logs=[], metadata={}, created_at=1710799655, job_id='get_keywords')},\n",
       " '82': {'get_keywords': JobResult(value=['articles', 'interesting'], result_type=<ResultType.list: 'list'>, logs=[], metadata={}, created_at=1710799655, job_id='get_keywords')},\n",
       " '83': {'get_keywords': JobResult(value=['Duplicates', 'Name wrong address', 'Popular Mechanics', 'Subscriptions manager', 'Problem', 'Difficult to use'], result_type=<ResultType.list: 'list'>, logs=[], metadata={}, created_at=1710799655, job_id='get_keywords')},\n",
       " '84': {'get_keywords': JobResult(value=['favorite', 'product', 'love', 'quality', 'worth', 'purchase', 'recommend', 'happy', 'satisfied', 'excellent'], result_type=<ResultType.list: 'list'>, logs=[], metadata={}, created_at=1710799655, job_id='get_keywords')},\n",
       " '85': {'get_keywords': JobResult(value=['magazines', 'ads', 'price'], result_type=<ResultType.list: 'list'>, logs=[], metadata={}, created_at=1710799655, job_id='get_keywords')},\n",
       " '86': {'get_keywords': JobResult(value=['print magazine', 'subscription', 'Kindle edition', 'charging issue', 'customer service', 'cancellation', 'publisher', 'Amazon', 'difficulty', 'magazine subscription manager'], result_type=<ResultType.list: 'list'>, logs=[], metadata={}, created_at=1710799655, job_id='get_keywords')},\n",
       " '87': {'get_keywords': JobResult(value=['perfect'], result_type=<ResultType.list: 'list'>, logs=[], metadata={}, created_at=1710799655, job_id='get_keywords')},\n",
       " '88': {'get_keywords': JobResult(value=['Better Homes and Gardens', 'Kindle HD7', 'magazine', 'reading', 'ideas', 'information', 'favorite', 'Kindle', 'home', 'reading device'], result_type=<ResultType.list: 'list'>, logs=[], metadata={}, created_at=1710799656, job_id='get_keywords')},\n",
       " '89': {'get_keywords': JobResult(value=['magazine', 'husband', 'love', 'look forward', 'monthly', 'addition', 'enjoyment'], result_type=<ResultType.list: 'list'>, logs=[], metadata={}, created_at=1710799656, job_id='get_keywords')},\n",
       " '90': {'get_keywords': JobResult(value=['BH&G (Better Homes & Gardens) magazine', 'Gardening', 'Redecorating/renovating', 'Home decor', 'Ads', 'Content quality', 'Photos', 'Inserts', 'Magazine content', 'Favorites'], result_type=<ResultType.list: 'list'>, logs=[], metadata={}, created_at=1710799656, job_id='get_keywords')},\n",
       " '91': {'get_keywords': JobResult(value=['Better Homes and Garden', 'Renewed subscription', 'Class magazine'], result_type=<ResultType.list: 'list'>, logs=[], metadata={}, created_at=1710799656, job_id='get_keywords')},\n",
       " '92': {'get_keywords': JobResult(value=['great', 'ideas'], result_type=<ResultType.list: 'list'>, logs=[], metadata={}, created_at=1710799656, job_id='get_keywords')},\n",
       " '93': {'get_keywords': JobResult(value=['magazine', 'decorating', 'recipes', 'new items', 'enjoyment'], result_type=<ResultType.list: 'list'>, logs=[], metadata={}, created_at=1710799656, job_id='get_keywords')},\n",
       " '94': {'get_keywords': JobResult(value=['subscription', 'pleased', 'satisfaction', 'service', 'experience'], result_type=<ResultType.list: 'list'>, logs=[], metadata={}, created_at=1710799656, job_id='get_keywords')},\n",
       " '95': {'get_keywords': JobResult(value=['Better Homes and Gardens magazine', 'house', 'garden', 'dream', 'love', 'reading'], result_type=<ResultType.list: 'list'>, logs=[], metadata={}, created_at=1710799656, job_id='get_keywords')},\n",
       " '96': {'get_keywords': JobResult(value=['satisfied', 'positive experience', 'good quality', 'fast shipping', 'customer service', 'excellent product', 'value for money'], result_type=<ResultType.list: 'list'>, logs=[], metadata={}, created_at=1710799656, job_id='get_keywords')},\n",
       " '97': {'get_keywords': JobResult(value=['Better Homes', 'decorating', 'family living', 'food preparation', 'gardening', 'budget projects', 'practical ideas', 'up to date', 'home', 'easy'], result_type=<ResultType.list: 'list'>, logs=[], metadata={}, created_at=1710799656, job_id='get_keywords')},\n",
       " '98': {'get_keywords': JobResult(value=['Gluten free recipes', 'Consumer-driven content', 'Budget room remodels', 'Current topics', 'Social issues', 'Party planning', 'Modern mom', 'Disposable income', 'Good Housekeeping Seal', 'Product recommendations'], result_type=<ResultType.list: 'list'>, logs=[], metadata={}, created_at=1710799657, job_id='get_keywords')},\n",
       " '99': {'get_keywords': JobResult(value=['Magazine reviews', 'Audience targeting', 'Article quality', 'Restaurant reviews', 'Travel suggestions', 'Advertising critique', 'Subscription value', 'Local government issues', 'Gift idea', 'High society portrayal'], result_type=<ResultType.list: 'list'>, logs=[], metadata={}, created_at=1710799656, job_id='get_keywords')}}"
      ]
     },
     "execution_count": 12,
     "metadata": {},
     "output_type": "execute_result"
    }
   ],
   "source": [
    "workload = lab.Workload(jobs=[lab.Job(job_function=get_keywords)])\n",
    "\n",
    "# Run the workload on the messages\n",
    "await workload.async_run(\n",
    "    messages[:100], # Replace by messages to run on the whole dataset\n",
    "    executor_type=\"parallel\", # Run the job on every messages in parallel\n",
    "    max_parallelism=10, # Start at most 10 jobs per second to avoid rate limiting\n",
    ")"
   ]
  },
  {
   "cell_type": "markdown",
   "metadata": {},
   "source": [
    "## Display results\n",
    "\n",
    "Let's get the results in a format more adapted for analytics."
   ]
  },
  {
   "cell_type": "code",
   "execution_count": 18,
   "metadata": {},
   "outputs": [
    {
     "data": {
      "text/html": [
       "<div>\n",
       "<style scoped>\n",
       "    .dataframe tbody tr th:only-of-type {\n",
       "        vertical-align: middle;\n",
       "    }\n",
       "\n",
       "    .dataframe tbody tr th {\n",
       "        vertical-align: top;\n",
       "    }\n",
       "\n",
       "    .dataframe thead th {\n",
       "        text-align: right;\n",
       "    }\n",
       "</style>\n",
       "<table border=\"1\" class=\"dataframe\">\n",
       "  <thead>\n",
       "    <tr style=\"text-align: right;\">\n",
       "      <th></th>\n",
       "      <th>get_keywords</th>\n",
       "    </tr>\n",
       "  </thead>\n",
       "  <tbody>\n",
       "    <tr>\n",
       "      <th>0</th>\n",
       "      <td>[computer performance, tips, computer parts, v...</td>\n",
       "    </tr>\n",
       "    <tr>\n",
       "      <th>1</th>\n",
       "      <td>[men's magazine, great articles, stories, Know...</td>\n",
       "    </tr>\n",
       "    <tr>\n",
       "      <th>10</th>\n",
       "      <td>[glamour mag, articles, clothes, beauty, long-...</td>\n",
       "    </tr>\n",
       "  </tbody>\n",
       "</table>\n",
       "</div>"
      ],
      "text/plain": [
       "                                         get_keywords\n",
       "0   [computer performance, tips, computer parts, v...\n",
       "1   [men's magazine, great articles, stories, Know...\n",
       "10  [glamour mag, articles, clothes, beauty, long-..."
      ]
     },
     "execution_count": 18,
     "metadata": {},
     "output_type": "execute_result"
    }
   ],
   "source": [
    "results_df = workload.results_df()\n",
    "results_df.head(3)"
   ]
  },
  {
   "cell_type": "markdown",
   "metadata": {},
   "source": [
    "And join back the outputs with the original dataframe. "
   ]
  },
  {
   "cell_type": "code",
   "execution_count": 19,
   "metadata": {},
   "outputs": [
    {
     "data": {
      "text/html": [
       "<div>\n",
       "<style scoped>\n",
       "    .dataframe tbody tr th:only-of-type {\n",
       "        vertical-align: middle;\n",
       "    }\n",
       "\n",
       "    .dataframe tbody tr th {\n",
       "        vertical-align: top;\n",
       "    }\n",
       "\n",
       "    .dataframe thead th {\n",
       "        text-align: right;\n",
       "    }\n",
       "</style>\n",
       "<table border=\"1\" class=\"dataframe\">\n",
       "  <thead>\n",
       "    <tr style=\"text-align: right;\">\n",
       "      <th></th>\n",
       "      <th>get_keywords</th>\n",
       "      <th>overall</th>\n",
       "      <th>verified</th>\n",
       "      <th>reviewTime</th>\n",
       "      <th>reviewerID</th>\n",
       "      <th>asin</th>\n",
       "      <th>reviewerName</th>\n",
       "      <th>reviewText</th>\n",
       "      <th>summary</th>\n",
       "      <th>unixReviewTime</th>\n",
       "      <th>vote</th>\n",
       "      <th>style</th>\n",
       "      <th>image</th>\n",
       "      <th>id</th>\n",
       "    </tr>\n",
       "  </thead>\n",
       "  <tbody>\n",
       "    <tr>\n",
       "      <th>0</th>\n",
       "      <td>[computer performance, tips, computer parts, v...</td>\n",
       "      <td>4</td>\n",
       "      <td>True</td>\n",
       "      <td>02 26, 2014</td>\n",
       "      <td>A5QQOOZJOVPSF</td>\n",
       "      <td>B00005N7P0</td>\n",
       "      <td>John L. Mehlmauer</td>\n",
       "      <td>I'm old, and so is my computer.  Any advice th...</td>\n",
       "      <td>Cheapskates guide</td>\n",
       "      <td>1393372800</td>\n",
       "      <td>NaN</td>\n",
       "      <td>NaN</td>\n",
       "      <td>NaN</td>\n",
       "      <td>0</td>\n",
       "    </tr>\n",
       "    <tr>\n",
       "      <th>1</th>\n",
       "      <td>[men's magazine, great articles, stories, Know...</td>\n",
       "      <td>5</td>\n",
       "      <td>False</td>\n",
       "      <td>03 6, 2004</td>\n",
       "      <td>A5RHZE7B8SV5Q</td>\n",
       "      <td>B00005N7PS</td>\n",
       "      <td>gorillazfan249</td>\n",
       "      <td>There's nothing to say, but if you want a REAL...</td>\n",
       "      <td>The best mature Men's magazine.</td>\n",
       "      <td>1078531200</td>\n",
       "      <td>3.0</td>\n",
       "      <td>NaN</td>\n",
       "      <td>NaN</td>\n",
       "      <td>1</td>\n",
       "    </tr>\n",
       "    <tr>\n",
       "      <th>10</th>\n",
       "      <td>[glamour mag, articles, clothes, beauty, long-...</td>\n",
       "      <td>5</td>\n",
       "      <td>True</td>\n",
       "      <td>06 12, 2017</td>\n",
       "      <td>A2VRQ8RNTKY1XT</td>\n",
       "      <td>B00005N7QC</td>\n",
       "      <td>Barbara M. Fox</td>\n",
       "      <td>I love glamour mag. I have read it for over 25...</td>\n",
       "      <td>Great magazine</td>\n",
       "      <td>1497225600</td>\n",
       "      <td>NaN</td>\n",
       "      <td>{'Format:': ' Kindle Edition'}</td>\n",
       "      <td>NaN</td>\n",
       "      <td>10</td>\n",
       "    </tr>\n",
       "  </tbody>\n",
       "</table>\n",
       "</div>"
      ],
      "text/plain": [
       "                                         get_keywords  overall  verified  \\\n",
       "0   [computer performance, tips, computer parts, v...        4      True   \n",
       "1   [men's magazine, great articles, stories, Know...        5     False   \n",
       "10  [glamour mag, articles, clothes, beauty, long-...        5      True   \n",
       "\n",
       "     reviewTime      reviewerID        asin       reviewerName  \\\n",
       "0   02 26, 2014   A5QQOOZJOVPSF  B00005N7P0  John L. Mehlmauer   \n",
       "1    03 6, 2004   A5RHZE7B8SV5Q  B00005N7PS     gorillazfan249   \n",
       "10  06 12, 2017  A2VRQ8RNTKY1XT  B00005N7QC     Barbara M. Fox   \n",
       "\n",
       "                                           reviewText  \\\n",
       "0   I'm old, and so is my computer.  Any advice th...   \n",
       "1   There's nothing to say, but if you want a REAL...   \n",
       "10  I love glamour mag. I have read it for over 25...   \n",
       "\n",
       "                            summary  unixReviewTime  vote  \\\n",
       "0                 Cheapskates guide      1393372800   NaN   \n",
       "1   The best mature Men's magazine.      1078531200   3.0   \n",
       "10                   Great magazine      1497225600   NaN   \n",
       "\n",
       "                             style image  id  \n",
       "0                              NaN   NaN   0  \n",
       "1                              NaN   NaN   1  \n",
       "10  {'Format:': ' Kindle Edition'}   NaN  10  "
      ]
     },
     "execution_count": 19,
     "metadata": {},
     "output_type": "execute_result"
    }
   ],
   "source": [
    "augmented_messages_df = results_df.merge(messages_df, left_index=True, right_on=\"id\")\n",
    "augmented_messages_df.head(3)"
   ]
  },
  {
   "cell_type": "markdown",
   "metadata": {},
   "source": [
    "We can now have tons of fun with the extracted keywords and do all kind of data analytics. "
   ]
  },
  {
   "cell_type": "code",
   "execution_count": 34,
   "metadata": {},
   "outputs": [
    {
     "data": {
      "text/plain": [
       "<Axes: title={'center': 'Most common keywords in the dataset'}, xlabel='get_keywords'>"
      ]
     },
     "execution_count": 34,
     "metadata": {},
     "output_type": "execute_result"
    },
    {
     "data": {
      "image/png": "[encoded data removed]",
      "text/plain": [
       "<Figure size 1000x500 with 1 Axes>"
      ]
     },
     "metadata": {},
     "output_type": "display_data"
    }
   ],
   "source": [
    "# Eg: Count the number of messages that contain a specific keyword\n",
    "\n",
    "keywords_to_count = augmented_messages_df.explode(\"get_keywords\").groupby(\"get_keywords\").size().sort_values(ascending=False)\n",
    "\n",
    "keywords_to_count.head(20).plot(kind=\"bar\", figsize=(10, 5), title=\"Most common keywords in the dataset\")"
   ]
  }
 ],
 "metadata": {
  "kernelspec": {
   "display_name": "phospho-env-min",
   "language": "python",
   "name": "python3"
  },
  "language_info": {
   "codemirror_mode": {
    "name": "ipython",
    "version": 3
   },
   "file_extension": ".py",
   "mimetype": "text/x-python",
   "name": "python",
   "nbconvert_exporter": "python",
   "pygments_lexer": "ipython3",
   "version": "3.11.7"
  }
 },
 "nbformat": 4,
 "nbformat_minor": 2
}
