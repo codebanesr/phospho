{
 "cells": [
  {
   "cell_type": "markdown",
   "metadata": {},
   "source": [
    "# Run parallel calls to OpenAI on a dataset, with rate limit\n",
    "\n",
    "In this notebook, you'll learn how to run multiple parallel calls to OpenAI on a dataset with a rate limit. \n",
    "\n",
    "As an example, we'll take a bunch of Amazon reviews as a dataset. Our goal is to **extract keywords** from the reviews. The way we extract keywords is by making a call to OpenAI GPT-4 and asking to list the keywords. \n",
    "\n",
    "To do that, here is what we will do:\n",
    "\n",
    "1. Load the dataset\n",
    "2. Make API calls to OpenAI\n",
    "3. Parallelize the calls while respecting the OpenAI rate limits\n",
    "4. Displaying results\n",
    "\n",
    "Let's go!"
   ]
  },
  {
   "cell_type": "code",
   "execution_count": null,
   "metadata": {},
   "outputs": [],
   "source": [
    "!pip install \"phospho[lab]\""
   ]
  },
  {
   "cell_type": "code",
   "execution_count": 1,
   "metadata": {},
   "outputs": [],
   "source": [
    "import pandas as pd\n",
    "import re\n",
    "import os\n",
    "import openai \n",
    "\n",
    "from phospho import lab\n",
    "from dotenv import load_dotenv\n",
    "\n",
    "load_dotenv()\n",
    "\n",
    "assert os.environ.get(\"OPENAI_API_KEY\"), \"Please set the OPENAI_API_KEY environment variable.\""
   ]
  },
  {
   "cell_type": "markdown",
   "metadata": {},
   "source": [
    "## Load dataset\n",
    "\n",
    "For demonstration purposes, we'll use a subset of the [Amazon Reviews dataset, collected in 2023 by McAuley Lab](https://amazon-reviews-2023.github.io)."
   ]
  },
  {
   "cell_type": "code",
   "execution_count": 2,
   "metadata": {},
   "outputs": [],
   "source": [
    "messages_df = pd.read_csv('data/Magazine_Subscriptions_5.csv')\n",
    "# Create a new column to store the message id\n",
    "messages_df[\"id\"] = messages_df.index.astype(str)"
   ]
  },
  {
   "cell_type": "code",
   "execution_count": 3,
   "metadata": {},
   "outputs": [
    {
     "data": {
      "text/html": [
       "<div>\n",
       "<style scoped>\n",
       "    .dataframe tbody tr th:only-of-type {\n",
       "        vertical-align: middle;\n",
       "    }\n",
       "\n",
       "    .dataframe tbody tr th {\n",
       "        vertical-align: top;\n",
       "    }\n",
       "\n",
       "    .dataframe thead th {\n",
       "        text-align: right;\n",
       "    }\n",
       "</style>\n",
       "<table border=\"1\" class=\"dataframe\">\n",
       "  <thead>\n",
       "    <tr style=\"text-align: right;\">\n",
       "      <th></th>\n",
       "      <th>overall</th>\n",
       "      <th>verified</th>\n",
       "      <th>reviewTime</th>\n",
       "      <th>reviewerID</th>\n",
       "      <th>asin</th>\n",
       "      <th>reviewerName</th>\n",
       "      <th>reviewText</th>\n",
       "      <th>summary</th>\n",
       "      <th>unixReviewTime</th>\n",
       "      <th>vote</th>\n",
       "      <th>style</th>\n",
       "      <th>image</th>\n",
       "      <th>id</th>\n",
       "    </tr>\n",
       "  </thead>\n",
       "  <tbody>\n",
       "    <tr>\n",
       "      <th>0</th>\n",
       "      <td>4</td>\n",
       "      <td>True</td>\n",
       "      <td>02 26, 2014</td>\n",
       "      <td>A5QQOOZJOVPSF</td>\n",
       "      <td>B00005N7P0</td>\n",
       "      <td>John L. Mehlmauer</td>\n",
       "      <td>I'm old, and so is my computer.  Any advice th...</td>\n",
       "      <td>Cheapskates guide</td>\n",
       "      <td>1393372800</td>\n",
       "      <td>NaN</td>\n",
       "      <td>NaN</td>\n",
       "      <td>NaN</td>\n",
       "      <td>0</td>\n",
       "    </tr>\n",
       "  </tbody>\n",
       "</table>\n",
       "</div>"
      ],
      "text/plain": [
       "   overall  verified   reviewTime     reviewerID        asin  \\\n",
       "0        4      True  02 26, 2014  A5QQOOZJOVPSF  B00005N7P0   \n",
       "\n",
       "        reviewerName                                         reviewText  \\\n",
       "0  John L. Mehlmauer  I'm old, and so is my computer.  Any advice th...   \n",
       "\n",
       "             summary  unixReviewTime  vote style image id  \n",
       "0  Cheapskates guide      1393372800   NaN   NaN   NaN  0  "
      ]
     },
     "execution_count": 3,
     "metadata": {},
     "output_type": "execute_result"
    }
   ],
   "source": [
    "messages_df.head(1)"
   ]
  },
  {
   "cell_type": "markdown",
   "metadata": {},
   "source": [
    "The first thing we need to do is to transform this dataset in a list of phospho `lab.Message`, which is a data format more adapted for what we need to do. "
   ]
  },
  {
   "cell_type": "code",
   "execution_count": 4,
   "metadata": {},
   "outputs": [
    {
     "data": {
      "text/plain": [
       "[Message(id='0', created_at=1393372800, role=None, content=\"I'm old, and so is my computer.  Any advice that can help me maximize my computer perfomance is very welcome.  MaximumPC has some good tips on computer parts, vendors, and usefull tests\", previous_messages=[], metadata={}),\n",
       " Message(id='1', created_at=1078531200, role=None, content=\"There's nothing to say, but if you want a REAL men's magazine, this is it. They have great articles and stories, and I love the bits of knowledge that starts the Know & Tell section, and I love the last page, which has an interview with a celebrity. Just get this magazine and forget all the other mature men's mags.\", previous_messages=[], metadata={}),\n",
       " Message(id='2', created_at=1058227200, role=None, content=\"If you're the kind of man who looks at himself in a full length mirrror every morning, this is the magazine for you.\\nIf you think the car you drive defines you, the clothes you wear are the measure of your self-worth, the watch on your wrist tells the value of you as a person, and the woman you're seen with is a measure of your rank in society- you need this magazine.\\nOther men- who might value human relationships- may profitably give it a pass.\", previous_messages=[], metadata={}),\n",
       " Message(id='3', created_at=1422662400, role=None, content='Nothing to it.  Just an advertisement.  Little article content.', previous_messages=[], metadata={})]"
      ]
     },
     "execution_count": 4,
     "metadata": {},
     "output_type": "execute_result"
    }
   ],
   "source": [
    "# Convert every valid row of the df into a lab.Message\n",
    "messages = lab.Message.from_df(messages_df, content=\"reviewText\", created_at=\"unixReviewTime\", id=\"id\")\n",
    "messages[:4]"
   ]
  },
  {
   "cell_type": "markdown",
   "metadata": {},
   "source": [
    "## Make API calls to OpenAI\n",
    "\n",
    "Let's create a function that takes a message content as an input, and then make a call to OpenAI to get a list of keywords. \n",
    "\n",
    "### Step by step\n",
    "\n",
    "First, we'll take a message. "
   ]
  },
  {
   "cell_type": "code",
   "execution_count": 5,
   "metadata": {},
   "outputs": [
    {
     "data": {
      "text/plain": [
       "Message(id='0', created_at=1393372800, role=None, content=\"I'm old, and so is my computer.  Any advice that can help me maximize my computer perfomance is very welcome.  MaximumPC has some good tips on computer parts, vendors, and usefull tests\", previous_messages=[], metadata={})"
      ]
     },
     "execution_count": 5,
     "metadata": {},
     "output_type": "execute_result"
    }
   ],
   "source": [
    "message = messages[0]\n",
    "message"
   ]
  },
  {
   "cell_type": "markdown",
   "metadata": {},
   "source": [
    "Then, we embed it into a prompt that we make to OpenAI."
   ]
  },
  {
   "cell_type": "code",
   "execution_count": 6,
   "metadata": {},
   "outputs": [
    {
     "data": {
      "text/plain": [
       "'- old computer\\n- maximize performance\\n- advice\\n- MaximumPC\\n- computer parts\\n- vendors\\n- useful tests'"
      ]
     },
     "execution_count": 6,
     "metadata": {},
     "output_type": "execute_result"
    }
   ],
   "source": [
    "openai_client = openai.AsyncClient(api_key=os.environ[\"OPENAI_API_KEY\"])\n",
    "\n",
    "# Label every message with keywords it contains\n",
    "prompt = f\"\"\"You are an annotator reading Amazon product reviews. Your job is to label\n",
    "each review with keywords that describe the main topics covered in the review.\n",
    "The review is: \n",
    "{message.content}\n",
    "\n",
    "Return a list of max 10 keywords as a bullet point list: `- keyword1\\n- keyword2\\n- keyword3`\n",
    "Keywords:\"\"\"\n",
    "\n",
    "response = await openai_client.chat.completions.create(\n",
    "    model=\"gpt-3.5-turbo\",\n",
    "    messages=[\n",
    "        {\n",
    "            \"role\": \"system\",\n",
    "            \"content\": \"You are a business analyst, expert in e-commerce.\",\n",
    "        },\n",
    "        {\"role\": \"user\", \"content\": prompt},\n",
    "    ],\n",
    ")\n",
    "response.choices[0].message.content"
   ]
  },
  {
   "cell_type": "markdown",
   "metadata": {},
   "source": [
    "Finally, we use regex to read the response. "
   ]
  },
  {
   "cell_type": "code",
   "execution_count": 7,
   "metadata": {},
   "outputs": [
    {
     "data": {
      "text/plain": [
       "['old computer',\n",
       " 'maximize performance',\n",
       " 'advice',\n",
       " 'MaximumPC',\n",
       " 'computer parts',\n",
       " 'vendors',\n",
       " 'useful tests']"
      ]
     },
     "execution_count": 7,
     "metadata": {},
     "output_type": "execute_result"
    }
   ],
   "source": [
    "response = response.choices[0].message.content\n",
    "# Parse the response to extract the keywords with regex\n",
    "keywords = re.findall(r\"- (.*)\", response)\n",
    "keywords"
   ]
  },
  {
   "cell_type": "markdown",
   "metadata": {},
   "source": [
    "### Turn this into a phospho job\n",
    "\n",
    "Okay, let's muscle up and turn this proof of concept into a function.\n",
    "\n",
    "However, let's respect the phospho job convention. To respect the convention, we need the function to take a lab.Message as an input, and return a lab.JobResult as an output.\n",
    "\n",
    "Respecting this format helps us parallelize the calls later on. \n",
    "\n",
    "Here's what the function looks like:"
   ]
  },
  {
   "cell_type": "code",
   "execution_count": 8,
   "metadata": {},
   "outputs": [],
   "source": [
    "async def get_keywords(\n",
    "    message: lab.Message,\n",
    "    model: str=\"openai:gpt-3.5-turbo\",\n",
    ") -> lab.JobResult:\n",
    "    \"\"\"\n",
    "    This function uses OpenAI GPT to extract keywords from a given message.\n",
    "    \"\"\"\n",
    "    provider, model_name = lab.get_provider_and_model(model)\n",
    "    openai_client = lab.get_async_client(provider)\n",
    "\n",
    "    # Label every message with keywords it contains\n",
    "    prompt = f\"\"\"You are an annotator reading Amazon product reviews. Your job is to label\n",
    "    each review with topics that describe important topics covered in the review, relevant\n",
    "    to the e-commerce domain. Do not include generic topics such as \"good\", \"bad\", \"interesting\", etc.\n",
    "    \n",
    "    The review is: \n",
    "    {message.content}\n",
    "\n",
    "    Return a list of max 10 keywords as a bullet point list: `- keyword1\\n- keyword2\\n- keyword3`\n",
    "    Keywords:\"\"\"\n",
    "\n",
    "    response = await openai_client.chat.completions.create(\n",
    "        model=\"gpt-3.5-turbo\",\n",
    "        messages=[\n",
    "            {\n",
    "                \"role\": \"system\",\n",
    "                \"content\": \"You are a business analyst, expert in e-commerce.\",\n",
    "            },\n",
    "            {\"role\": \"user\", \"content\": prompt},\n",
    "        ],\n",
    "    )\n",
    "\n",
    "    response = response.choices[0].message.content\n",
    "    # Parse the response to extract the keywords with regex\n",
    "    keywords = re.findall(r\"- (.*)\", response)\n",
    "    # Let's trim and lowercase the keywords\n",
    "    keywords = [keyword.strip().lower() for keyword in keywords]\n",
    "    return lab.JobResult(\n",
    "        value=keywords,\n",
    "        result_type=lab.ResultType.list,\n",
    "    )"
   ]
  },
  {
   "cell_type": "markdown",
   "metadata": {},
   "source": [
    "Easy, right ? Let's try the function on a single keyword:"
   ]
  },
  {
   "cell_type": "code",
   "execution_count": 9,
   "metadata": {},
   "outputs": [
    {
     "data": {
      "text/plain": [
       "JobResult(value=['computer performance', 'advice', 'maximumpc', 'computer parts', 'vendors', 'useful tests', 'old computer', 'maximize', 'tips', 'advice'], result_type=<ResultType.list: 'list'>, logs=[], metadata={}, created_at=1710816126, job_id=None)"
      ]
     },
     "execution_count": 9,
     "metadata": {},
     "output_type": "execute_result"
    }
   ],
   "source": [
    "# Try the function one a single message\n",
    "await get_keywords(messages[0])"
   ]
  },
  {
   "cell_type": "markdown",
   "metadata": {},
   "source": [
    "## Run the job on multiple messages\n",
    "\n",
    "Now, let's run the jobs on the dataset. \n",
    "\n",
    "### Without phospho\n",
    "\n",
    "With a simple for loop, you have to wait for a full API call to complete before running the next one. This takes a long time.  \n",
    "\n",
    "With **parallelism**, you can make multiple calls at the same time, but debugging becomes much harder.\n",
    "\n",
    "Moreover, OpenAI and model providers have set up **rate limits.** If you parallelize without care, you will reach rate limits of OpenAI, and your requests will fail.\n",
    "\n",
    "### With phospho\n",
    "\n",
    "phospho introduces the abstraction of a Workload. A workload is a set of jobs to run. "
   ]
  },
  {
   "cell_type": "code",
   "execution_count": 10,
   "metadata": {},
   "outputs": [
    {
     "name": "stderr",
     "output_type": "stream",
     "text": [
      "No job_config provided. Running with empty config\n"
     ]
    }
   ],
   "source": [
    "workload = lab.Workload(jobs=[lab.Job(job_function=get_keywords)])"
   ]
  },
  {
   "cell_type": "markdown",
   "metadata": {},
   "source": [
    "A workload offers quick configuration for the problem presented before:\n",
    "- `executor_mode`: switch between `sequential` to debug and `parallel` to parallelize API cals\n",
    "- `max_parallelism`: slow down purposefuly the number of requests per second to avoid being rate limited.\n",
    "\n",
    "Here is how to run a workload."
   ]
  },
  {
   "cell_type": "code",
   "execution_count": 11,
   "metadata": {},
   "outputs": [
    {
     "name": "stderr",
     "output_type": "stream",
     "text": [
      "  0%|          | 0/100 [00:00<?, ?it/s]"
     ]
    },
    {
     "name": "stderr",
     "output_type": "stream",
     "text": [
      "100%|██████████| 100/100 [00:08<00:00, 11.78it/s]\n"
     ]
    },
    {
     "data": {
      "text/plain": [
       "{'0': {'get_keywords': JobResult(value=['computer performance', 'advice', 'maximization', 'maximumpc', 'computer parts', 'vendors', 'useful tests', 'tips'], result_type=<ResultType.list: 'list'>, logs=[], metadata={}, created_at=1710816127, job_id='get_keywords')},\n",
       " '1': {'get_keywords': JobResult(value=[\"men's magazine\", 'articles', 'stories', 'know & tell', 'last page', 'interview', 'celebrity', \"mature men's mags\"], result_type=<ResultType.list: 'list'>, logs=[], metadata={}, created_at=1710816127, job_id='get_keywords')},\n",
       " '2': {'get_keywords': JobResult(value=['self-image', 'status symbol', 'materialism', 'lifestyle', 'personal value', 'societal rank', 'consumerism', 'appearance', 'magazine target audience', 'societal norms'], result_type=<ResultType.list: 'list'>, logs=[], metadata={}, created_at=1710816127, job_id='get_keywords')},\n",
       " '3': {'get_keywords': JobResult(value=['advertisement', 'little content'], result_type=<ResultType.list: 'list'>, logs=[], metadata={}, created_at=1710816127, job_id='get_keywords')},\n",
       " '4': {'get_keywords': JobResult(value=['pc magazine', 'replacement', 'technology information', 'white paper', 'aes data security', 'user questions', 'features', 'news', 'reviews', 'computer field coverage'], result_type=<ResultType.list: 'list'>, logs=[], metadata={}, created_at=1710816127, job_id='get_keywords')},\n",
       " '5': {'get_keywords': JobResult(value=['lifestyle articles', 'length of articles', 'target audience', 'metrosexual lifestyle', 'price point', 'investment value', 'in-depthness of details', 'content topics', 'review length', 'monthly interest'], result_type=<ResultType.list: 'list'>, logs=[], metadata={}, created_at=1710816127, job_id='get_keywords')},\n",
       " '6': {'get_keywords': JobResult(value=['pc magazine', 'upgrades', 'hardware info', 'tips', 'tricks', 'great price'], result_type=<ResultType.list: 'list'>, logs=[], metadata={}, created_at=1710816127, job_id='get_keywords')},\n",
       " '7': {'get_keywords': JobResult(value=[\"men's lifestyle magazine\", 'diversity in content', 'eye-catching headlines', 'explicit language', 'offensiveness in content', 'advertisements', 'high fashion focus', 'controversial content', 'product reviews', 'opinion on magazine'], result_type=<ResultType.list: 'list'>, logs=[], metadata={}, created_at=1710816128, job_id='get_keywords')},\n",
       " '8': {'get_keywords': JobResult(value=['electronics magazine', 'product reviews', 'instructional articles', 'technical nature', 'educational content', 'question and answer sessions', 'variety of articles', 'technology enthusiasts', 'electronics knowledge', 'young and middle-aged adults'], result_type=<ResultType.list: 'list'>, logs=[], metadata={}, created_at=1710816128, job_id='get_keywords')},\n",
       " '9': {'get_keywords': JobResult(value=['maximum pc', 'cd subscription', 'pc gamer', 'price comparison', 'head 2 head', 'yahoo! mail vs hotmail', 'pc magazine', 'independent magazine', 'review', 'subscription price'], result_type=<ResultType.list: 'list'>, logs=[], metadata={}, created_at=1710816127, job_id='get_keywords')},\n",
       " '10': {'get_keywords': JobResult(value=['glamour magazine', 'long-time reader', 'fashion articles', 'beautiful clothes'], result_type=<ResultType.list: 'list'>, logs=[], metadata={}, created_at=1710816128, job_id='get_keywords')},\n",
       " '11': {'get_keywords': JobResult(value=['magazine content', 'ads and coupons', 'thinner paper quality', 'home and garden ideas', 'seasonal themes', 'recipe quality', 'community gardening', 'remodeling tips', 'potted plants', 'letter writing'], result_type=<ResultType.list: 'list'>, logs=[], metadata={}, created_at=1710816128, job_id='get_keywords')},\n",
       " '12': {'get_keywords': JobResult(value=['magazine subscriptions', 'better homes and garden', 'country living', 'house & garden', 'gardening hints', 'recipes', 'value for money', 'recommendations', 'reading experience'], result_type=<ResultType.list: 'list'>, logs=[], metadata={}, created_at=1710816128, job_id='get_keywords')},\n",
       " '13': {'get_keywords': JobResult(value=['decorating project ideas', 'yours for the asking section', 'kids project section', 'cartoons', 'pictures of bright sunny day', 'open kitchens', 'lush gardens', 'recipe section', 'petite caramel apple recipe', 'the rebecca review'], result_type=<ResultType.list: 'list'>, logs=[], metadata={}, created_at=1710816128, job_id='get_keywords')},\n",
       " '14': {'get_keywords': JobResult(value=[\"men's health\", 'gym articles', 'workout routines', 'male perspective', 'personality', 'entertaining', \"men's reactions\", 'magazine', 'useful content'], result_type=<ResultType.list: 'list'>, logs=[], metadata={}, created_at=1710816128, job_id='get_keywords')},\n",
       " '15': {'get_keywords': JobResult(value=['magazine', 'sale ads', 'content saturation'], result_type=<ResultType.list: 'list'>, logs=[], metadata={}, created_at=1710816128, job_id='get_keywords')},\n",
       " '16': {'get_keywords': JobResult(value=['magazine', 'love', 'satisfaction', 'quality', 'content', 'subscription', 'delivery', 'packaging', 'reading', 'enjoyment'], result_type=<ResultType.list: 'list'>, logs=[], metadata={}, created_at=1710816128, job_id='get_keywords')},\n",
       " '17': {'get_keywords': JobResult(value=['fun', 'entertainment', 'enjoyable', 'interaction', 'user experience', 'engaging', 'amusing', 'pleasurable', 'exciting', 'pleasing'], result_type=<ResultType.list: 'list'>, logs=[], metadata={}, created_at=1710816128, job_id='get_keywords')},\n",
       " '18': {'get_keywords': JobResult(value=['articles', 'photos', 'inspiring', 'variations', 'workouts'], result_type=<ResultType.list: 'list'>, logs=[], metadata={}, created_at=1710816128, job_id='get_keywords')},\n",
       " '19': {'get_keywords': JobResult(value=[\"men's products\", 'gender-specific items', 'masculine merchandise'], result_type=<ResultType.list: 'list'>, logs=[], metadata={}, created_at=1710816128, job_id='get_keywords')},\n",
       " '20': {'get_keywords': JobResult(value=['magazine', 'good info', 'repetitive', 'reminders'], result_type=<ResultType.list: 'list'>, logs=[], metadata={}, created_at=1710816128, job_id='get_keywords')},\n",
       " '21': {'get_keywords': JobResult(value=['magazine delivery', 'change of address', 'subscription issue', 'customer service', 'moving', 'address update', 'delivery problem'], result_type=<ResultType.list: 'list'>, logs=[], metadata={}, created_at=1710816129, job_id='get_keywords')},\n",
       " '22': {'get_keywords': JobResult(value=['glamour magazine', 'up-to-date information', 'well-written articles', 'great photos'], result_type=<ResultType.list: 'list'>, logs=[], metadata={}, created_at=1710816129, job_id='get_keywords')},\n",
       " '23': {'get_keywords': JobResult(value=['excellent conditions', 'well packed', 'new', 'no defect', 'as expected'], result_type=<ResultType.list: 'list'>, logs=[], metadata={}, created_at=1710816129, job_id='get_keywords')},\n",
       " '24': {'get_keywords': JobResult(value=['gift', 'purchase', 'recipient', 'present'], result_type=<ResultType.list: 'list'>, logs=[], metadata={}, created_at=1710816129, job_id='get_keywords')},\n",
       " '25': {'get_keywords': JobResult(value=['magazine', 'sweetheart', 'loves'], result_type=<ResultType.list: 'list'>, logs=[], metadata={}, created_at=1710816129, job_id='get_keywords')},\n",
       " '26': {'get_keywords': JobResult(value=[\"children's book\", 'engaging', 'reading', 'discussion prompts'], result_type=<ResultType.list: 'list'>, logs=[], metadata={}, created_at=1710816129, job_id='get_keywords')},\n",
       " '27': {'get_keywords': JobResult(value=['great deal', 'office'], result_type=<ResultType.list: 'list'>, logs=[], metadata={}, created_at=1710816129, job_id='get_keywords')},\n",
       " '28': {'get_keywords': JobResult(value=['gift idea', 'science lover', 'variety of articles', 'pictures', 'technology', 'ever-changing', 'new technology', 'e-commerce', 'innovative', 'engaging'], result_type=<ResultType.list: 'list'>, logs=[], metadata={}, created_at=1710816129, job_id='get_keywords')},\n",
       " '29': {'get_keywords': JobResult(value=['magazine subscription', 'amazon deals', 'auto subscribe', 'parental information', 'retirement', 'reading preferences', 'content relevance to reader', 'target audience', 'convenience of flipping through', 'personalization options'], result_type=<ResultType.list: 'list'>, logs=[], metadata={}, created_at=1710816130, job_id='get_keywords')},\n",
       " '30': {'get_keywords': JobResult(value=['living space decor', 'home improvement', 'interior design', 'furniture', 'shopping experience', 'online shopping', 'product quality', 'delivery time', 'customer service', 'value for money'], result_type=<ResultType.list: 'list'>, logs=[], metadata={}, created_at=1710816129, job_id='get_keywords')},\n",
       " '31': {'get_keywords': JobResult(value=['ideas', 'decorating', 'recipes'], result_type=<ResultType.list: 'list'>, logs=[], metadata={}, created_at=1710816129, job_id='get_keywords')},\n",
       " '32': {'get_keywords': JobResult(value=['magazines', 'reading', 'content', 'appealing articles', 'humor', 'advice', 'enjoyment', 'regular reading', 'arrival excitement', 'content relevance'], result_type=<ResultType.list: 'list'>, logs=[], metadata={}, created_at=1710816129, job_id='get_keywords')},\n",
       " '33': {'get_keywords': JobResult(value=[\"men's health subscription\", 'fitness', 'magazine', 'subscription', 'health and wellness', 'lifestyle', 'targeted audience', 'interest-specific', 'relevance', 'content quality'], result_type=<ResultType.list: 'list'>, logs=[], metadata={}, created_at=1710816130, job_id='get_keywords')},\n",
       " '34': {'get_keywords': JobResult(value=['subscription price sharing', 'magazine content', 'good ideas', 'personal relevance'], result_type=<ResultType.list: 'list'>, logs=[], metadata={}, created_at=1710816129, job_id='get_keywords')},\n",
       " '35': {'get_keywords': JobResult(value=['magazine', 'favorite', 'subscription', 'content', 'articles', 'reading', 'issue', 'delivery'], result_type=<ResultType.list: 'list'>, logs=[], metadata={}, created_at=1710816129, job_id='get_keywords')},\n",
       " '36': {'get_keywords': JobResult(value=['cheap subscription', 'easy to read layout', 'kindle fire hd'], result_type=<ResultType.list: 'list'>, logs=[], metadata={}, created_at=1710816129, job_id='get_keywords')},\n",
       " '37': {'get_keywords': JobResult(value=['magazine subscription', 'age demographic', \"men's health\", \"women's health\", 'fitness programs', 'motivation', 'food recipes', 'print and digital edition', 'reader demographics', 'content overlap'], result_type=<ResultType.list: 'list'>, logs=[], metadata={}, created_at=1710816130, job_id='get_keywords')},\n",
       " '38': {'get_keywords': JobResult(value=['glamour magazine', 'fashion trends', 'layering clothes', 'shopping', 'new trends', 'articles', 'life lessons', 'magazine changes', 'fashion', 'lifestyle issues'], result_type=<ResultType.list: 'list'>, logs=[], metadata={}, created_at=1710816130, job_id='get_keywords')},\n",
       " '39': {'get_keywords': JobResult(value=['content', 'diversity', 'material'], result_type=<ResultType.list: 'list'>, logs=[], metadata={}, created_at=1710816130, job_id='get_keywords')},\n",
       " '40': {'get_keywords': JobResult(value=['grandmother', 'happy'], result_type=<ResultType.list: 'list'>, logs=[], metadata={}, created_at=1710816130, job_id='get_keywords')},\n",
       " '41': {'get_keywords': JobResult(value=['glamour magazine', 'careers', 'relationships', 'beauty', 'fashion', 'women in their twenties and thirties', 'smart', 'sassy', 'sexy', 'entertaining'], result_type=<ResultType.list: 'list'>, logs=[], metadata={}, created_at=1710816130, job_id='get_keywords')},\n",
       " '42': {'get_keywords': JobResult(value=['subscription service', 'monthly delivery', 'enjoyable experience'], result_type=<ResultType.list: 'list'>, logs=[], metadata={}, created_at=1710816130, job_id='get_keywords')},\n",
       " '43': {'get_keywords': JobResult(value=['advertising', 'spam', 'promotional content'], result_type=<ResultType.list: 'list'>, logs=[], metadata={}, created_at=1710816130, job_id='get_keywords')},\n",
       " '44': {'get_keywords': JobResult(value=['subscription', 'years', 'beautiful pictures'], result_type=<ResultType.list: 'list'>, logs=[], metadata={}, created_at=1710816130, job_id='get_keywords')},\n",
       " '45': {'get_keywords': JobResult(value=['magazine', 'helpful articles', 'baking', 'cosmetics', 'e-commerce'], result_type=<ResultType.list: 'list'>, logs=[], metadata={}, created_at=1710816130, job_id='get_keywords')},\n",
       " '46': {'get_keywords': JobResult(value=['product quality', 'delivery time', 'customer service', 'user experience', 'pricing', 'product variety', 'packaging', 'refund policy', 'website navigation', 'communication'], result_type=<ResultType.list: 'list'>, logs=[], metadata={}, created_at=1710816131, job_id='get_keywords')},\n",
       " '47': {'get_keywords': JobResult(value=['decorating ideas', 'home decor', 'interior design'], result_type=<ResultType.list: 'list'>, logs=[], metadata={}, created_at=1710816130, job_id='get_keywords')},\n",
       " '48': {'get_keywords': JobResult(value=['good price', 'great magazine'], result_type=<ResultType.list: 'list'>, logs=[], metadata={}, created_at=1710816130, job_id='get_keywords')},\n",
       " '49': {'get_keywords': JobResult(value=['excellent'], result_type=<ResultType.list: 'list'>, logs=[], metadata={}, created_at=1710816130, job_id='get_keywords')},\n",
       " '50': {'get_keywords': JobResult(value=['magazine', 'tips', 'articles', 'guy stuff', 'learning', 'fast-paced world', 'keeping up to date', 'e-commerce trends', 'informative', 'lifestyle'], result_type=<ResultType.list: 'list'>, logs=[], metadata={}, created_at=1710816131, job_id='get_keywords')},\n",
       " '51': {'get_keywords': JobResult(value=['magazine', 'like', 'find', 'favorite', 'content'], result_type=<ResultType.list: 'list'>, logs=[], metadata={}, created_at=1710816131, job_id='get_keywords')},\n",
       " '52': {'get_keywords': JobResult(value=['value for money', 'paper magazines', 'good deal'], result_type=<ResultType.list: 'list'>, logs=[], metadata={}, created_at=1710816131, job_id='get_keywords')},\n",
       " '53': {'get_keywords': JobResult(value=['magazine', 'price', 'sharing', 'family', 'enjoyment', 'generosity', 'satisfaction', 'community', 'gratitude', 'pass it on'], result_type=<ResultType.list: 'list'>, logs=[], metadata={}, created_at=1710816131, job_id='get_keywords')},\n",
       " '54': {'get_keywords': JobResult(value=['handyman magazine', 'wood magazine', 'patterns', 'articles', 'tips', 'cleaning brushes', 'subscription', 'information', 'e-commerce (implicitly mentioned through subscription)', 'satisfaction'], result_type=<ResultType.list: 'list'>, logs=[], metadata={}, created_at=1710816132, job_id='get_keywords')},\n",
       " '55': {'get_keywords': JobResult(value=['resourceful', 'helpful', 'informative'], result_type=<ResultType.list: 'list'>, logs=[], metadata={}, created_at=1710816131, job_id='get_keywords')},\n",
       " '56': {'get_keywords': JobResult(value=['magazine updates', 'style', 'projects', 'website', 'guest writers/bloggers', 'recommendations'], result_type=<ResultType.list: 'list'>, logs=[], metadata={}, created_at=1710816131, job_id='get_keywords')},\n",
       " '57': {'get_keywords': JobResult(value=['magazine', 'articles', 'quality', 'content', 'enjoyable', 'informative'], result_type=<ResultType.list: 'list'>, logs=[], metadata={}, created_at=1710816131, job_id='get_keywords')},\n",
       " '58': {'get_keywords': JobResult(value=['magazine'], result_type=<ResultType.list: 'list'>, logs=[], metadata={}, created_at=1710816131, job_id='get_keywords')},\n",
       " '59': {'get_keywords': JobResult(value=['great packing', 'good shipping time', 'as expected'], result_type=<ResultType.list: 'list'>, logs=[], metadata={}, created_at=1710816131, job_id='get_keywords')},\n",
       " '60': {'get_keywords': JobResult(value=['quickly shipped', 'loved', 'item'], result_type=<ResultType.list: 'list'>, logs=[], metadata={}, created_at=1710816131, job_id='get_keywords')},\n",
       " '61': {'get_keywords': JobResult(value=['magazine', 'home ideas', 'garden ideas', 'advertising', 'enjoyable'], result_type=<ResultType.list: 'list'>, logs=[], metadata={}, created_at=1710816131, job_id='get_keywords')},\n",
       " '62': {'get_keywords': JobResult(value=['wife', 'happy'], result_type=<ResultType.list: 'list'>, logs=[], metadata={}, created_at=1710816131, job_id='get_keywords')},\n",
       " '63': {'get_keywords': JobResult(value=['magazine', 'pictures', 'ideas', 'home decor', 'purchase satisfaction'], result_type=<ResultType.list: 'list'>, logs=[], metadata={}, created_at=1710816131, job_id='get_keywords')},\n",
       " '64': {'get_keywords': JobResult(value=['subscription', 'gym reading', 'home magazines', 'articles', 'price', 'value for money', 'content quality', 'relevancy', 'glossy pages', 'outdated information'], result_type=<ResultType.list: 'list'>, logs=[], metadata={}, created_at=1710816132, job_id='get_keywords')},\n",
       " '65': {'get_keywords': JobResult(value=['useful tips', 'instructions', 'ideas', 'knowledge', 'shortcuts', 'useful information', 'projects', 'magazine', 'e-commerce', 'reviews'], result_type=<ResultType.list: 'list'>, logs=[], metadata={}, created_at=1710816132, job_id='get_keywords')},\n",
       " '66': {'get_keywords': JobResult(value=[\"men's health magazine\", 'magazine content', 'advertisements', 'article length', 'lists', 'practical information', 'target audience', 'lifestyle depiction', 'reader perspective', 'appeal'], result_type=<ResultType.list: 'list'>, logs=[], metadata={}, created_at=1710816132, job_id='get_keywords')},\n",
       " '67': {'get_keywords': JobResult(value=['magazine'], result_type=<ResultType.list: 'list'>, logs=[], metadata={}, created_at=1710816131, job_id='get_keywords')},\n",
       " '68': {'get_keywords': JobResult(value=['subscription', 'gift', 'shipping', 'ordering', 'ease of use'], result_type=<ResultType.list: 'list'>, logs=[], metadata={}, created_at=1710816132, job_id='get_keywords')},\n",
       " '69': {'get_keywords': JobResult(value=['love', 'positive feedback', 'customer satisfaction', 'user experience', 'product appeal'], result_type=<ResultType.list: 'list'>, logs=[], metadata={}, created_at=1710816132, job_id='get_keywords')},\n",
       " '70': {'get_keywords': JobResult(value=['magazine', 'advertisements', 'dislike'], result_type=<ResultType.list: 'list'>, logs=[], metadata={}, created_at=1710816132, job_id='get_keywords')},\n",
       " '71': {'get_keywords': JobResult(value=['articles', 'recipes', 'subscription', 'generations', 'family tradition'], result_type=<ResultType.list: 'list'>, logs=[], metadata={}, created_at=1710816132, job_id='get_keywords')},\n",
       " '72': {'get_keywords': JobResult(value=['magazine', 'love', 'product', 'content', 'subscription', 'reading', 'informative', 'enjoyable', 'e-commerce', 'recommendation'], result_type=<ResultType.list: 'list'>, logs=[], metadata={}, created_at=1710816132, job_id='get_keywords')},\n",
       " '73': {'get_keywords': JobResult(value=['magazine', 'garden tips', 'home remodeling', 'flower care', 'ideas', 'inspiration', 'house renovation', 'household tips', 'gardening', 'publication'], result_type=<ResultType.list: 'list'>, logs=[], metadata={}, created_at=1710816132, job_id='get_keywords')},\n",
       " '74': {'get_keywords': JobResult(value=['search satisfaction', 'product match', 'fulfillment efficiency'], result_type=<ResultType.list: 'list'>, logs=[], metadata={}, created_at=1710816132, job_id='get_keywords')},\n",
       " '75': {'get_keywords': JobResult(value=[\"men's magazine\", 'affluent young men', 'lifestyle content', 'expensive suits', 'beautiful women', 'health and fitness', 'manly dilemma', 'workout regimen', 'wit and humor', 'entertainment value'], result_type=<ResultType.list: 'list'>, logs=[], metadata={}, created_at=1710816133, job_id='get_keywords')},\n",
       " '76': {'get_keywords': JobResult(value=['reception room', 'served its purpose'], result_type=<ResultType.list: 'list'>, logs=[], metadata={}, created_at=1710816132, job_id='get_keywords')},\n",
       " '77': {'get_keywords': JobResult(value=['price', 'magazine', 'love'], result_type=<ResultType.list: 'list'>, logs=[], metadata={}, created_at=1710816132, job_id='get_keywords')},\n",
       " '78': {'get_keywords': JobResult(value=['magazine', 'great', 'signed up', 'receive', 'subscription'], result_type=<ResultType.list: 'list'>, logs=[], metadata={}, created_at=1710816133, job_id='get_keywords')},\n",
       " '79': {'get_keywords': JobResult(value=['gift for wife', 'good articles', 'great recipes'], result_type=<ResultType.list: 'list'>, logs=[], metadata={}, created_at=1710816133, job_id='get_keywords')},\n",
       " '80': {'get_keywords': JobResult(value=['reading'], result_type=<ResultType.list: 'list'>, logs=[], metadata={}, created_at=1710816133, job_id='get_keywords')},\n",
       " '81': {'get_keywords': JobResult(value=['high-quality', 'top-notch', 'exceptional quality'], result_type=<ResultType.list: 'list'>, logs=[], metadata={}, created_at=1710816133, job_id='get_keywords')},\n",
       " '82': {'get_keywords': JobResult(value=['articles'], result_type=<ResultType.list: 'list'>, logs=[], metadata={}, created_at=1710816132, job_id='get_keywords')},\n",
       " '83': {'get_keywords': JobResult(value=['popular mechanics magazine', 'duplicates', 'subscription manager', 'address issue'], result_type=<ResultType.list: 'list'>, logs=[], metadata={}, created_at=1710816133, job_id='get_keywords')},\n",
       " '84': {'get_keywords': JobResult(value=['favorite', 'product', 'purchase', 'e-commerce', 'satisfaction', 'delivery', 'quality', 'online shopping', 'customer experience', 'recommended'], result_type=<ResultType.list: 'list'>, logs=[], metadata={}, created_at=1710816133, job_id='get_keywords')},\n",
       " '85': {'get_keywords': JobResult(value=['magazines', 'ads', 'price'], result_type=<ResultType.list: 'list'>, logs=[], metadata={}, created_at=1710816133, job_id='get_keywords')},\n",
       " '86': {'get_keywords': JobResult(value=['print magazine', 'kindle', 'subscription', 'charged twice', 'cancellation', 'publisher', 'customer service', 'difficulty', 'worth my time', 'amazon'], result_type=<ResultType.list: 'list'>, logs=[], metadata={}, created_at=1710816133, job_id='get_keywords')},\n",
       " '87': {'get_keywords': JobResult(value=['perfect'], result_type=<ResultType.list: 'list'>, logs=[], metadata={}, created_at=1710816133, job_id='get_keywords')},\n",
       " '88': {'get_keywords': JobResult(value=['better homes and gardens', 'kindle hd7', 'magazine reading', 'e-reading', 'home improvement ideas', 'family care', 'long-time reader', 'favorite magazine', 'new way of reading', 'household tips'], result_type=<ResultType.list: 'list'>, logs=[], metadata={}, created_at=1710816134, job_id='get_keywords')},\n",
       " '89': {'get_keywords': JobResult(value=['magazine', 'husband', 'looks forward', 'monthly subscription', 'excitement', 'anticipation', 'enjoyment', 'new addition'], result_type=<ResultType.list: 'list'>, logs=[], metadata={}, created_at=1710816133, job_id='get_keywords')},\n",
       " '90': {'get_keywords': JobResult(value=['bh&g (better homes & gardens)', 'gardening', 'redecorating', 'renovating', 'magazine content', 'home decor', 'beautiful photos', 'ads', 'inserts', 'content quality'], result_type=<ResultType.list: 'list'>, logs=[], metadata={}, created_at=1710816134, job_id='get_keywords')},\n",
       " '91': {'get_keywords': JobResult(value=['better homes and garden', 'magazine', 'renewal', '2015', 'aspects', 'class'], result_type=<ResultType.list: 'list'>, logs=[], metadata={}, created_at=1710816134, job_id='get_keywords')},\n",
       " '92': {'get_keywords': JobResult(value=['ideas', 'great'], result_type=<ResultType.list: 'list'>, logs=[], metadata={}, created_at=1710816133, job_id='get_keywords')},\n",
       " '93': {'get_keywords': JobResult(value=['magazine', 'decorating', 'recipes', 'items', 'new', 'want'], result_type=<ResultType.list: 'list'>, logs=[], metadata={}, created_at=1710816134, job_id='get_keywords')},\n",
       " '94': {'get_keywords': JobResult(value=['subscription satisfaction', 'pleased customer', 'subscription service'], result_type=<ResultType.list: 'list'>, logs=[], metadata={}, created_at=1710816133, job_id='get_keywords')},\n",
       " '95': {'get_keywords': JobResult(value=['better homes and gardens magazine', 'house', 'garden', 'dream', 'lifestyle', 'aspiration'], result_type=<ResultType.list: 'list'>, logs=[], metadata={}, created_at=1710816134, job_id='get_keywords')},\n",
       " '96': {'get_keywords': JobResult(value=['satisfied', 'product quality', 'delivery time', 'customer service', 'user experience', 'pricing', 'packaging', 'easy to use', 'website navigation', 'product variety'], result_type=<ResultType.list: 'list'>, logs=[], metadata={}, created_at=1710816134, job_id='get_keywords')},\n",
       " '97': {'get_keywords': JobResult(value=['better homes', 'decorating', 'family living', 'food preparation', 'gardening', 'budget projects'], result_type=<ResultType.list: 'list'>, logs=[], metadata={}, created_at=1710816134, job_id='get_keywords')},\n",
       " '98': {'get_keywords': JobResult(value=['gluten-free recipes', 'consumer-driven content', 'budget remodeling', 'family and social issues', 'party planning', 'modern mom', 'disposable income', 'good housekeeping seal', 'quality of life', 'product recommendations'], result_type=<ResultType.list: 'list'>, logs=[], metadata={}, created_at=1710816134, job_id='get_keywords')},\n",
       " '99': {'get_keywords': JobResult(value=['magazine', 'audience targeting', 'article quality', 'interesting content', 'restaurant reviews', 'advertising', 'subscription value', 'gift idea', 'local government', 'high society advertising'], result_type=<ResultType.list: 'list'>, logs=[], metadata={}, created_at=1710816135, job_id='get_keywords')}}"
      ]
     },
     "execution_count": 11,
     "metadata": {},
     "output_type": "execute_result"
    }
   ],
   "source": [
    "# Run the workload on the messages\n",
    "await workload.async_run(\n",
    "    messages[:100], # Replace by messages to run on the whole dataset\n",
    "    executor_type=\"parallel\", # Run the job on every messages in parallel\n",
    "    max_parallelism=10, # Start at most 10 jobs per second to avoid rate limiting\n",
    ")"
   ]
  },
  {
   "cell_type": "markdown",
   "metadata": {},
   "source": [
    "Results are stored in the workload, in a dictionary: `message_id -> job_id -> JobResult`"
   ]
  },
  {
   "cell_type": "code",
   "execution_count": 12,
   "metadata": {},
   "outputs": [
    {
     "data": {
      "text/plain": [
       "{'get_keywords': JobResult(value=['computer performance', 'advice', 'maximization', 'maximumpc', 'computer parts', 'vendors', 'useful tests', 'tips'], result_type=<ResultType.list: 'list'>, logs=[], metadata={}, created_at=1710816127, job_id='get_keywords')}"
      ]
     },
     "execution_count": 12,
     "metadata": {},
     "output_type": "execute_result"
    }
   ],
   "source": [
    "workload.results[\"0\"]"
   ]
  },
  {
   "cell_type": "markdown",
   "metadata": {},
   "source": [
    "## Display results\n",
    "\n",
    "Now that we ran the keyword detection on our dataset, let's get the results in a format more adapted for analytics."
   ]
  },
  {
   "cell_type": "code",
   "execution_count": 13,
   "metadata": {},
   "outputs": [
    {
     "data": {
      "text/html": [
       "<div>\n",
       "<style scoped>\n",
       "    .dataframe tbody tr th:only-of-type {\n",
       "        vertical-align: middle;\n",
       "    }\n",
       "\n",
       "    .dataframe tbody tr th {\n",
       "        vertical-align: top;\n",
       "    }\n",
       "\n",
       "    .dataframe thead th {\n",
       "        text-align: right;\n",
       "    }\n",
       "</style>\n",
       "<table border=\"1\" class=\"dataframe\">\n",
       "  <thead>\n",
       "    <tr style=\"text-align: right;\">\n",
       "      <th></th>\n",
       "      <th>get_keywords</th>\n",
       "    </tr>\n",
       "  </thead>\n",
       "  <tbody>\n",
       "    <tr>\n",
       "      <th>0</th>\n",
       "      <td>[computer performance, advice, maximization, m...</td>\n",
       "    </tr>\n",
       "    <tr>\n",
       "      <th>1</th>\n",
       "      <td>[men's magazine, articles, stories, know &amp; tel...</td>\n",
       "    </tr>\n",
       "    <tr>\n",
       "      <th>10</th>\n",
       "      <td>[glamour magazine, long-time reader, fashion a...</td>\n",
       "    </tr>\n",
       "  </tbody>\n",
       "</table>\n",
       "</div>"
      ],
      "text/plain": [
       "                                         get_keywords\n",
       "0   [computer performance, advice, maximization, m...\n",
       "1   [men's magazine, articles, stories, know & tel...\n",
       "10  [glamour magazine, long-time reader, fashion a..."
      ]
     },
     "execution_count": 13,
     "metadata": {},
     "output_type": "execute_result"
    }
   ],
   "source": [
    "# In this df, the index is the message_id, and the column is the job_id\n",
    "results_df = workload.results_df()\n",
    "results_df.head(3)"
   ]
  },
  {
   "cell_type": "markdown",
   "metadata": {},
   "source": [
    "And join back the outputs with the original dataframe. "
   ]
  },
  {
   "cell_type": "code",
   "execution_count": 14,
   "metadata": {},
   "outputs": [
    {
     "data": {
      "text/html": [
       "<div>\n",
       "<style scoped>\n",
       "    .dataframe tbody tr th:only-of-type {\n",
       "        vertical-align: middle;\n",
       "    }\n",
       "\n",
       "    .dataframe tbody tr th {\n",
       "        vertical-align: top;\n",
       "    }\n",
       "\n",
       "    .dataframe thead th {\n",
       "        text-align: right;\n",
       "    }\n",
       "</style>\n",
       "<table border=\"1\" class=\"dataframe\">\n",
       "  <thead>\n",
       "    <tr style=\"text-align: right;\">\n",
       "      <th></th>\n",
       "      <th>get_keywords</th>\n",
       "      <th>overall</th>\n",
       "      <th>verified</th>\n",
       "      <th>reviewTime</th>\n",
       "      <th>reviewerID</th>\n",
       "      <th>asin</th>\n",
       "      <th>reviewerName</th>\n",
       "      <th>reviewText</th>\n",
       "      <th>summary</th>\n",
       "      <th>unixReviewTime</th>\n",
       "      <th>vote</th>\n",
       "      <th>style</th>\n",
       "      <th>image</th>\n",
       "      <th>id</th>\n",
       "    </tr>\n",
       "  </thead>\n",
       "  <tbody>\n",
       "    <tr>\n",
       "      <th>0</th>\n",
       "      <td>[computer performance, advice, maximization, m...</td>\n",
       "      <td>4</td>\n",
       "      <td>True</td>\n",
       "      <td>02 26, 2014</td>\n",
       "      <td>A5QQOOZJOVPSF</td>\n",
       "      <td>B00005N7P0</td>\n",
       "      <td>John L. Mehlmauer</td>\n",
       "      <td>I'm old, and so is my computer.  Any advice th...</td>\n",
       "      <td>Cheapskates guide</td>\n",
       "      <td>1393372800</td>\n",
       "      <td>NaN</td>\n",
       "      <td>NaN</td>\n",
       "      <td>NaN</td>\n",
       "      <td>0</td>\n",
       "    </tr>\n",
       "    <tr>\n",
       "      <th>1</th>\n",
       "      <td>[men's magazine, articles, stories, know &amp; tel...</td>\n",
       "      <td>5</td>\n",
       "      <td>False</td>\n",
       "      <td>03 6, 2004</td>\n",
       "      <td>A5RHZE7B8SV5Q</td>\n",
       "      <td>B00005N7PS</td>\n",
       "      <td>gorillazfan249</td>\n",
       "      <td>There's nothing to say, but if you want a REAL...</td>\n",
       "      <td>The best mature Men's magazine.</td>\n",
       "      <td>1078531200</td>\n",
       "      <td>3.0</td>\n",
       "      <td>NaN</td>\n",
       "      <td>NaN</td>\n",
       "      <td>1</td>\n",
       "    </tr>\n",
       "    <tr>\n",
       "      <th>10</th>\n",
       "      <td>[glamour magazine, long-time reader, fashion a...</td>\n",
       "      <td>5</td>\n",
       "      <td>True</td>\n",
       "      <td>06 12, 2017</td>\n",
       "      <td>A2VRQ8RNTKY1XT</td>\n",
       "      <td>B00005N7QC</td>\n",
       "      <td>Barbara M. Fox</td>\n",
       "      <td>I love glamour mag. I have read it for over 25...</td>\n",
       "      <td>Great magazine</td>\n",
       "      <td>1497225600</td>\n",
       "      <td>NaN</td>\n",
       "      <td>{'Format:': ' Kindle Edition'}</td>\n",
       "      <td>NaN</td>\n",
       "      <td>10</td>\n",
       "    </tr>\n",
       "  </tbody>\n",
       "</table>\n",
       "</div>"
      ],
      "text/plain": [
       "                                         get_keywords  overall  verified  \\\n",
       "0   [computer performance, advice, maximization, m...        4      True   \n",
       "1   [men's magazine, articles, stories, know & tel...        5     False   \n",
       "10  [glamour magazine, long-time reader, fashion a...        5      True   \n",
       "\n",
       "     reviewTime      reviewerID        asin       reviewerName  \\\n",
       "0   02 26, 2014   A5QQOOZJOVPSF  B00005N7P0  John L. Mehlmauer   \n",
       "1    03 6, 2004   A5RHZE7B8SV5Q  B00005N7PS     gorillazfan249   \n",
       "10  06 12, 2017  A2VRQ8RNTKY1XT  B00005N7QC     Barbara M. Fox   \n",
       "\n",
       "                                           reviewText  \\\n",
       "0   I'm old, and so is my computer.  Any advice th...   \n",
       "1   There's nothing to say, but if you want a REAL...   \n",
       "10  I love glamour mag. I have read it for over 25...   \n",
       "\n",
       "                            summary  unixReviewTime  vote  \\\n",
       "0                 Cheapskates guide      1393372800   NaN   \n",
       "1   The best mature Men's magazine.      1078531200   3.0   \n",
       "10                   Great magazine      1497225600   NaN   \n",
       "\n",
       "                             style image  id  \n",
       "0                              NaN   NaN   0  \n",
       "1                              NaN   NaN   1  \n",
       "10  {'Format:': ' Kindle Edition'}   NaN  10  "
      ]
     },
     "execution_count": 14,
     "metadata": {},
     "output_type": "execute_result"
    }
   ],
   "source": [
    "augmented_messages_df = results_df.merge(messages_df, left_index=True, right_on=\"id\")\n",
    "augmented_messages_df.head(3)"
   ]
  },
  {
   "cell_type": "code",
   "execution_count": 15,
   "metadata": {},
   "outputs": [
    {
     "name": "stdout",
     "output_type": "stream",
     "text": [
      "Number of different keywords extracted: 443\n"
     ]
    }
   ],
   "source": [
    "print(\"Number of different keywords extracted:\", augmented_messages_df[\"get_keywords\"].explode().nunique())"
   ]
  },
  {
   "cell_type": "markdown",
   "metadata": {},
   "source": [
    "We can now have tons of fun with the extracted keywords and do all kind of data analytics. "
   ]
  },
  {
   "cell_type": "code",
   "execution_count": 16,
   "metadata": {},
   "outputs": [
    {
     "data": {
      "text/plain": [
       "<Axes: title={'center': 'Most common keywords in the dataset'}, xlabel='get_keywords'>"
      ]
     },
     "execution_count": 16,
     "metadata": {},
     "output_type": "execute_result"
    },
    {
     "data": {
      "image/png": "[encoded data removed]",
      "text/plain": [
       "<Figure size 1000x500 with 1 Axes>"
      ]
     },
     "metadata": {},
     "output_type": "display_data"
    }
   ],
   "source": [
    "# Eg: Count the number of messages that contain a specific keyword\n",
    "\n",
    "keywords_to_count = augmented_messages_df.explode(\"get_keywords\").groupby(\"get_keywords\").size().sort_values(ascending=False)\n",
    "\n",
    "keywords_to_count.head(20).plot(kind=\"bar\", figsize=(10, 5), title=\"Most common keywords in the dataset\")"
   ]
  },
  {
   "cell_type": "markdown",
   "metadata": {},
   "source": [
    "## Bonus: Use the previous results of the job\n",
    "\n",
    "This PoC was cool, but all the Job execution are independent. \n",
    "\n",
    "Let's say that you want to **use the previous results of the job** as context for the current message. For example, to anchor the LLM with the current keywords found.\n",
    "\n",
    "There are multiple ways to do it. \n",
    "\n",
    "### With phospho\n",
    "\n",
    "With phospho, one cool way is to set a `job` argument to the job function. At runtime, `job` is then a reference to the current lab.Job and contains all results so far."
   ]
  },
  {
   "cell_type": "code",
   "execution_count": 17,
   "metadata": {},
   "outputs": [],
   "source": [
    "async def get_keywords_previous_results(\n",
    "    message: lab.Message,\n",
    "    job: lab.Job = None, # Add the job as an argument\n",
    "    model: str=\"openai:gpt-3.5-turbo\",\n",
    ") -> lab.JobResult:\n",
    "    \"\"\"\n",
    "    This function uses OpenAI GPT to extract keywords from a given message.\n",
    "\n",
    "    It also uses the previous results of the job to provide context to the LLM.\n",
    "    The job argument is used to access the previous results.\n",
    "    \"\"\"\n",
    "    provider, model_name = lab.get_provider_and_model(model)\n",
    "    openai_client = lab.get_async_client(provider)\n",
    "\n",
    "    # Using the reference to the job, we can access the results of the other jobs\n",
    "    # to use them as context for the current job\n",
    "    previous_keywords = []\n",
    "    if job:\n",
    "        # Get the previous results\n",
    "        previous_job_results = job.results.values()\n",
    "        # Let's flatten the list of lists of keywords\n",
    "        previous_keywords = [keyword for result in previous_job_results for keyword in result.value]\n",
    "\n",
    "    prompt = \"You are an annotator reading Amazon product reviews. Your job is to label \\\n",
    "    each review with topics that describe important topics covered in the review, relevant \\\n",
    "    to the e-commerce domain. Do not include generic topics such as 'good', 'bad', 'interesting', etc.\"\n",
    "    \n",
    "    # If there are previous results, we add them to the prompt\n",
    "    if len(previous_keywords) > 0:\n",
    "        prompt += f\"\"\"\n",
    "        So far, you've reviewed {len(previous_job_results)} reviews, and the keywords you've found are:\n",
    "        {\", \".join(previous_keywords)}\n",
    "\n",
    "        If possible, reuse the existing topics to label the current review. Do not add \n",
    "        variations of the same topics.\"\"\"\n",
    "\n",
    "    prompt = f\"\"\"The review is: \n",
    "    {message.content}\n",
    "\n",
    "    Return a list of max 10 keywords as a bullet point list: `- keyword1\\n- keyword2\\n- keyword3`\n",
    "    Keywords:\"\"\"\n",
    "\n",
    "    response = await openai_client.chat.completions.create(\n",
    "        model=\"gpt-3.5-turbo\",\n",
    "        messages=[\n",
    "            {\n",
    "                \"role\": \"system\",\n",
    "                \"content\": \"You are a business analyst, expert in e-commerce.\",\n",
    "            },\n",
    "            {\"role\": \"user\", \"content\": prompt},\n",
    "        ],\n",
    "    )\n",
    "\n",
    "    response = response.choices[0].message.content\n",
    "    keywords = re.findall(r\"- (.*)\", response)\n",
    "    keywords = [keyword.strip().lower() for keyword in keywords]\n",
    "    return lab.JobResult(\n",
    "        value=keywords,\n",
    "        result_type=lab.ResultType.list,\n",
    "    )"
   ]
  },
  {
   "cell_type": "markdown",
   "metadata": {},
   "source": [
    "Let's run this job. \n",
    "\n",
    "Note that we are still running the jobs in parallel! This means that the existing results won't always be available at the start. "
   ]
  },
  {
   "cell_type": "code",
   "execution_count": 18,
   "metadata": {},
   "outputs": [
    {
     "name": "stderr",
     "output_type": "stream",
     "text": [
      "No job_config provided. Running with empty config\n",
      "100%|██████████| 100/100 [00:10<00:00,  9.95it/s]"
     ]
    },
    {
     "name": "stdout",
     "output_type": "stream",
     "text": [
      "Number of different keywords extracted: 570\n"
     ]
    },
    {
     "name": "stderr",
     "output_type": "stream",
     "text": [
      "\n"
     ]
    },
    {
     "data": {
      "image/png": "[encoded data removed]",
      "text/plain": [
       "<Figure size 1000x500 with 1 Axes>"
      ]
     },
     "metadata": {},
     "output_type": "display_data"
    }
   ],
   "source": [
    "# Create workload\n",
    "workload = lab.Workload(jobs=[lab.Job(job_function=get_keywords_previous_results)])\n",
    "\n",
    "# Run\n",
    "await workload.async_run(\n",
    "    messages[:100], \n",
    "    executor_type=\"parallel\",\n",
    "    max_parallelism=10, \n",
    ")\n",
    "\n",
    "# Display results\n",
    "results_df = workload.results_df()\n",
    "augmented_messages_df = results_df.merge(messages_df, left_index=True, right_on=\"id\")\n",
    "\n",
    "keywords_to_count = (\n",
    "    augmented_messages_df.explode(\"get_keywords_previous_results\")\n",
    "    .groupby(\"get_keywords_previous_results\")\n",
    "    .size()\n",
    "    .sort_values(ascending=False)\n",
    ")\n",
    "keywords_to_count.head(20).plot(\n",
    "    kind=\"bar\", figsize=(10, 5), title=\"Most common keywords in the dataset\"\n",
    ")\n",
    "\n",
    "print(\"Number of different keywords extracted:\", augmented_messages_df[\"get_keywords_previous_results\"].explode().nunique())"
   ]
  },
  {
   "cell_type": "markdown",
   "metadata": {},
   "source": [
    "### Reuse the results from another job\n",
    "\n",
    "Likewise, you can set a `workload` argument. This lets you also use results on other jobs to augment the result of the current one.\n",
    "\n",
    "Let's use this to **run the topic extraction on GPT-4 first on a subsample,** and then use GPT-3.5."
   ]
  },
  {
   "cell_type": "code",
   "execution_count": 19,
   "metadata": {},
   "outputs": [],
   "source": [
    "async def get_keywords_previous_jobs(\n",
    "    message: lab.Message,\n",
    "    workload: lab.Workload = None, # Add the job as an argument\n",
    "    model: str=\"openai:gpt-3.5-turbo\",\n",
    ") -> lab.JobResult:\n",
    "    \"\"\"\n",
    "    This function uses OpenAI GPT to extract keywords from a given message.\n",
    "\n",
    "    It uses the results of the previous jobs to provide context to the current job.\n",
    "    The workload argument is used to access the results of the previous jobs.\n",
    "    The previous jobs are expected to be named `get_keywords`.\n",
    "\n",
    "    If the message.id was already processed, the previous result is returned.\n",
    "    \"\"\"\n",
    "    provider, model_name = lab.get_provider_and_model(model)\n",
    "    openai_client = lab.get_async_client(provider)\n",
    "\n",
    "    # Using the reference to the job, we can access the results of the other jobs\n",
    "    # to use them as context for the current job\n",
    "    previous_keywords = []\n",
    "    if workload:\n",
    "        # Get the previous results of the job `get_keywords` \n",
    "        previous_job_results = workload.jobs[\"get_keywords\"].results.values()\n",
    "        # Filter out None results\n",
    "        previous_job_results = [result for result in previous_job_results if result]\n",
    "\n",
    "        # If this message.id was already processed, we return the previous result\n",
    "        if message.id in previous_job_results:\n",
    "            return previous_job_results[message.id]\n",
    "\n",
    "        # Otherwise, let's flatten the list of lists of keywords\n",
    "        previous_keywords = [keyword for result in previous_job_results for keyword in result.value]\n",
    "\n",
    "    prompt = \"You are an annotator reading Amazon product reviews. Your job is to label \\\n",
    "    each review with topics that describe important topics covered in the review, relevant \\\n",
    "    to the e-commerce domain. Do not include generic topics such as 'good', 'bad', 'interesting', etc.\"\n",
    "    \n",
    "    # If there are previous results, we add them to the prompt\n",
    "    if len(previous_keywords) > 0:\n",
    "        prompt += f\"\"\"\n",
    "        So far, you've reviewed {len(previous_job_results)} reviews, and the keywords you've found are:\n",
    "        {\", \".join(previous_keywords)}\n",
    "\n",
    "        If possible, reuse the existing topics to label the current review. Do not add \n",
    "        variations of the same topics.\"\"\"\n",
    "\n",
    "    prompt = f\"\"\"The review is: \n",
    "    {message.content}\n",
    "\n",
    "    Return a list of max 10 keywords as a bullet point list: `- keyword1\\n- keyword2\\n- keyword3`\n",
    "    Keywords:\"\"\"\n",
    "\n",
    "    response = await openai_client.chat.completions.create(\n",
    "        model=\"gpt-3.5-turbo\",\n",
    "        messages=[\n",
    "            {\n",
    "                \"role\": \"system\",\n",
    "                \"content\": \"You are a business analyst, expert in e-commerce.\",\n",
    "            },\n",
    "            {\"role\": \"user\", \"content\": prompt},\n",
    "        ],\n",
    "    )\n",
    "\n",
    "    response = response.choices[0].message.content\n",
    "    # Parse the response to extract the keywords with regex\n",
    "    keywords = re.findall(r\"- (.*)\", response)\n",
    "    keywords = [keyword.strip().lower() for keyword in keywords]\n",
    "    return lab.JobResult(\n",
    "        value=keywords,\n",
    "        result_type=lab.ResultType.list,\n",
    "    )"
   ]
  },
  {
   "cell_type": "markdown",
   "metadata": {},
   "source": [
    "Let's use this to run 10 expensive calls to GPT-4, and then use those keywords as grounding when calling GPT-3.5."
   ]
  },
  {
   "cell_type": "code",
   "execution_count": 20,
   "metadata": {},
   "outputs": [
    {
     "name": "stderr",
     "output_type": "stream",
     "text": [
      "No job_config provided. Running with empty config\n",
      "100%|██████████| 100/100 [00:01<00:00, 81.28it/s]\n",
      "100%|██████████| 100/100 [00:10<00:00,  9.32it/s]\n"
     ]
    },
    {
     "data": {
      "text/plain": [
       "{'0': {'get_keywords': None,\n",
       "  'get_keywords_previous_jobs': JobResult(value=['computer performance', 'optimization', 'maximumpc', 'computer parts', 'vendors', 'useful tests', 'aging computer', 'performance tips', 'maximize performance', 'e-commerce, expert'], result_type=<ResultType.list: 'list'>, logs=[], metadata={}, created_at=1710816148, job_id='get_keywords_previous_jobs')},\n",
       " '1': {'get_keywords': None,\n",
       "  'get_keywords_previous_jobs': JobResult(value=[\"men's magazine\", 'articles', 'stories', 'knowledge', 'know & tell', 'interview', 'celebrity', 'mature', 'quality', 'recommendation'], result_type=<ResultType.list: 'list'>, logs=[], metadata={}, created_at=1710816148, job_id='get_keywords_previous_jobs')},\n",
       " '2': {'get_keywords': None,\n",
       "  'get_keywords_previous_jobs': JobResult(value=['self-image', 'materialism', 'status symbol', 'societal rank', 'appearance-centric', 'relationships', 'lifestyle magazine', 'personal worth', 'social standing', 'self-perception'], result_type=<ResultType.list: 'list'>, logs=[], metadata={}, created_at=1710816148, job_id='get_keywords_previous_jobs')},\n",
       " '3': {'get_keywords': None,\n",
       "  'get_keywords_previous_jobs': JobResult(value=['advertisement', 'little content', 'review', 'e-commerce'], result_type=<ResultType.list: 'list'>, logs=[], metadata={}, created_at=1710816147, job_id='get_keywords_previous_jobs')},\n",
       " '4': {'get_keywords': JobResult(value=['pc magazine', 'technology information', 'white paper', 'aes data security', 'user questions', 'feature articles', 'timely subjects', 'latest news', 'tech gear reviews', 'rating system'], result_type=<ResultType.list: 'list'>, logs=[], metadata={}, created_at=1710816147, job_id='get_keywords'),\n",
       "  'get_keywords_previous_jobs': JobResult(value=['pc magazine', 'replacement', 'technology', 'white paper', 'aes', 'data security', 'doctor', 'user questions', 'features', 'news'], result_type=<ResultType.list: 'list'>, logs=[], metadata={}, created_at=1710816148, job_id='get_keywords_previous_jobs')},\n",
       " '5': {'get_keywords': None,\n",
       "  'get_keywords_previous_jobs': JobResult(value=['lifestyle', 'men', 'metrosexual', 'younger', 'magazine', 'articles', 'reviews', 'investment', 'informative', 'price'], result_type=<ResultType.list: 'list'>, logs=[], metadata={}, created_at=1710816148, job_id='get_keywords_previous_jobs')},\n",
       " '6': {'get_keywords': None,\n",
       "  'get_keywords_previous_jobs': JobResult(value=['pc magazine', 'upgrades', 'hardware info', 'tips', 'tricks', 'great price'], result_type=<ResultType.list: 'list'>, logs=[], metadata={}, created_at=1710816148, job_id='get_keywords_previous_jobs')},\n",
       " '7': {'get_keywords': None,\n",
       "  'get_keywords_previous_jobs': JobResult(value=[\"men's lifestyle magazine\", 'middle to upper income demographic', 'diverse range of topics', 'eye-catching headlines', 'blunt and edgy writing style', 'potentially offensive content', 'high fashion and clothing advertisements', 'alcohol and fragrance products featured', 'mix of engaging and shallow content', 'controversial \"anthropology\" page'], result_type=<ResultType.list: 'list'>, logs=[], metadata={}, created_at=1710816148, job_id='get_keywords_previous_jobs')},\n",
       " '8': {'get_keywords': None,\n",
       "  'get_keywords_previous_jobs': JobResult(value=['electronics', 'product reviews', 'instructional articles', 'technology magazine', 'electronic devices', 'technical analysis', 'circuitry', 'consumer electronics', 'information technology', 'product recommendations'], result_type=<ResultType.list: 'list'>, logs=[], metadata={}, created_at=1710816148, job_id='get_keywords_previous_jobs')},\n",
       " '9': {'get_keywords': None,\n",
       "  'get_keywords_previous_jobs': JobResult(value=['maximum pc', 'subscription', 'cd', 'pc gamer', 'price', 'head 2 head', 'yahoo! mail', 'hotmail', 'pc magazine', 'independent magazine'], result_type=<ResultType.list: 'list'>, logs=[], metadata={}, created_at=1710816148, job_id='get_keywords_previous_jobs')},\n",
       " '10': {'get_keywords': JobResult(value=['glamour magazine', 'articles', 'clothes', 'fashion', 'longevity', 'love for reading', 'good content', 'beautiful attire', 'fashion trends', 'magazine loyalty'], result_type=<ResultType.list: 'list'>, logs=[], metadata={}, created_at=1710816147, job_id='get_keywords'),\n",
       "  'get_keywords_previous_jobs': JobResult(value=['glamour magazine', 'fashion articles', 'clothing', 'beauty', 'long-time reader', 'fashion trends', 'style', 'fashion magazine', 'fashion recommendations', 'fashion inspiration'], result_type=<ResultType.list: 'list'>, logs=[], metadata={}, created_at=1710816148, job_id='get_keywords_previous_jobs')},\n",
       " '11': {'get_keywords': None,\n",
       "  'get_keywords_previous_jobs': JobResult(value=['magazine', 'home decor', 'recipes', 'fall colors', 'gourds', 'remodeling', 'succulents', 'peter strauss', 'soup recipes', 'letter writing'], result_type=<ResultType.list: 'list'>, logs=[], metadata={}, created_at=1710816149, job_id='get_keywords_previous_jobs')},\n",
       " '12': {'get_keywords': None,\n",
       "  'get_keywords_previous_jobs': JobResult(value=['magazine subscriptions', 'better homes and garden', 'gardening hints', 'recipes', 'cost-effective', 'country living', 'house & garden', 'recommendation', 'happy reading'], result_type=<ResultType.list: 'list'>, logs=[], metadata={}, created_at=1710816149, job_id='get_keywords_previous_jobs')},\n",
       " '13': {'get_keywords': None,\n",
       "  'get_keywords_previous_jobs': JobResult(value=['decorating projects', 'inspiration', 'interior design', 'gardening', 'family matters', 'good health', 'shopping', 'kids projects', 'recipes', 'cartoons'], result_type=<ResultType.list: 'list'>, logs=[], metadata={}, created_at=1710816149, job_id='get_keywords_previous_jobs')},\n",
       " '14': {'get_keywords': None,\n",
       "  'get_keywords_previous_jobs': JobResult(value=[\"men's fitness\", 'gym advice', 'health information', 'workout routines', 'male perspective', 'entertaining content', \"men's reactions\", 'personality', 'learning', 'magazine'], result_type=<ResultType.list: 'list'>, logs=[], metadata={}, created_at=1710816149, job_id='get_keywords_previous_jobs')},\n",
       " '15': {'get_keywords': None,\n",
       "  'get_keywords_previous_jobs': JobResult(value=['magazine', 'sale ads', 'content', 'size', 'layout', 'advertising', 'overwhelming', 'balance', 'reader experience', 'feedback'], result_type=<ResultType.list: 'list'>, logs=[], metadata={}, created_at=1710816149, job_id='get_keywords_previous_jobs')},\n",
       " '16': {'get_keywords': None,\n",
       "  'get_keywords_previous_jobs': JobResult(value=['magazine', 'love'], result_type=<ResultType.list: 'list'>, logs=[], metadata={}, created_at=1710816148, job_id='get_keywords_previous_jobs')},\n",
       " '17': {'get_keywords': None,\n",
       "  'get_keywords_previous_jobs': JobResult(value=['entertainment', 'enjoyment', 'amusement', 'pleasure', 'excitement', 'leisure', 'delightful', 'pastime', 'interactive', 'lively'], result_type=<ResultType.list: 'list'>, logs=[], metadata={}, created_at=1710816149, job_id='get_keywords_previous_jobs')},\n",
       " '18': {'get_keywords': None,\n",
       "  'get_keywords_previous_jobs': JobResult(value=['great articles', 'photos', 'inspiring', 'workouts', 'variations', 'fitness'], result_type=<ResultType.list: 'list'>, logs=[], metadata={}, created_at=1710816148, job_id='get_keywords_previous_jobs')},\n",
       " '19': {'get_keywords': None,\n",
       "  'get_keywords_previous_jobs': JobResult(value=[\"men's products\", 'masculine', 'man cave', 'gender-specific', \"men's fashion\", 'male grooming', \"men's accessories\"], result_type=<ResultType.list: 'list'>, logs=[], metadata={}, created_at=1710816149, job_id='get_keywords_previous_jobs')},\n",
       " '20': {'get_keywords': None,\n",
       "  'get_keywords_previous_jobs': JobResult(value=['magazine', 'good info', 'repetitive', 'reminders', 'husband', 'loves', 'lots', 'review', 'positive feedback', 'e-commerce'], result_type=<ResultType.list: 'list'>, logs=[], metadata={}, created_at=1710816149, job_id='get_keywords_previous_jobs')},\n",
       " '21': {'get_keywords': None,\n",
       "  'get_keywords_previous_jobs': JobResult(value=['magazine subscription', 'change of address', 'delivery issues', 'customer service', 'address update', 'missing magazines', 'relocation', 'subscription renewal', 'mail forwarding', 'relocation notification'], result_type=<ResultType.list: 'list'>, logs=[], metadata={}, created_at=1710816149, job_id='get_keywords_previous_jobs')},\n",
       " '22': {'get_keywords': None,\n",
       "  'get_keywords_previous_jobs': JobResult(value=['glamour magazine', 'best', 'up-to-date information', 'well-written articles', 'great photos'], result_type=<ResultType.list: 'list'>, logs=[], metadata={}, created_at=1710816149, job_id='get_keywords_previous_jobs')},\n",
       " '23': {'get_keywords': None,\n",
       "  'get_keywords_previous_jobs': JobResult(value=['excellent conditions', 'well packed', 'new', 'no defect', 'as expected'], result_type=<ResultType.list: 'list'>, logs=[], metadata={}, created_at=1710816149, job_id='get_keywords_previous_jobs')},\n",
       " '24': {'get_keywords': None,\n",
       "  'get_keywords_previous_jobs': JobResult(value=['gift purchase', 'gift recipient', 'gift giving', 'present', 'gifting', 'present idea', 'gift selection', 'choosing gift', 'gift shopping', 'gift item'], result_type=<ResultType.list: 'list'>, logs=[], metadata={}, created_at=1710816150, job_id='get_keywords_previous_jobs')},\n",
       " '25': {'get_keywords': None,\n",
       "  'get_keywords_previous_jobs': JobResult(value=['magazine', 'sweetheart', 'love'], result_type=<ResultType.list: 'list'>, logs=[], metadata={}, created_at=1710816149, job_id='get_keywords_previous_jobs')},\n",
       " '26': {'get_keywords': None,\n",
       "  'get_keywords_previous_jobs': JobResult(value=['grandchildren', 'read', 'talk', 'book', 'grandparents', 'family', 'discussion', 'interaction', 'bonding', 'generation'], result_type=<ResultType.list: 'list'>, logs=[], metadata={}, created_at=1710816150, job_id='get_keywords_previous_jobs')},\n",
       " '27': {'get_keywords': JobResult(value=['office deal', 'great office deal'], result_type=<ResultType.list: 'list'>, logs=[], metadata={}, created_at=1710816146, job_id='get_keywords'),\n",
       "  'get_keywords_previous_jobs': JobResult(value=['office supplies', 'discount', 'quality', 'value for money', 'efficient', 'service', 'products', 'professional', 'excellent deal', 'office essentials'], result_type=<ResultType.list: 'list'>, logs=[], metadata={}, created_at=1710816150, job_id='get_keywords_previous_jobs')},\n",
       " '28': {'get_keywords': None,\n",
       "  'get_keywords_previous_jobs': JobResult(value=['gift', 'science lover', 'variety', 'articles', 'pictures', 'technology', 'ever changing', 'new', 'awesome', 'science'], result_type=<ResultType.list: 'list'>, logs=[], metadata={}, created_at=1710816150, job_id='get_keywords_previous_jobs')},\n",
       " '29': {'get_keywords': None,\n",
       "  'get_keywords_previous_jobs': JobResult(value=['easy read magazine', 'amazon magazine deals', 'auto subscribe', 'parenting information', 'kids content', 'retirement', 'flip through', 'watching tv', 'subscription process', 'review rating'], result_type=<ResultType.list: 'list'>, logs=[], metadata={}, created_at=1710816150, job_id='get_keywords_previous_jobs')},\n",
       " '30': {'get_keywords': None,\n",
       "  'get_keywords_previous_jobs': JobResult(value=['living space', 'home decor', 'interior design', 'furniture', 'decorations', 'room setup', 'comfort', 'style', 'ambiance', 'personal touch'], result_type=<ResultType.list: 'list'>, logs=[], metadata={}, created_at=1710816150, job_id='get_keywords_previous_jobs')},\n",
       " '31': {'get_keywords': None,\n",
       "  'get_keywords_previous_jobs': JobResult(value=['ideas', 'decorating', 'recipes'], result_type=<ResultType.list: 'list'>, logs=[], metadata={}, created_at=1710816150, job_id='get_keywords_previous_jobs')},\n",
       " '32': {'get_keywords': None,\n",
       "  'get_keywords_previous_jobs': JobResult(value=['magazines', 'reading', 'articles', 'humor', 'advice', 'enjoyment', 'monthly', 'parents', 'tv guide', \"reader's digest\"], result_type=<ResultType.list: 'list'>, logs=[], metadata={}, created_at=1710816150, job_id='get_keywords_previous_jobs')},\n",
       " '33': {'get_keywords': None,\n",
       "  'get_keywords_previous_jobs': JobResult(value=[\"men's health magazine\", 'fitness', 'subscription', 'health', \"men's lifestyle\"], result_type=<ResultType.list: 'list'>, logs=[], metadata={}, created_at=1710816150, job_id='get_keywords_previous_jobs')},\n",
       " '34': {'get_keywords': None,\n",
       "  'get_keywords_previous_jobs': JobResult(value=['e-commerce', 'subscription pricing', 'referral program', 'customer feedback', 'product recommendations', 'user engagement', 'customer experience', 'market positioning', 'competitor analysis', 'business growth'], result_type=<ResultType.list: 'list'>, logs=[], metadata={}, created_at=1710816151, job_id='get_keywords_previous_jobs')},\n",
       " '35': {'get_keywords': JobResult(value=['favorite', 'magazines'], result_type=<ResultType.list: 'list'>, logs=[], metadata={}, created_at=1710816146, job_id='get_keywords'),\n",
       "  'get_keywords_previous_jobs': JobResult(value=['magazine', 'favorite', 'review', 'publication', 'reading', 'content', 'articles', 'subscription', 'editorial', 'periodical'], result_type=<ResultType.list: 'list'>, logs=[], metadata={}, created_at=1710816151, job_id='get_keywords_previous_jobs')},\n",
       " '36': {'get_keywords': None,\n",
       "  'get_keywords_previous_jobs': JobResult(value=['super cheap subscription', 'easy to read layout', 'kindle fire hd', 'subscription', 'layout', 'reading experience', 'kindle', 'affordable pricing', 'user-friendly design', 'value for money'], result_type=<ResultType.list: 'list'>, logs=[], metadata={}, created_at=1710816151, job_id='get_keywords_previous_jobs')},\n",
       " '37': {'get_keywords': None,\n",
       "  'get_keywords_previous_jobs': JobResult(value=['magazine subscription', 'print and digital edition', 'age demographic', 'fitness motivation', 'food and recipes', \"men's health\", \"women's health\", 'fitness programs', 'aging readership', 'content diversity'], result_type=<ResultType.list: 'list'>, logs=[], metadata={}, created_at=1710816151, job_id='get_keywords_previous_jobs')},\n",
       " '38': {'get_keywords': None,\n",
       "  'get_keywords_previous_jobs': JobResult(value=['glamour magazine', 'fashion trends', 'layering clothes', 'shopping', 'life lessons', 'articles', 'new trends', 'fashion magazine', 'favorite magazine', 'life issues'], result_type=<ResultType.list: 'list'>, logs=[], metadata={}, created_at=1710816151, job_id='get_keywords_previous_jobs')},\n",
       " '39': {'get_keywords': None,\n",
       "  'get_keywords_previous_jobs': JobResult(value=['excellent content', 'diversity', 'material', 'e-commerce', 'review', 'quality', 'content', 'variety', 'information', 'comprehensive'], result_type=<ResultType.list: 'list'>, logs=[], metadata={}, created_at=1710816151, job_id='get_keywords_previous_jobs')},\n",
       " '40': {'get_keywords': None,\n",
       "  'get_keywords_previous_jobs': JobResult(value=['happy', 'grandmother', 'positive experience', 'customer satisfaction', 'user-friendly', 'easy to use', 'family-oriented', 'quality service', 'reliable', 'elder-friendly'], result_type=<ResultType.list: 'list'>, logs=[], metadata={}, created_at=1710816151, job_id='get_keywords_previous_jobs')},\n",
       " '41': {'get_keywords': None,\n",
       "  'get_keywords_previous_jobs': JobResult(value=['glamour magazine', 'careers', 'relationships', 'beauty', 'fashion', 'women', 'twenties', 'thirties', 'smart', 'entertainment'], result_type=<ResultType.list: 'list'>, logs=[], metadata={}, created_at=1710816152, job_id='get_keywords_previous_jobs')},\n",
       " '42': {'get_keywords': None,\n",
       "  'get_keywords_previous_jobs': JobResult(value=['subscription', 'enjoyable', 'recurring', 'regular', 'monthly', 'fun', 'entertaining', 'exciting', 'deliver', 'convenience'], result_type=<ResultType.list: 'list'>, logs=[], metadata={}, created_at=1710816151, job_id='get_keywords_previous_jobs')},\n",
       " '43': {'get_keywords': None,\n",
       "  'get_keywords_previous_jobs': JobResult(value=['ads', 'marketing', 'promotions', 'commercial', 'pop-ups', 'promotional content', 'advertising', 'sponsored content', 'commercialization', 'promotion techniques'], result_type=<ResultType.list: 'list'>, logs=[], metadata={}, created_at=1710816152, job_id='get_keywords_previous_jobs')},\n",
       " '44': {'get_keywords': None,\n",
       "  'get_keywords_previous_jobs': JobResult(value=['subscription', 'many years', 'never disappointed', 'beautiful pictures'], result_type=<ResultType.list: 'list'>, logs=[], metadata={}, created_at=1710816151, job_id='get_keywords_previous_jobs')},\n",
       " '45': {'get_keywords': None,\n",
       "  'get_keywords_previous_jobs': JobResult(value=['magazine', 'helpful articles', 'baking', 'cosmetics'], result_type=<ResultType.list: 'list'>, logs=[], metadata={}, created_at=1710816152, job_id='get_keywords_previous_jobs')},\n",
       " '46': {'get_keywords': None,\n",
       "  'get_keywords_previous_jobs': JobResult(value=['a', 'review', 'feedback', 'rating', 'e-commerce', 'product', 'customer', 'experience', 'analysis', 'evaluation'], result_type=<ResultType.list: 'list'>, logs=[], metadata={}, created_at=1710816152, job_id='get_keywords_previous_jobs')},\n",
       " '47': {'get_keywords': None,\n",
       "  'get_keywords_previous_jobs': JobResult(value=['decorating ideas', 'home decor', 'creative decor', 'interior design', 'style inspiration'], result_type=<ResultType.list: 'list'>, logs=[], metadata={}, created_at=1710816152, job_id='get_keywords_previous_jobs')},\n",
       " '48': {'get_keywords': JobResult(value=['good price', 'great magazine'], result_type=<ResultType.list: 'list'>, logs=[], metadata={}, created_at=1710816146, job_id='get_keywords'),\n",
       "  'get_keywords_previous_jobs': JobResult(value=['good price', 'great magazine'], result_type=<ResultType.list: 'list'>, logs=[], metadata={}, created_at=1710816152, job_id='get_keywords_previous_jobs')},\n",
       " '49': {'get_keywords': None,\n",
       "  'get_keywords_previous_jobs': JobResult(value=['excellent', 'positive review', 'customer satisfaction', 'quality product/service', 'top-notch experience', 'great feedback', 'high rating', 'customer delight', 'impressive', 'exceptional'], result_type=<ResultType.list: 'list'>, logs=[], metadata={}, created_at=1710816152, job_id='get_keywords_previous_jobs')},\n",
       " '50': {'get_keywords': None,\n",
       "  'get_keywords_previous_jobs': JobResult(value=['magazine', 'guys', 'tips', 'articles', 'learning', 'up to date', 'fast-paced world'], result_type=<ResultType.list: 'list'>, logs=[], metadata={}, created_at=1710816152, job_id='get_keywords_previous_jobs')},\n",
       " '51': {'get_keywords': None,\n",
       "  'get_keywords_previous_jobs': JobResult(value=['magazine', 'like', 'find', 'something', 'always'], result_type=<ResultType.list: 'list'>, logs=[], metadata={}, created_at=1710816152, job_id='get_keywords_previous_jobs')},\n",
       " '52': {'get_keywords': None,\n",
       "  'get_keywords_previous_jobs': JobResult(value=['good value', 'money', 'paper magazines', 'reading', 'revieweme-commerce'], result_type=<ResultType.list: 'list'>, logs=[], metadata={}, created_at=1710816152, job_id='get_keywords_previous_jobs')},\n",
       " '53': {'get_keywords': None,\n",
       "  'get_keywords_previous_jobs': JobResult(value=['magazine', 'price', 'sharing', 'enjoyment', 'gratitude', 'family', 'pass it on', 'neighborly', 'appreciation', 'contentment'], result_type=<ResultType.list: 'list'>, logs=[], metadata={}, created_at=1710816153, job_id='get_keywords_previous_jobs')},\n",
       " '54': {'get_keywords': None,\n",
       "  'get_keywords_previous_jobs': JobResult(value=['handyman magazine', 'woodworking', 'diy', 'patterns', 'tips', 'cleaning', 'information', 'subscription', 'favorite', 'inspiration'], result_type=<ResultType.list: 'list'>, logs=[], metadata={}, created_at=1710816153, job_id='get_keywords_previous_jobs')},\n",
       " '55': {'get_keywords': None,\n",
       "  'get_keywords_previous_jobs': JobResult(value=['resourceful', 'helpful', 'informative', 'valuable', 'useful', 'insightful', 'practical', 'beneficial', 'effective', 'efficient'], result_type=<ResultType.list: 'list'>, logs=[], metadata={}, created_at=1710816153, job_id='get_keywords_previous_jobs')},\n",
       " '56': {'get_keywords': None,\n",
       "  'get_keywords_previous_jobs': JobResult(value=['magazine updates', 'style', 'projects', 'website', 'guest writers', 'bloggers', 'recommendation', 'featured styles', 'great', 'fantastic'], result_type=<ResultType.list: 'list'>, logs=[], metadata={}, created_at=1710816153, job_id='get_keywords_previous_jobs')},\n",
       " '57': {'get_keywords': None,\n",
       "  'get_keywords_previous_jobs': JobResult(value=['magazine', 'great articles', 'nice', 'review'], result_type=<ResultType.list: 'list'>, logs=[], metadata={}, created_at=1710816153, job_id='get_keywords_previous_jobs')},\n",
       " '58': {'get_keywords': None,\n",
       "  'get_keywords_previous_jobs': JobResult(value=['magazine', 'e-commerce', 'online shopping', 'review', 'website', 'product', 'feedback', 'customer', 'rating', 'experience'], result_type=<ResultType.list: 'list'>, logs=[], metadata={}, created_at=1710816153, job_id='get_keywords_previous_jobs')},\n",
       " '59': {'get_keywords': None,\n",
       "  'get_keywords_previous_jobs': JobResult(value=['great packing', 'good shipping time', 'as expected'], result_type=<ResultType.list: 'list'>, logs=[], metadata={}, created_at=1710816153, job_id='get_keywords_previous_jobs')},\n",
       " '60': {'get_keywords': JobResult(value=['fast shipping', 'item satisfaction'], result_type=<ResultType.list: 'list'>, logs=[], metadata={}, created_at=1710816146, job_id='get_keywords'),\n",
       "  'get_keywords_previous_jobs': JobResult(value=['quickly shipped', 'loved item', 'positive review', 'fast delivery', 'satisfied customer', 'rapid shipping', 'happy with purchase', 'timely delivery'], result_type=<ResultType.list: 'list'>, logs=[], metadata={}, created_at=1710816153, job_id='get_keywords_previous_jobs')},\n",
       " '61': {'get_keywords': None,\n",
       "  'get_keywords_previous_jobs': JobResult(value=['magazine', 'home', 'garden', 'ideas', 'advertising', 'enjoyable'], result_type=<ResultType.list: 'list'>, logs=[], metadata={}, created_at=1710816153, job_id='get_keywords_previous_jobs')},\n",
       " '62': {'get_keywords': None,\n",
       "  'get_keywords_previous_jobs': JobResult(value=['wife satisfaction', 'happiness', 'customer satisfaction', 'product quality', 'customer experience', 'user happiness', 'positive review', 'e-commerce success', 'customer feedback', 'marital bliss'], result_type=<ResultType.list: 'list'>, logs=[], metadata={}, created_at=1710816154, job_id='get_keywords_previous_jobs')},\n",
       " '63': {'get_keywords': None,\n",
       "  'get_keywords_previous_jobs': JobResult(value=['magazine', 'pretty pictures', 'great ideas', 'home decor', 'hints', 'space design', 'purchase satisfaction', 'interior design', 'home improvement', 'recommendations'], result_type=<ResultType.list: 'list'>, logs=[], metadata={}, created_at=1710816154, job_id='get_keywords_previous_jobs')},\n",
       " '64': {'get_keywords': None,\n",
       "  'get_keywords_previous_jobs': JobResult(value=['subscription', 'gym', 'magazine', 'treadmill', 'articles', 'home', 'price', 'complain', 'glossy', 'outdated'], result_type=<ResultType.list: 'list'>, logs=[], metadata={}, created_at=1710816154, job_id='get_keywords_previous_jobs')},\n",
       " '65': {'get_keywords': None,\n",
       "  'get_keywords_previous_jobs': JobResult(value=['tips', 'instructions', 'ideas', 'knowledge', 'shortcuts', 'useful information', 'projects', 'magazine', 'e-commerce', 'reviews'], result_type=<ResultType.list: 'list'>, logs=[], metadata={}, created_at=1710816154, job_id='get_keywords_previous_jobs')},\n",
       " '66': {'get_keywords': None,\n",
       "  'get_keywords_previous_jobs': JobResult(value=[\"men's health magazine\", 'magazine review', 'content evaluation', 'lifestyle publication', 'fitness advice', 'target audience analysis', 'marketing tactics', 'editorial focus', 'advertisements impact', 'reader demographics'], result_type=<ResultType.list: 'list'>, logs=[], metadata={}, created_at=1710816154, job_id='get_keywords_previous_jobs')},\n",
       " '67': {'get_keywords': None,\n",
       "  'get_keywords_previous_jobs': JobResult(value=['magazine', 'good', 'review'], result_type=<ResultType.list: 'list'>, logs=[], metadata={}, created_at=1710816154, job_id='get_keywords_previous_jobs')},\n",
       " '68': {'get_keywords': None,\n",
       "  'get_keywords_previous_jobs': JobResult(value=['magazine subscription', 'gift with purpose', 'easy ordering process', 'individual shipping information', 'long-lasting gift', 'enjoyable content', 'gift idea', 'thoughtful present', 'easy gift giving', 'positive experience'], result_type=<ResultType.list: 'list'>, logs=[], metadata={}, created_at=1710816154, job_id='get_keywords_previous_jobs')},\n",
       " '69': {'get_keywords': JobResult(value=['satisfaction', 'customer service', 'product quality'], result_type=<ResultType.list: 'list'>, logs=[], metadata={}, created_at=1710816146, job_id='get_keywords'),\n",
       "  'get_keywords_previous_jobs': JobResult(value=['love', 'positive', 'happy', 'satisfied', 'excellent', 'fantastic', 'great', 'wonderful', 'awesome', 'fabulous'], result_type=<ResultType.list: 'list'>, logs=[], metadata={}, created_at=1710816154, job_id='get_keywords_previous_jobs')},\n",
       " '70': {'get_keywords': None,\n",
       "  'get_keywords_previous_jobs': JobResult(value=['magazine', 'advertisements', 'dislike', 'content', 'opinion', 'review', 'quality', 'preferences'], result_type=<ResultType.list: 'list'>, logs=[], metadata={}, created_at=1710816154, job_id='get_keywords_previous_jobs')},\n",
       " '71': {'get_keywords': None,\n",
       "  'get_keywords_previous_jobs': JobResult(value=['articles', 'recipes', 'subscription', 'generations', 'family tradition'], result_type=<ResultType.list: 'list'>, logs=[], metadata={}, created_at=1710816154, job_id='get_keywords_previous_jobs')},\n",
       " '72': {'get_keywords': None,\n",
       "  'get_keywords_previous_jobs': JobResult(value=['magazine', 'love'], result_type=<ResultType.list: 'list'>, logs=[], metadata={}, created_at=1710816154, job_id='get_keywords_previous_jobs')},\n",
       " '73': {'get_keywords': None,\n",
       "  'get_keywords_previous_jobs': JobResult(value=['magazine', 'ideas', 'planting', 'flowers', 'care', 'remodel', 'house', 'cheryl', 'good', 'great'], result_type=<ResultType.list: 'list'>, logs=[], metadata={}, created_at=1710816155, job_id='get_keywords_previous_jobs')},\n",
       " '74': {'get_keywords': None,\n",
       "  'get_keywords_previous_jobs': JobResult(value=['just what i was looking for', 'customer satisfaction', 'product match', 'search criteria', 'ideal product', 'online search success', 'perfect match', 'happy customer', 'great find', 'target met'], result_type=<ResultType.list: 'list'>, logs=[], metadata={}, created_at=1710816155, job_id='get_keywords_previous_jobs')},\n",
       " '75': {'get_keywords': JobResult(value=[\"men's magazine\", 'affluent', 'lifestyle', 'fashion', 'fitness', 'health', 'masculinity', 'luxury cars', 'workout regimen'], result_type=<ResultType.list: 'list'>, logs=[], metadata={}, created_at=1710816147, job_id='get_keywords'),\n",
       "  'get_keywords_previous_jobs': JobResult(value=[\"men's magazine\", 'affluent young men', 'luxury cars', 'expensive suits', 'beautiful women', 'health and fitness', 'six-pack abs', 'manly lifestyle', 'workout regimens', 'wit and humor'], result_type=<ResultType.list: 'list'>, logs=[], metadata={}, created_at=1710816155, job_id='get_keywords_previous_jobs')},\n",
       " '76': {'get_keywords': None,\n",
       "  'get_keywords_previous_jobs': JobResult(value=['reception room', 'served its purpose', 'little value', \"didn't expect\", 'review', \"didn't expect it\", 'served purpose', 'got it for', 'return', 'list'], result_type=<ResultType.list: 'list'>, logs=[], metadata={}, created_at=1710816155, job_id='get_keywords_previous_jobs')},\n",
       " '77': {'get_keywords': None,\n",
       "  'get_keywords_previous_jobs': JobResult(value=['price', 'magazine', 'love', 'good'], result_type=<ResultType.list: 'list'>, logs=[], metadata={}, created_at=1710816155, job_id='get_keywords_previous_jobs')},\n",
       " '78': {'get_keywords': None,\n",
       "  'get_keywords_previous_jobs': JobResult(value=['great magazine', 'signed up', 'receive', 'glad', 'subscription', 'magazine', 'positive review', 'satisfaction', 'content', 'value'], result_type=<ResultType.list: 'list'>, logs=[], metadata={}, created_at=1710816155, job_id='get_keywords_previous_jobs')},\n",
       " '79': {'get_keywords': None,\n",
       "  'get_keywords_previous_jobs': JobResult(value=['wife', 'good articles', 'great recipes', 'e-commerce product', 'satisfaction', 'happy customer', 'positive feedback', 'gift', 'user experience', 'value'], result_type=<ResultType.list: 'list'>, logs=[], metadata={}, created_at=1710816155, job_id='get_keywords_previous_jobs')},\n",
       " '80': {'get_keywords': None,\n",
       "  'get_keywords_previous_jobs': JobResult(value=['great reading', 'positive review', 'engaging content', 'recommended', 'enjoyable', 'compelling', 'page-turner', 'well-written', 'captivating', 'informative'], result_type=<ResultType.list: 'list'>, logs=[], metadata={}, created_at=1710816155, job_id='get_keywords_previous_jobs')},\n",
       " '81': {'get_keywords': None,\n",
       "  'get_keywords_previous_jobs': JobResult(value=['e-commerce', 'online shopping', 'customer satisfaction', 'user experience', 'product quality', 'service excellence', 'easy navigation', 'efficient delivery', 'competitive pricing', 'reliable platform'], result_type=<ResultType.list: 'list'>, logs=[], metadata={}, created_at=1710816157, job_id='get_keywords_previous_jobs')},\n",
       " '82': {'get_keywords': None,\n",
       "  'get_keywords_previous_jobs': JobResult(value=['articles', 'interesting', 'content', 'informative', 'website', 'online', 'blog', 'engaging', 'writing', 'reading'], result_type=<ResultType.list: 'list'>, logs=[], metadata={}, created_at=1710816155, job_id='get_keywords_previous_jobs')},\n",
       " '83': {'get_keywords': None,\n",
       "  'get_keywords_previous_jobs': JobResult(value=['duplicates', 'name and address mix-up', 'subscription manager difficulty'], result_type=<ResultType.list: 'list'>, logs=[], metadata={}, created_at=1710816155, job_id='get_keywords_previous_jobs')},\n",
       " '84': {'get_keywords': None,\n",
       "  'get_keywords_previous_jobs': JobResult(value=['favorite', 'positive feedback', 'top choice', 'preferred', 'highly rated', 'recommended', 'pleased', 'satisfaction', 'outstanding', 'excellent'], result_type=<ResultType.list: 'list'>, logs=[], metadata={}, created_at=1710816156, job_id='get_keywords_previous_jobs')},\n",
       " '85': {'get_keywords': None,\n",
       "  'get_keywords_previous_jobs': JobResult(value=['magazines', 'ads', 'price'], result_type=<ResultType.list: 'list'>, logs=[], metadata={}, created_at=1710816155, job_id='get_keywords_previous_jobs')},\n",
       " '86': {'get_keywords': None,\n",
       "  'get_keywords_previous_jobs': JobResult(value=['print magazine', 'kindle edition', 'subscription', 'charging', 'customer service', 'cancellation', 'publisher', 'amazon', 'double billing', 'gift subscriptions'], result_type=<ResultType.list: 'list'>, logs=[], metadata={}, created_at=1710816156, job_id='get_keywords_previous_jobs')},\n",
       " '87': {'get_keywords': None,\n",
       "  'get_keywords_previous_jobs': JobResult(value=['excellent', 'flawless', 'outstanding', 'exceptional', 'top-notch'], result_type=<ResultType.list: 'list'>, logs=[], metadata={}, created_at=1710816156, job_id='get_keywords_previous_jobs')},\n",
       " '88': {'get_keywords': None,\n",
       "  'get_keywords_previous_jobs': JobResult(value=['better homes and gardens', 'kindle hd7', 'favorite magazine', 'home ideas', 'information', 'reading', 'kindle', 'homecare', 'inspiration', 'long-term reader'], result_type=<ResultType.list: 'list'>, logs=[], metadata={}, created_at=1710816156, job_id='get_keywords_previous_jobs')},\n",
       " '89': {'get_keywords': None,\n",
       "  'get_keywords_previous_jobs': JobResult(value=['magazine', 'monthly', 'enjoyment', 'husband', 'anticipation', 'subscription', 'reading', 'content', 'favorite', 'new edition'], result_type=<ResultType.list: 'list'>, logs=[], metadata={}, created_at=1710816156, job_id='get_keywords_previous_jobs')},\n",
       " '90': {'get_keywords': None,\n",
       "  'get_keywords_previous_jobs': JobResult(value=['bh&g', 'gardening', 'redecorating', 'renovating', 'home decor', 'beautiful photos', 'content', 'magazine', 'inserts', 'lifestyle'], result_type=<ResultType.list: 'list'>, logs=[], metadata={}, created_at=1710816156, job_id='get_keywords_previous_jobs')},\n",
       " '91': {'get_keywords': None,\n",
       "  'get_keywords_previous_jobs': JobResult(value=['better homes and garden', 'renewed subscription', '2015', 'magazine', 'home decor', 'gardening', 'lifestyle', 'interior design', 'classy', 'appreciation'], result_type=<ResultType.list: 'list'>, logs=[], metadata={}, created_at=1710816156, job_id='get_keywords_previous_jobs')},\n",
       " '92': {'get_keywords': None,\n",
       "  'get_keywords_previous_jobs': JobResult(value=['innovation', 'creativity', 'originality', 'concept', 'strategy'], result_type=<ResultType.list: 'list'>, logs=[], metadata={}, created_at=1710816156, job_id='get_keywords_previous_jobs')},\n",
       " '93': {'get_keywords': None,\n",
       "  'get_keywords_previous_jobs': JobResult(value=['magazine', 'decorating', 'recipes', 'new items', 'interesting', 'enjoyable', 'home decor', 'cooking', 'lifestyle', 'recommendations'], result_type=<ResultType.list: 'list'>, logs=[], metadata={}, created_at=1710816156, job_id='get_keywords_previous_jobs')},\n",
       " '94': {'get_keywords': None,\n",
       "  'get_keywords_previous_jobs': JobResult(value=['subscription', 'pleased', 'satisfied', 'service', 'product', 'experience', 'value', 'quality', 'reliable', 'customer support'], result_type=<ResultType.list: 'list'>, logs=[], metadata={}, created_at=1710816156, job_id='get_keywords_previous_jobs')},\n",
       " '95': {'get_keywords': None,\n",
       "  'get_keywords_previous_jobs': JobResult(value=['better homes and gardens magazine', 'house', 'garden', 'dream', 'magazine', 'home ownership', 'gardening', 'wishful thinking', 'aspiration'], result_type=<ResultType.list: 'list'>, logs=[], metadata={}, created_at=1710816157, job_id='get_keywords_previous_jobs')},\n",
       " '96': {'get_keywords': None,\n",
       "  'get_keywords_previous_jobs': JobResult(value=['satisfied', 'positive experience', 'highly recommend', 'great customer service', 'quality products', 'fast delivery', 'user-friendly website', 'competitive prices', 'efficient transaction process'], result_type=<ResultType.list: 'list'>, logs=[], metadata={}, created_at=1710816157, job_id='get_keywords_previous_jobs')},\n",
       " '97': {'get_keywords': None,\n",
       "  'get_keywords_previous_jobs': JobResult(value=['decorating', 'family living', 'food preparation', 'gardening', 'budget projects', 'practical ideas', 'up-to-date', 'home', 'better homes'], result_type=<ResultType.list: 'list'>, logs=[], metadata={}, created_at=1710816157, job_id='get_keywords_previous_jobs')},\n",
       " '98': {'get_keywords': JobResult(value=['gluten free recipes', 'consumer-driven content', 'consumerism', 'budget room remodels', 'family issues', 'financial issues', 'social issues', 'party planning', 'modern mom', 'product recommendations'], result_type=<ResultType.list: 'list'>, logs=[], metadata={}, created_at=1710816147, job_id='get_keywords'),\n",
       "  'get_keywords_previous_jobs': JobResult(value=['gluten free', 'consumer-driven', 'budget room remodels', 'modern mom', 'disposable income', 'redbook', 'social media', 'quality of life', 'home magazine', 'party planning'], result_type=<ResultType.list: 'list'>, logs=[], metadata={}, created_at=1710816157, job_id='get_keywords_previous_jobs')},\n",
       " '99': {'get_keywords': None,\n",
       "  'get_keywords_previous_jobs': JobResult(value=['magazine', 'articles', 'restaurant reviews', 'advertising', 'subscription price', 'local government', 'gift idea', 'high society', 'spa treatments', 'face lift'], result_type=<ResultType.list: 'list'>, logs=[], metadata={}, created_at=1710816157, job_id='get_keywords_previous_jobs')}}"
      ]
     },
     "execution_count": 20,
     "metadata": {},
     "output_type": "execute_result"
    }
   ],
   "source": [
    "# First, we run on GPT-4\n",
    "# We create a new job config to specify the model\n",
    "\n",
    "\n",
    "class GPT4Config(lab.JobConfig):\n",
    "    model: str = \"openai:gpt-4\"\n",
    "\n",
    "\n",
    "workload = lab.Workload(\n",
    "    jobs=[\n",
    "        # The jobs are executed sequentially, in the order they are defined\n",
    "        lab.Job(\n",
    "            job_function=get_keywords,\n",
    "            config=GPT4Config(), # We specify the model\n",
    "            sample=0.1, # We only run on 10% of the data\n",
    "        ),\n",
    "        lab.Job(job_function=get_keywords_previous_jobs),\n",
    "    ]\n",
    ")\n",
    "await workload.async_run(\n",
    "    messages[:100],\n",
    "    executor_type=\"parallel\",\n",
    "    max_parallelism=10,\n",
    ")"
   ]
  },
  {
   "cell_type": "code",
   "execution_count": 21,
   "metadata": {},
   "outputs": [
    {
     "name": "stdout",
     "output_type": "stream",
     "text": [
      "Number of different keywords extracted: 588\n"
     ]
    },
    {
     "data": {
      "image/png": "[encoded data removed]",
      "text/plain": [
       "<Figure size 1000x500 with 1 Axes>"
      ]
     },
     "metadata": {},
     "output_type": "display_data"
    }
   ],
   "source": [
    "# Display results\n",
    "results_df = workload.results_df()\n",
    "augmented_messages_df = results_df.merge(messages_df, left_index=True, right_on=\"id\")\n",
    "\n",
    "keywords_to_count = (\n",
    "    augmented_messages_df.explode(\"get_keywords_previous_jobs\")\n",
    "    .groupby(\"get_keywords_previous_jobs\")\n",
    "    .size()\n",
    "    .sort_values(ascending=False)\n",
    ")\n",
    "keywords_to_count.head(20).plot(\n",
    "    kind=\"bar\", figsize=(10, 5), title=\"Most common keywords in the dataset\"\n",
    ")\n",
    "\n",
    "print(\"Number of different keywords extracted:\", augmented_messages_df[\"get_keywords_previous_jobs\"].explode().nunique())"
   ]
  },
  {
   "cell_type": "markdown",
   "metadata": {},
   "source": [
    "## Conclusion\n",
    "\n",
    "In this notebook, we showed how to use phospho lab to\n",
    "\n",
    "1. load a dataset \n",
    "2. parallelize calls to LLM providers (OpenAI)\n",
    "3. respect API providers rate limits\n",
    "4. use the results of the current job or of previous jobs\n",
    "5. use config and sampling to switch from expensive to cheap model\n",
    "\n",
    "Discover more about phospho in the [documentation!](https://docs.phospho.ai)"
   ]
  },
  {
   "cell_type": "markdown",
   "metadata": {},
   "source": []
  }
 ],
 "metadata": {
  "kernelspec": {
   "display_name": "phospho-env-min",
   "language": "python",
   "name": "python3"
  },
  "language_info": {
   "codemirror_mode": {
    "name": "ipython",
    "version": 3
   },
   "file_extension": ".py",
   "mimetype": "text/x-python",
   "name": "python",
   "nbconvert_exporter": "python",
   "pygments_lexer": "ipython3",
   "version": "3.11.7"
  }
 },
 "nbformat": 4,
 "nbformat_minor": 2
}
