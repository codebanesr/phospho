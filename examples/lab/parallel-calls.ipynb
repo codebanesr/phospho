{
 "cells": [
  {
   "cell_type": "markdown",
   "metadata": {},
   "source": [
    "# Run parallel calls to OpenAI on a dataset, with rate limit\n",
    "\n",
    "In this notebook, you'll learn how to run multiple parallel calls to OpenAI on a dataset with a rate limit. \n",
    "\n",
    "As an example, we'll take a bunch of Amazon reviews as a dataset. Our goal is to **extract keywords** from the reviews. The way we extract keywords is by making a call to OpenAI GPT-4 and asking to list the keywords. \n",
    "\n",
    "To do that, here is what we will do:\n",
    "\n",
    "1. Load the dataset\n",
    "2. Make API calls to OpenAI\n",
    "3. Parallelize the calls while respecting the OpenAI rate limits\n",
    "4. Displaying results\n",
    "\n",
    "Let's go!"
   ]
  },
  {
   "cell_type": "code",
   "execution_count": null,
   "metadata": {},
   "outputs": [],
   "source": [
    "!pip install \"phospho[lab]\""
   ]
  },
  {
   "cell_type": "code",
   "execution_count": 1,
   "metadata": {},
   "outputs": [],
   "source": [
    "import pandas as pd\n",
    "import re\n",
    "import os\n",
    "import openai \n",
    "\n",
    "from phospho import lab\n",
    "from dotenv import load_dotenv\n",
    "\n",
    "load_dotenv()\n",
    "\n",
    "assert os.environ.get(\"OPENAI_API_KEY\"), \"Please set the OPENAI_API_KEY environment variable.\""
   ]
  },
  {
   "cell_type": "markdown",
   "metadata": {},
   "source": [
    "## Load dataset\n",
    "\n",
    "For demonstration purposes, we'll use a subset of the [Amazon Reviews dataset, collected in 2023 by McAuley Lab](https://amazon-reviews-2023.github.io)."
   ]
  },
  {
   "cell_type": "code",
   "execution_count": 2,
   "metadata": {},
   "outputs": [],
   "source": [
    "messages_df = pd.read_csv('data/Magazine_Subscriptions_5.csv')\n",
    "# Create a new column to store the message id\n",
    "messages_df[\"id\"] = messages_df.index.astype(str)"
   ]
  },
  {
   "cell_type": "code",
   "execution_count": 3,
   "metadata": {},
   "outputs": [
    {
     "data": {
      "text/html": [
       "<div>\n",
       "<style scoped>\n",
       "    .dataframe tbody tr th:only-of-type {\n",
       "        vertical-align: middle;\n",
       "    }\n",
       "\n",
       "    .dataframe tbody tr th {\n",
       "        vertical-align: top;\n",
       "    }\n",
       "\n",
       "    .dataframe thead th {\n",
       "        text-align: right;\n",
       "    }\n",
       "</style>\n",
       "<table border=\"1\" class=\"dataframe\">\n",
       "  <thead>\n",
       "    <tr style=\"text-align: right;\">\n",
       "      <th></th>\n",
       "      <th>overall</th>\n",
       "      <th>verified</th>\n",
       "      <th>reviewTime</th>\n",
       "      <th>reviewerID</th>\n",
       "      <th>asin</th>\n",
       "      <th>reviewerName</th>\n",
       "      <th>reviewText</th>\n",
       "      <th>summary</th>\n",
       "      <th>unixReviewTime</th>\n",
       "      <th>vote</th>\n",
       "      <th>style</th>\n",
       "      <th>image</th>\n",
       "      <th>id</th>\n",
       "    </tr>\n",
       "  </thead>\n",
       "  <tbody>\n",
       "    <tr>\n",
       "      <th>0</th>\n",
       "      <td>4</td>\n",
       "      <td>True</td>\n",
       "      <td>02 26, 2014</td>\n",
       "      <td>A5QQOOZJOVPSF</td>\n",
       "      <td>B00005N7P0</td>\n",
       "      <td>John L. Mehlmauer</td>\n",
       "      <td>I'm old, and so is my computer.  Any advice th...</td>\n",
       "      <td>Cheapskates guide</td>\n",
       "      <td>1393372800</td>\n",
       "      <td>NaN</td>\n",
       "      <td>NaN</td>\n",
       "      <td>NaN</td>\n",
       "      <td>0</td>\n",
       "    </tr>\n",
       "  </tbody>\n",
       "</table>\n",
       "</div>"
      ],
      "text/plain": [
       "   overall  verified   reviewTime     reviewerID        asin  \\\n",
       "0        4      True  02 26, 2014  A5QQOOZJOVPSF  B00005N7P0   \n",
       "\n",
       "        reviewerName                                         reviewText  \\\n",
       "0  John L. Mehlmauer  I'm old, and so is my computer.  Any advice th...   \n",
       "\n",
       "             summary  unixReviewTime  vote style image id  \n",
       "0  Cheapskates guide      1393372800   NaN   NaN   NaN  0  "
      ]
     },
     "execution_count": 3,
     "metadata": {},
     "output_type": "execute_result"
    }
   ],
   "source": [
    "messages_df.head(1)"
   ]
  },
  {
   "cell_type": "markdown",
   "metadata": {},
   "source": [
    "The first thing we need to do is to transform this dataset in a list of phospho `lab.Message`, which is a data format more adapted for what we need to do. "
   ]
  },
  {
   "cell_type": "code",
   "execution_count": 4,
   "metadata": {},
   "outputs": [
    {
     "data": {
      "text/plain": [
       "[Message(id='0', created_at=1393372800, role=None, content=\"I'm old, and so is my computer.  Any advice that can help me maximize my computer perfomance is very welcome.  MaximumPC has some good tips on computer parts, vendors, and usefull tests\", previous_messages=[], metadata={}),\n",
       " Message(id='1', created_at=1078531200, role=None, content=\"There's nothing to say, but if you want a REAL men's magazine, this is it. They have great articles and stories, and I love the bits of knowledge that starts the Know & Tell section, and I love the last page, which has an interview with a celebrity. Just get this magazine and forget all the other mature men's mags.\", previous_messages=[], metadata={}),\n",
       " Message(id='2', created_at=1058227200, role=None, content=\"If you're the kind of man who looks at himself in a full length mirrror every morning, this is the magazine for you.\\nIf you think the car you drive defines you, the clothes you wear are the measure of your self-worth, the watch on your wrist tells the value of you as a person, and the woman you're seen with is a measure of your rank in society- you need this magazine.\\nOther men- who might value human relationships- may profitably give it a pass.\", previous_messages=[], metadata={}),\n",
       " Message(id='3', created_at=1422662400, role=None, content='Nothing to it.  Just an advertisement.  Little article content.', previous_messages=[], metadata={})]"
      ]
     },
     "execution_count": 4,
     "metadata": {},
     "output_type": "execute_result"
    }
   ],
   "source": [
    "# Convert every valid row of the df into a lab.Message\n",
    "messages = lab.Message.from_df(messages_df, content=\"reviewText\", created_at=\"unixReviewTime\", id=\"id\")\n",
    "messages[:4]"
   ]
  },
  {
   "cell_type": "markdown",
   "metadata": {},
   "source": [
    "## Make API calls to OpenAI\n",
    "\n",
    "Let's create a function that takes a message content as an input, and then make a call to OpenAI to get a list of keywords. \n",
    "\n",
    "### Step by step\n",
    "\n",
    "First, we'll take a message. "
   ]
  },
  {
   "cell_type": "code",
   "execution_count": 5,
   "metadata": {},
   "outputs": [
    {
     "data": {
      "text/plain": [
       "Message(id='0', created_at=1393372800, role=None, content=\"I'm old, and so is my computer.  Any advice that can help me maximize my computer perfomance is very welcome.  MaximumPC has some good tips on computer parts, vendors, and usefull tests\", previous_messages=[], metadata={})"
      ]
     },
     "execution_count": 5,
     "metadata": {},
     "output_type": "execute_result"
    }
   ],
   "source": [
    "message = messages[0]\n",
    "message"
   ]
  },
  {
   "cell_type": "markdown",
   "metadata": {},
   "source": [
    "Then, we embed it into a prompt that we make to OpenAI."
   ]
  },
  {
   "cell_type": "code",
   "execution_count": 6,
   "metadata": {},
   "outputs": [
    {
     "data": {
      "text/plain": [
       "'- old computer\\n- maximize performance\\n- computer parts\\n- vendors\\n- useful tests\\n- MaximumPC'"
      ]
     },
     "execution_count": 6,
     "metadata": {},
     "output_type": "execute_result"
    }
   ],
   "source": [
    "openai_client = openai.AsyncClient(api_key=os.environ[\"OPENAI_API_KEY\"])\n",
    "\n",
    "# Label every message with keywords it contains\n",
    "prompt = f\"\"\"You are an annotator reading Amazon product reviews. Your job is to label\n",
    "each review with keywords that describe the main topics covered in the review.\n",
    "The review is: \n",
    "{message.content}\n",
    "\n",
    "Return a list of max 10 keywords as a bullet point list: `- keyword1\\n- keyword2\\n- keyword3`\n",
    "Keywords:\"\"\"\n",
    "\n",
    "response = await openai_client.chat.completions.create(\n",
    "    model=\"gpt-3.5-turbo\",\n",
    "    messages=[\n",
    "        {\n",
    "            \"role\": \"system\",\n",
    "            \"content\": \"You are a business analyst, expert in e-commerce.\",\n",
    "        },\n",
    "        {\"role\": \"user\", \"content\": prompt},\n",
    "    ],\n",
    ")\n",
    "response.choices[0].message.content"
   ]
  },
  {
   "cell_type": "markdown",
   "metadata": {},
   "source": [
    "Finally, we use regex to read the response. "
   ]
  },
  {
   "cell_type": "code",
   "execution_count": 7,
   "metadata": {},
   "outputs": [
    {
     "data": {
      "text/plain": [
       "['old computer',\n",
       " 'maximize performance',\n",
       " 'computer parts',\n",
       " 'vendors',\n",
       " 'useful tests',\n",
       " 'MaximumPC']"
      ]
     },
     "execution_count": 7,
     "metadata": {},
     "output_type": "execute_result"
    }
   ],
   "source": [
    "response = response.choices[0].message.content\n",
    "# Parse the response to extract the keywords with regex\n",
    "keywords = re.findall(r\"- (.*)\", response)\n",
    "keywords"
   ]
  },
  {
   "cell_type": "markdown",
   "metadata": {},
   "source": [
    "### Turn this into a phospho job\n",
    "\n",
    "Okay, let's muscle up and turn this proof of concept into a function.\n",
    "\n",
    "However, let's respect the phospho job convention. To respect the convention, we need the function to take a lab.Message as an input, and return a lab.JobResult as an output.\n",
    "\n",
    "Respecting this format helps us parallelize the calls later on. \n",
    "\n",
    "Here's what the function looks like:"
   ]
  },
  {
   "cell_type": "code",
   "execution_count": 8,
   "metadata": {},
   "outputs": [],
   "source": [
    "async def get_keywords(\n",
    "    message: lab.Message,\n",
    "    model: str=\"openai:gpt-3.5-turbo\",\n",
    ") -> lab.JobResult:\n",
    "    \"\"\"\n",
    "    This function uses OpenAI GPT to extract keywords from a given message.\n",
    "    \"\"\"\n",
    "    provider, model_name = lab.get_provider_and_model(model)\n",
    "    openai_client = lab.get_async_client(provider)\n",
    "\n",
    "    # Label every message with keywords it contains\n",
    "    prompt = f\"\"\"You are an annotator reading Amazon product reviews. Your job is to label\n",
    "    each review with topics that describe important topics covered in the review, relevant\n",
    "    to the e-commerce domain. Do not include generic topics such as \"good\", \"bad\", \"interesting\", etc.\n",
    "    \n",
    "    The review is: \n",
    "    {message.content}\n",
    "\n",
    "    Return a list of max 10 keywords as a bullet point list: `- keyword1\\n- keyword2\\n- keyword3`\n",
    "    Keywords:\"\"\"\n",
    "\n",
    "    response = await openai_client.chat.completions.create(\n",
    "        model=\"gpt-3.5-turbo\",\n",
    "        messages=[\n",
    "            {\n",
    "                \"role\": \"system\",\n",
    "                \"content\": \"You are a business analyst, expert in e-commerce.\",\n",
    "            },\n",
    "            {\"role\": \"user\", \"content\": prompt},\n",
    "        ],\n",
    "    )\n",
    "\n",
    "    response = response.choices[0].message.content\n",
    "    # Parse the response to extract the keywords with regex\n",
    "    keywords = re.findall(r\"- (.*)\", response)\n",
    "    # Let's trim and lowercase the keywords\n",
    "    keywords = [keyword.strip().lower() for keyword in keywords]\n",
    "    return lab.JobResult(\n",
    "        value=keywords,\n",
    "        result_type=lab.ResultType.list,\n",
    "    )"
   ]
  },
  {
   "cell_type": "markdown",
   "metadata": {},
   "source": [
    "Easy, right ? Let's try the function on a single keyword:"
   ]
  },
  {
   "cell_type": "code",
   "execution_count": 9,
   "metadata": {},
   "outputs": [
    {
     "data": {
      "text/plain": [
       "JobResult(value=['computer performance tips', 'maximumpc', 'computer parts', 'vendors', 'useful tests'], result_type=<ResultType.list: 'list'>, logs=[], metadata={}, created_at=1710804893, job_id=None)"
      ]
     },
     "execution_count": 9,
     "metadata": {},
     "output_type": "execute_result"
    }
   ],
   "source": [
    "# Try the function one a single message\n",
    "await get_keywords(messages[0])"
   ]
  },
  {
   "cell_type": "markdown",
   "metadata": {},
   "source": [
    "## Run the job on multiple messages\n",
    "\n",
    "Now, let's run the jobs on the dataset. \n",
    "\n",
    "### Without phospho\n",
    "\n",
    "With a simple for loop, you have to wait for a full API call to complete before running the next one. This takes a long time.  \n",
    "\n",
    "With **parallelism**, you can make multiple calls at the same time, but debugging becomes much harder.\n",
    "\n",
    "Moreover, OpenAI and model providers have set up **rate limits.** If you parallelize without care, you will reach rate limits of OpenAI, and your requests will fail.\n",
    "\n",
    "### With phospho\n",
    "\n",
    "phospho introduces the abstraction of a Workload. A workload is a set of jobs to run. "
   ]
  },
  {
   "cell_type": "code",
   "execution_count": 10,
   "metadata": {},
   "outputs": [
    {
     "name": "stderr",
     "output_type": "stream",
     "text": [
      "No job_config provided. Running with empty config\n"
     ]
    }
   ],
   "source": [
    "workload = lab.Workload(jobs=[lab.Job(job_function=get_keywords)])"
   ]
  },
  {
   "cell_type": "markdown",
   "metadata": {},
   "source": [
    "A workload offers quick configuration for the problem presented before:\n",
    "- `executor_mode`: switch between `sequential` to debug and `parallel` to parallelize API cals\n",
    "- `max_parallelism`: slow down purposefuly the number of requests per second to avoid being rate limited.\n",
    "\n",
    "Here is how to run a workload."
   ]
  },
  {
   "cell_type": "code",
   "execution_count": 11,
   "metadata": {},
   "outputs": [
    {
     "name": "stderr",
     "output_type": "stream",
     "text": [
      "  0%|          | 0/100 [00:00<?, ?it/s]"
     ]
    },
    {
     "name": "stderr",
     "output_type": "stream",
     "text": [
      "100%|██████████| 100/100 [00:07<00:00, 12.84it/s]\n"
     ]
    },
    {
     "data": {
      "text/plain": [
       "{'0': {'get_keywords': JobResult(value=['computer performance', 'tips', 'computer parts', 'vendors', 'useful tests', 'advice', 'maximize', 'maximumpc'], result_type=<ResultType.list: 'list'>, logs=[], metadata={}, created_at=1710804712, job_id='get_keywords')},\n",
       " '1': {'get_keywords': JobResult(value=[\"men's magazine\", 'articles', 'stories', 'know & tell section', 'celebrity interviews', \"mature men's magazines\", 'content quality', 'magazine recommendation'], result_type=<ResultType.list: 'list'>, logs=[], metadata={}, created_at=1710804711, job_id='get_keywords')},\n",
       " '2': {'get_keywords': JobResult(value=['self-image', 'materialism', 'status symbol', 'societal expectations', 'appearance-oriented', 'magazine content', 'consumer culture', 'lifestyle validation'], result_type=<ResultType.list: 'list'>, logs=[], metadata={}, created_at=1710804712, job_id='get_keywords')},\n",
       " '3': {'get_keywords': JobResult(value=['advertisement', 'little content'], result_type=<ResultType.list: 'list'>, logs=[], metadata={}, created_at=1710804711, job_id='get_keywords')},\n",
       " '4': {'get_keywords': JobResult(value=['pc magazine replacement', 'computers and technology information', 'white paper technology explanations', 'aes data security', 'user questions answered', 'feature articles', 'latest news', 'tech gear reviews', 'rating system', 'comprehensive computer field coverage'], result_type=<ResultType.list: 'list'>, logs=[], metadata={}, created_at=1710804712, job_id='get_keywords')},\n",
       " '5': {'get_keywords': JobResult(value=['magazine content', 'lifestyles', 'metrosexual', 'male audience', 'affordability', 'editorial depth', 'target audience', 'value for money', 'articles length', 'monthly interest'], result_type=<ResultType.list: 'list'>, logs=[], metadata={}, created_at=1710804712, job_id='get_keywords')},\n",
       " '6': {'get_keywords': JobResult(value=['pc magazine', 'upgrades', 'hardware info', 'tips', 'tricks', 'price'], result_type=<ResultType.list: 'list'>, logs=[], metadata={}, created_at=1710804711, job_id='get_keywords')},\n",
       " '7': {'get_keywords': JobResult(value=['details magazine', \"men's lifestyle\", 'magazine departments', 'writing diversity', 'eye-catching headlines', 'explicit language', 'advertisement content', \"men's fashion\", 'anthropology section', 'reader opinions'], result_type=<ResultType.list: 'list'>, logs=[], metadata={}, created_at=1710804712, job_id='get_keywords')},\n",
       " '8': {'get_keywords': JobResult(value=['electronics magazine', 'product reviews', 'instructional articles', 'question and answer sessions', 'technical articles', 'electronic devices', 'technology enthusiasts', 'circuits and memory', 'young and middle-aged adults', 'quality of reviews'], result_type=<ResultType.list: 'list'>, logs=[], metadata={}, created_at=1710804712, job_id='get_keywords')},\n",
       " '9': {'get_keywords': JobResult(value=['maximum pc', 'subscription', 'cd', 'pc gamer', 'price', 'head 2 head', 'yahoo! mail', 'hotmail', 'pc magazine', 'independent magazine'], result_type=<ResultType.list: 'list'>, logs=[], metadata={}, created_at=1710804712, job_id='get_keywords')},\n",
       " '10': {'get_keywords': JobResult(value=['glamour magazine', 'articles content', 'fashion', 'apparel', 'long-time reader', 'fashion trends', 'quality editorial content', 'fashionable clothing', 'appealing articles'], result_type=<ResultType.list: 'list'>, logs=[], metadata={}, created_at=1710804712, job_id='get_keywords')},\n",
       " '11': {'get_keywords': JobResult(value=['lower cover price', 'massive amount of ads', 'coupons', 'thin paper quality', 'home/garden publications', 'd&eacute;cor ideas', 'terrific recipes', 'fall colors', 'produce', 'remodeling'], result_type=<ResultType.list: 'list'>, logs=[], metadata={}, created_at=1710804712, job_id='get_keywords')},\n",
       " '12': {'get_keywords': JobResult(value=['magazine subscriptions', 'better homes and garden', 'country living', 'house & garden', 'gardening hints', 'recipes', 'cost-effective', 'recommendations', 'happy reading'], result_type=<ResultType.list: 'list'>, logs=[], metadata={}, created_at=1710804713, job_id='get_keywords')},\n",
       " '13': {'get_keywords': JobResult(value=['decorating project ideas', 'yours for the asking section', 'kids project section', 'cartoons', 'bright sunny day imagery', 'open kitchens', 'lush gardens', 'recipe section', 'petite caramel apple recipe', 'the rebecca review'], result_type=<ResultType.list: 'list'>, logs=[], metadata={}, created_at=1710804713, job_id='get_keywords')},\n",
       " '14': {'get_keywords': JobResult(value=[\"men's health\", 'workout routines', 'gym articles', \"men's perspective\", 'entertaining', \"men's reactions\", 'magazine personality'], result_type=<ResultType.list: 'list'>, logs=[], metadata={}, created_at=1710804712, job_id='get_keywords')},\n",
       " '15': {'get_keywords': JobResult(value=['magazine', 'sale ads', 'advertising', 'content overload'], result_type=<ResultType.list: 'list'>, logs=[], metadata={}, created_at=1710804712, job_id='get_keywords')},\n",
       " '16': {'get_keywords': JobResult(value=['magazine', 'love'], result_type=<ResultType.list: 'list'>, logs=[], metadata={}, created_at=1710804712, job_id='get_keywords')},\n",
       " '17': {'get_keywords': JobResult(value=['entertainment', 'enjoyment', 'leisure', 'amusement'], result_type=<ResultType.list: 'list'>, logs=[], metadata={}, created_at=1710804712, job_id='get_keywords')},\n",
       " '18': {'get_keywords': JobResult(value=['articles', 'photos', 'inspiring', 'variations', 'workouts'], result_type=<ResultType.list: 'list'>, logs=[], metadata={}, created_at=1710804713, job_id='get_keywords')},\n",
       " '19': {'get_keywords': JobResult(value=['male products', 'gender-specific items', \"men's merchandise\"], result_type=<ResultType.list: 'list'>, logs=[], metadata={}, created_at=1710804712, job_id='get_keywords')},\n",
       " '20': {'get_keywords': JobResult(value=['magazine', 'good info', 'repetitive', 'reminders'], result_type=<ResultType.list: 'list'>, logs=[], metadata={}, created_at=1710804713, job_id='get_keywords')},\n",
       " '21': {'get_keywords': JobResult(value=['magazine subscription', 'change of address', 'delivery issues', 'customer service'], result_type=<ResultType.list: 'list'>, logs=[], metadata={}, created_at=1710804713, job_id='get_keywords')},\n",
       " '22': {'get_keywords': JobResult(value=['glamour magazine', 'up-to-date information', 'well-written articles', 'great photos'], result_type=<ResultType.list: 'list'>, logs=[], metadata={}, created_at=1710804713, job_id='get_keywords')},\n",
       " '23': {'get_keywords': JobResult(value=['excellent conditions', 'well packed', 'new', 'no defect', 'as expected'], result_type=<ResultType.list: 'list'>, logs=[], metadata={}, created_at=1710804713, job_id='get_keywords')},\n",
       " '24': {'get_keywords': JobResult(value=['gift', 'purchase', 'present', 'buyer', 'recipient'], result_type=<ResultType.list: 'list'>, logs=[], metadata={}, created_at=1710804713, job_id='get_keywords')},\n",
       " '25': {'get_keywords': JobResult(value=['magazine', 'sweetheart', 'love'], result_type=<ResultType.list: 'list'>, logs=[], metadata={}, created_at=1710804713, job_id='get_keywords')},\n",
       " '26': {'get_keywords': JobResult(value=['children', 'reading', 'discussion', 'book', 'grandchildren'], result_type=<ResultType.list: 'list'>, logs=[], metadata={}, created_at=1710804713, job_id='get_keywords')},\n",
       " '27': {'get_keywords': JobResult(value=['great deal', 'office'], result_type=<ResultType.list: 'list'>, logs=[], metadata={}, created_at=1710804713, job_id='get_keywords')},\n",
       " '28': {'get_keywords': JobResult(value=['science lover', 'variety of articles', 'pictures', 'new technology', 'ever changing'], result_type=<ResultType.list: 'list'>, logs=[], metadata={}, created_at=1710804713, job_id='get_keywords')},\n",
       " '29': {'get_keywords': JobResult(value=['magazine subscription', 'auto subscribe', 'parenting content', 'kids content', 'retired reader', 'amazon deals', 'ease of reading', 'entertainment while watching tv'], result_type=<ResultType.list: 'list'>, logs=[], metadata={}, created_at=1710804714, job_id='get_keywords')},\n",
       " '30': {'get_keywords': JobResult(value=['living space', 'e-commerce', 'product', 'review', 'online shopping', 'experience', 'quality', 'satisfaction', 'usability', 'preferences'], result_type=<ResultType.list: 'list'>, logs=[], metadata={}, created_at=1710804713, job_id='get_keywords')},\n",
       " '31': {'get_keywords': JobResult(value=['ideas', 'decorating', 'recipes'], result_type=<ResultType.list: 'list'>, logs=[], metadata={}, created_at=1710804713, job_id='get_keywords')},\n",
       " '32': {'get_keywords': JobResult(value=['magazines', 'readers digest', 'articles', 'humor', 'advice', 'enjoyment', 'monthly', 'reading', 'content', 'appealing'], result_type=<ResultType.list: 'list'>, logs=[], metadata={}, created_at=1710804713, job_id='get_keywords')},\n",
       " '33': {'get_keywords': JobResult(value=[\"men's health subscription\", 'fitness', 'interested individuals', 'relevance of subscription to fitness level'], result_type=<ResultType.list: 'list'>, logs=[], metadata={}, created_at=1710804714, job_id='get_keywords')},\n",
       " '34': {'get_keywords': JobResult(value=['subscription price sharing', 'magazine content', 'ideas', 'relevance to life'], result_type=<ResultType.list: 'list'>, logs=[], metadata={}, created_at=1710804713, job_id='get_keywords')},\n",
       " '35': {'get_keywords': JobResult(value=['magazine', 'favorite', 'reading', 'subscription', 'content'], result_type=<ResultType.list: 'list'>, logs=[], metadata={}, created_at=1710804714, job_id='get_keywords')},\n",
       " '36': {'get_keywords': JobResult(value=['cheap subscription', 'easy to read layout', 'kindle fire hd'], result_type=<ResultType.list: 'list'>, logs=[], metadata={}, created_at=1710804714, job_id='get_keywords')},\n",
       " '37': {'get_keywords': JobResult(value=['magazine subscription', 'print and ipad edition', 'demographic targeting', 'fitness motivation', 'health and nutrition', 'content variety', 'aging readership', 'fitness programs', 'gender-specific health magazines'], result_type=<ResultType.list: 'list'>, logs=[], metadata={}, created_at=1710804714, job_id='get_keywords')},\n",
       " '38': {'get_keywords': JobResult(value=['glamour magazine', 'fashion trends', 'layering clothes', 'articles', 'life lessons', 'change in magazine', 'shopping mogul', 'ads', 'new trends', 'fashion advice'], result_type=<ResultType.list: 'list'>, logs=[], metadata={}, created_at=1710804714, job_id='get_keywords')},\n",
       " '39': {'get_keywords': JobResult(value=['excellent content', 'diversity in material'], result_type=<ResultType.list: 'list'>, logs=[], metadata={}, created_at=1710804714, job_id='get_keywords')},\n",
       " '40': {'get_keywords': JobResult(value=['grandmother', 'happy'], result_type=<ResultType.list: 'list'>, logs=[], metadata={}, created_at=1710804714, job_id='get_keywords')},\n",
       " '41': {'get_keywords': JobResult(value=['glamour magazine', 'careers', 'relationships', 'beauty', 'fashion', 'women', 'twenties', 'thirties', 'smart', 'entertaining'], result_type=<ResultType.list: 'list'>, logs=[], metadata={}, created_at=1710804714, job_id='get_keywords')},\n",
       " '42': {'get_keywords': JobResult(value=['subscription box', 'monthly delivery', 'enjoyable experience', 'recurring purchase'], result_type=<ResultType.list: 'list'>, logs=[], metadata={}, created_at=1710804714, job_id='get_keywords')},\n",
       " '43': {'get_keywords': JobResult(value=['ads', 'spam', 'misleading', 'product relevance', 'uninformative'], result_type=<ResultType.list: 'list'>, logs=[], metadata={}, created_at=1710804714, job_id='get_keywords')},\n",
       " '44': {'get_keywords': JobResult(value=['subscription service', 'customer loyalty', 'satisfaction', 'quality pictures'], result_type=<ResultType.list: 'list'>, logs=[], metadata={}, created_at=1710804714, job_id='get_keywords')},\n",
       " '45': {'get_keywords': JobResult(value=['magazine', 'helpful articles', 'baking', 'cosmetics', 'e-commerce'], result_type=<ResultType.list: 'list'>, logs=[], metadata={}, created_at=1710804714, job_id='get_keywords')},\n",
       " '46': {'get_keywords': JobResult(value=['product quality', 'delivery time', 'customer service', 'packaging', 'price', 'user interface', 'user experience', 'product variety', 'payment options', 'refund policy'], result_type=<ResultType.list: 'list'>, logs=[], metadata={}, created_at=1710804714, job_id='get_keywords')},\n",
       " '47': {'get_keywords': JobResult(value=['decorating ideas', 'home decor', 'creative suggestions', 'interior design', 'diy projects'], result_type=<ResultType.list: 'list'>, logs=[], metadata={}, created_at=1710804714, job_id='get_keywords')},\n",
       " '48': {'get_keywords': JobResult(value=['good price', 'great magazine'], result_type=<ResultType.list: 'list'>, logs=[], metadata={}, created_at=1710804714, job_id='get_keywords')},\n",
       " '49': {'get_keywords': JobResult(value=['excellent', 'quality', 'service', 'satisfaction', 'fast delivery', 'value for money', 'customer support', 'product description', 'easy shopping experience', 'packaging'], result_type=<ResultType.list: 'list'>, logs=[], metadata={}, created_at=1710804715, job_id='get_keywords')},\n",
       " '50': {'get_keywords': JobResult(value=['magazine', 'tips', 'articles', 'guy stuff', 'learning', 'keeping up to date', 'fast-paced world', 'information', 'updates', 'relevant information'], result_type=<ResultType.list: 'list'>, logs=[], metadata={}, created_at=1710804715, job_id='get_keywords')},\n",
       " '51': {'get_keywords': JobResult(value=['magazine', 'like', 'find', 'something'], result_type=<ResultType.list: 'list'>, logs=[], metadata={}, created_at=1710804716, job_id='get_keywords')},\n",
       " '52': {'get_keywords': JobResult(value=['value for money', 'paper magazines', 'good deal'], result_type=<ResultType.list: 'list'>, logs=[], metadata={}, created_at=1710804715, job_id='get_keywords')},\n",
       " '53': {'get_keywords': JobResult(value=['magazine content', 'affordable price', 'sharing with family', 'enjoyable publication'], result_type=<ResultType.list: 'list'>, logs=[], metadata={}, created_at=1710804715, job_id='get_keywords')},\n",
       " '54': {'get_keywords': JobResult(value=['handyman magazine', 'wood magazine', 'patterns', 'articles', 'tips', 'cleaning', 'subscription', 'information', 'useful', 'thankful'], result_type=<ResultType.list: 'list'>, logs=[], metadata={}, created_at=1710804715, job_id='get_keywords')},\n",
       " '55': {'get_keywords': JobResult(value=['resourceful'], result_type=<ResultType.list: 'list'>, logs=[], metadata={}, created_at=1710804715, job_id='get_keywords')},\n",
       " '56': {'get_keywords': JobResult(value=['magazine updates', 'style', 'projects', 'website guest writers/bloggers', 'recommendation'], result_type=<ResultType.list: 'list'>, logs=[], metadata={}, created_at=1710804715, job_id='get_keywords')},\n",
       " '57': {'get_keywords': JobResult(value=['magazine', 'great articles'], result_type=<ResultType.list: 'list'>, logs=[], metadata={}, created_at=1710804715, job_id='get_keywords')},\n",
       " '58': {'get_keywords': JobResult(value=['magazine', 'product description', 'quality', 'shipping', 'customer service', 'price', 'packaging', 'brand reputation', 'user experience', 'return policy'], result_type=<ResultType.list: 'list'>, logs=[], metadata={}, created_at=1710804715, job_id='get_keywords')},\n",
       " '59': {'get_keywords': JobResult(value=['packing', 'shipping time', 'expectations met'], result_type=<ResultType.list: 'list'>, logs=[], metadata={}, created_at=1710804715, job_id='get_keywords')},\n",
       " '60': {'get_keywords': JobResult(value=['quickly shipped', 'loved', 'item'], result_type=<ResultType.list: 'list'>, logs=[], metadata={}, created_at=1710804715, job_id='get_keywords')},\n",
       " '61': {'get_keywords': JobResult(value=['magazine', 'home ideas', 'garden', 'advertising'], result_type=<ResultType.list: 'list'>, logs=[], metadata={}, created_at=1710804715, job_id='get_keywords')},\n",
       " '62': {'get_keywords': JobResult(value=['wife', 'happy'], result_type=<ResultType.list: 'list'>, logs=[], metadata={}, created_at=1710804715, job_id='get_keywords')},\n",
       " '63': {'get_keywords': JobResult(value=['magazine', 'pretty pictures', 'ideas', 'home decor', 'hints', 'purchase satisfaction'], result_type=<ResultType.list: 'list'>, logs=[], metadata={}, created_at=1710804715, job_id='get_keywords')},\n",
       " '64': {'get_keywords': JobResult(value=['home magazines', 'subscription', 'gym', 'price', 'articles', 'quality', 'value for money'], result_type=<ResultType.list: 'list'>, logs=[], metadata={}, created_at=1710804716, job_id='get_keywords')},\n",
       " '65': {'get_keywords': JobResult(value=['tips', 'instructions', 'ideas', 'knowledge', 'projects', 'short cuts', 'useful information', 'magazine'], result_type=<ResultType.list: 'list'>, logs=[], metadata={}, created_at=1710804716, job_id='get_keywords')},\n",
       " '66': {'get_keywords': JobResult(value=[\"men's health magazine\", 'content quality', 'magazine format', 'article length', 'advertisements', 'lifestyle portrayed', 'practical information', 'appeal to target audience', 'list format', 'lack of relatability'], result_type=<ResultType.list: 'list'>, logs=[], metadata={}, created_at=1710804716, job_id='get_keywords')},\n",
       " '67': {'get_keywords': JobResult(value=['magazine'], result_type=<ResultType.list: 'list'>, logs=[], metadata={}, created_at=1710804716, job_id='get_keywords')},\n",
       " '68': {'get_keywords': JobResult(value=['magazine subscription', 'gift giving', 'ordering process', 'shipping information'], result_type=<ResultType.list: 'list'>, logs=[], metadata={}, created_at=1710804716, job_id='get_keywords')},\n",
       " '69': {'get_keywords': JobResult(value=['love'], result_type=<ResultType.list: 'list'>, logs=[], metadata={}, created_at=1710804716, job_id='get_keywords')},\n",
       " '70': {'get_keywords': JobResult(value=['magazine', 'advertisements', 'dislike'], result_type=<ResultType.list: 'list'>, logs=[], metadata={}, created_at=1710804716, job_id='get_keywords')},\n",
       " '71': {'get_keywords': JobResult(value=['articles', 'recipes', 'subscription', 'generations', 'reading tradition'], result_type=<ResultType.list: 'list'>, logs=[], metadata={}, created_at=1710804716, job_id='get_keywords')},\n",
       " '72': {'get_keywords': JobResult(value=['magazine', 'love'], result_type=<ResultType.list: 'list'>, logs=[], metadata={}, created_at=1710804716, job_id='get_keywords')},\n",
       " '73': {'get_keywords': JobResult(value=['magazine', 'planting', 'flowers', 'remodel', 'house', 'ideas', 'care', 'great'], result_type=<ResultType.list: 'list'>, logs=[], metadata={}, created_at=1710804717, job_id='get_keywords')},\n",
       " '74': {'get_keywords': JobResult(value=['specific search', 'meeting expectations', 'fulfilled needs'], result_type=<ResultType.list: 'list'>, logs=[], metadata={}, created_at=1710804716, job_id='get_keywords')},\n",
       " '75': {'get_keywords': JobResult(value=[\"men's magazine\", 'affluent young men', 'lifestyle content', 'fashion and style', 'fitness and health', 'masculinity in modern world', 'male stereotypes', 'workout regimens', 'entertainment content', 'targeted advertising'], result_type=<ResultType.list: 'list'>, logs=[], metadata={}, created_at=1710804717, job_id='get_keywords')},\n",
       " '76': {'get_keywords': JobResult(value=['reception room', 'served its purpose'], result_type=<ResultType.list: 'list'>, logs=[], metadata={}, created_at=1710804716, job_id='get_keywords')},\n",
       " '77': {'get_keywords': JobResult(value=['price', 'magazine', 'good品'], result_type=<ResultType.list: 'list'>, logs=[], metadata={}, created_at=1710804716, job_id='get_keywords')},\n",
       " '78': {'get_keywords': JobResult(value=['magazine', 'subscription', 'satisfaction'], result_type=<ResultType.list: 'list'>, logs=[], metadata={}, created_at=1710804716, job_id='get_keywords')},\n",
       " '79': {'get_keywords': JobResult(value=['gift for wife', 'good articles', 'great recipes'], result_type=<ResultType.list: 'list'>, logs=[], metadata={}, created_at=1710804716, job_id='get_keywords')},\n",
       " '80': {'get_keywords': JobResult(value=['reading'], result_type=<ResultType.list: 'list'>, logs=[], metadata={}, created_at=1710804716, job_id='get_keywords')},\n",
       " '81': {'get_keywords': JobResult(value=['high quality', 'customer service', 'fast delivery', 'user-friendly', 'competitive pricing'], result_type=<ResultType.list: 'list'>, logs=[], metadata={}, created_at=1710804717, job_id='get_keywords')},\n",
       " '82': {'get_keywords': JobResult(value=['articles'], result_type=<ResultType.list: 'list'>, logs=[], metadata={}, created_at=1710804716, job_id='get_keywords')},\n",
       " '83': {'get_keywords': JobResult(value=['duplicates', 'wrong address', 'subscriptions manager'], result_type=<ResultType.list: 'list'>, logs=[], metadata={}, created_at=1710804717, job_id='get_keywords')},\n",
       " '84': {'get_keywords': JobResult(value=['favorite', 'top choice', 'must-have', 'excellent', 'fantastic', 'amazing', 'love it', 'great purchase', 'highly recommend', 'convenience'], result_type=<ResultType.list: 'list'>, logs=[], metadata={}, created_at=1710804717, job_id='get_keywords')},\n",
       " '85': {'get_keywords': JobResult(value=['magazines', 'ads', 'price'], result_type=<ResultType.list: 'list'>, logs=[], metadata={}, created_at=1710804717, job_id='get_keywords')},\n",
       " '86': {'get_keywords': JobResult(value=['print magazine', 'kindle magazine', 'subscription', 'charging issue', 'cancellation', 'publisher', 'amazon', 'customer service', 'difficulty', 'billing'], result_type=<ResultType.list: 'list'>, logs=[], metadata={}, created_at=1710804717, job_id='get_keywords')},\n",
       " '87': {'get_keywords': JobResult(value=['perfect'], result_type=<ResultType.list: 'list'>, logs=[], metadata={}, created_at=1710804717, job_id='get_keywords')},\n",
       " '88': {'get_keywords': JobResult(value=['better homes and gardens', 'kindle hd7', 'magazine', 'home decor ideas', 'family care', 'kindle reading', 'subscription', 'e-commerce transition', 'reading experience', 'information acquisition'], result_type=<ResultType.list: 'list'>, logs=[], metadata={}, created_at=1710804717, job_id='get_keywords')},\n",
       " '89': {'get_keywords': JobResult(value=['magazine', 'subscription', 'excitement', 'regular delivery', \"husband's favorite\", 'anticipation', 'monthly addition', 'enjoyment'], result_type=<ResultType.list: 'list'>, logs=[], metadata={}, created_at=1710804717, job_id='get_keywords')},\n",
       " '90': {'get_keywords': JobResult(value=['bh&g (better homes & gardens)', 'gardening', 'redecorating', 'renovating', 'magazine content', 'home decor', 'gardening basics', 'day-to-day life', 'ads', 'inserts'], result_type=<ResultType.list: 'list'>, logs=[], metadata={}, created_at=1710804718, job_id='get_keywords')},\n",
       " '91': {'get_keywords': JobResult(value=['better homes and garden', 'magazine', 'renewal', 'class', 'aspects', '2015'], result_type=<ResultType.list: 'list'>, logs=[], metadata={}, created_at=1710804717, job_id='get_keywords')},\n",
       " '92': {'get_keywords': JobResult(value=['ideas', 'great'], result_type=<ResultType.list: 'list'>, logs=[], metadata={}, created_at=1710804717, job_id='get_keywords')},\n",
       " '93': {'get_keywords': JobResult(value=['magazine', 'decorating', 'recipes', 'new items'], result_type=<ResultType.list: 'list'>, logs=[], metadata={}, created_at=1710804717, job_id='get_keywords')},\n",
       " '94': {'get_keywords': JobResult(value=['subscription', 'pleased', 'satisfaction'], result_type=<ResultType.list: 'list'>, logs=[], metadata={}, created_at=1710804717, job_id='get_keywords')},\n",
       " '95': {'get_keywords': JobResult(value=['better homes and gardens magazine', 'house', 'garden', 'dream', 'lifestyle inspiration'], result_type=<ResultType.list: 'list'>, logs=[], metadata={}, created_at=1710804718, job_id='get_keywords')},\n",
       " '96': {'get_keywords': JobResult(value=['satisfied', 'happy', 'pleased', 'content', 'fulfilled'], result_type=<ResultType.list: 'list'>, logs=[], metadata={}, created_at=1710804718, job_id='get_keywords')},\n",
       " '97': {'get_keywords': JobResult(value=['better homes', 'up to date ideas', 'practical ideas', 'decorating', 'family living', 'food preparation', 'gardening', 'budget projects'], result_type=<ResultType.list: 'list'>, logs=[], metadata={}, created_at=1710804718, job_id='get_keywords')},\n",
       " '98': {'get_keywords': JobResult(value=['gluten free cooking', 'consumer-driven content', 'budget room remodels', 'family and social issues', 'modern mom', 'disposable income', 'good housekeeping seal', 'product recommendations', 'quality of life', 'home magazines'], result_type=<ResultType.list: 'list'>, logs=[], metadata={}, created_at=1710804718, job_id='get_keywords')},\n",
       " '99': {'get_keywords': JobResult(value=['magazine', 'audience targeting', 'article quality', 'restaurant reviews', 'advertising', 'subscription value', 'gift idea', 'local government', 'spa treatments', 'face lift'], result_type=<ResultType.list: 'list'>, logs=[], metadata={}, created_at=1710804718, job_id='get_keywords')}}"
      ]
     },
     "execution_count": 11,
     "metadata": {},
     "output_type": "execute_result"
    }
   ],
   "source": [
    "# Run the workload on the messages\n",
    "await workload.async_run(\n",
    "    messages[:100], # Replace by messages to run on the whole dataset\n",
    "    executor_type=\"parallel\", # Run the job on every messages in parallel\n",
    "    max_parallelism=10, # Start at most 10 jobs per second to avoid rate limiting\n",
    ")"
   ]
  },
  {
   "cell_type": "markdown",
   "metadata": {},
   "source": [
    "Results are stored in the workload, in a dictionary: `message_id -> job_id -> JobResult`"
   ]
  },
  {
   "cell_type": "code",
   "execution_count": 12,
   "metadata": {},
   "outputs": [
    {
     "data": {
      "text/plain": [
       "{'get_keywords': JobResult(value=['computer performance', 'tips', 'computer parts', 'vendors', 'useful tests', 'advice', 'maximize', 'maximumpc'], result_type=<ResultType.list: 'list'>, logs=[], metadata={}, created_at=1710804712, job_id='get_keywords')}"
      ]
     },
     "execution_count": 12,
     "metadata": {},
     "output_type": "execute_result"
    }
   ],
   "source": [
    "workload.results[\"0\"]"
   ]
  },
  {
   "cell_type": "markdown",
   "metadata": {},
   "source": [
    "## Display results\n",
    "\n",
    "Now that we ran the keyword detection on our dataset, let's get the results in a format more adapted for analytics."
   ]
  },
  {
   "cell_type": "code",
   "execution_count": 13,
   "metadata": {},
   "outputs": [
    {
     "data": {
      "text/html": [
       "<div>\n",
       "<style scoped>\n",
       "    .dataframe tbody tr th:only-of-type {\n",
       "        vertical-align: middle;\n",
       "    }\n",
       "\n",
       "    .dataframe tbody tr th {\n",
       "        vertical-align: top;\n",
       "    }\n",
       "\n",
       "    .dataframe thead th {\n",
       "        text-align: right;\n",
       "    }\n",
       "</style>\n",
       "<table border=\"1\" class=\"dataframe\">\n",
       "  <thead>\n",
       "    <tr style=\"text-align: right;\">\n",
       "      <th></th>\n",
       "      <th>get_keywords</th>\n",
       "    </tr>\n",
       "  </thead>\n",
       "  <tbody>\n",
       "    <tr>\n",
       "      <th>0</th>\n",
       "      <td>[computer performance, tips, computer parts, v...</td>\n",
       "    </tr>\n",
       "    <tr>\n",
       "      <th>1</th>\n",
       "      <td>[men's magazine, articles, stories, know &amp; tel...</td>\n",
       "    </tr>\n",
       "    <tr>\n",
       "      <th>10</th>\n",
       "      <td>[glamour magazine, articles content, fashion, ...</td>\n",
       "    </tr>\n",
       "  </tbody>\n",
       "</table>\n",
       "</div>"
      ],
      "text/plain": [
       "                                         get_keywords\n",
       "0   [computer performance, tips, computer parts, v...\n",
       "1   [men's magazine, articles, stories, know & tel...\n",
       "10  [glamour magazine, articles content, fashion, ..."
      ]
     },
     "execution_count": 13,
     "metadata": {},
     "output_type": "execute_result"
    }
   ],
   "source": [
    "# In this df, the index is the message_id, and the column is the job_id\n",
    "results_df = workload.results_df()\n",
    "results_df.head(3)"
   ]
  },
  {
   "cell_type": "markdown",
   "metadata": {},
   "source": [
    "And join back the outputs with the original dataframe. "
   ]
  },
  {
   "cell_type": "code",
   "execution_count": 14,
   "metadata": {},
   "outputs": [
    {
     "data": {
      "text/html": [
       "<div>\n",
       "<style scoped>\n",
       "    .dataframe tbody tr th:only-of-type {\n",
       "        vertical-align: middle;\n",
       "    }\n",
       "\n",
       "    .dataframe tbody tr th {\n",
       "        vertical-align: top;\n",
       "    }\n",
       "\n",
       "    .dataframe thead th {\n",
       "        text-align: right;\n",
       "    }\n",
       "</style>\n",
       "<table border=\"1\" class=\"dataframe\">\n",
       "  <thead>\n",
       "    <tr style=\"text-align: right;\">\n",
       "      <th></th>\n",
       "      <th>get_keywords</th>\n",
       "      <th>overall</th>\n",
       "      <th>verified</th>\n",
       "      <th>reviewTime</th>\n",
       "      <th>reviewerID</th>\n",
       "      <th>asin</th>\n",
       "      <th>reviewerName</th>\n",
       "      <th>reviewText</th>\n",
       "      <th>summary</th>\n",
       "      <th>unixReviewTime</th>\n",
       "      <th>vote</th>\n",
       "      <th>style</th>\n",
       "      <th>image</th>\n",
       "      <th>id</th>\n",
       "    </tr>\n",
       "  </thead>\n",
       "  <tbody>\n",
       "    <tr>\n",
       "      <th>0</th>\n",
       "      <td>[computer performance, tips, computer parts, v...</td>\n",
       "      <td>4</td>\n",
       "      <td>True</td>\n",
       "      <td>02 26, 2014</td>\n",
       "      <td>A5QQOOZJOVPSF</td>\n",
       "      <td>B00005N7P0</td>\n",
       "      <td>John L. Mehlmauer</td>\n",
       "      <td>I'm old, and so is my computer.  Any advice th...</td>\n",
       "      <td>Cheapskates guide</td>\n",
       "      <td>1393372800</td>\n",
       "      <td>NaN</td>\n",
       "      <td>NaN</td>\n",
       "      <td>NaN</td>\n",
       "      <td>0</td>\n",
       "    </tr>\n",
       "    <tr>\n",
       "      <th>1</th>\n",
       "      <td>[men's magazine, articles, stories, know &amp; tel...</td>\n",
       "      <td>5</td>\n",
       "      <td>False</td>\n",
       "      <td>03 6, 2004</td>\n",
       "      <td>A5RHZE7B8SV5Q</td>\n",
       "      <td>B00005N7PS</td>\n",
       "      <td>gorillazfan249</td>\n",
       "      <td>There's nothing to say, but if you want a REAL...</td>\n",
       "      <td>The best mature Men's magazine.</td>\n",
       "      <td>1078531200</td>\n",
       "      <td>3.0</td>\n",
       "      <td>NaN</td>\n",
       "      <td>NaN</td>\n",
       "      <td>1</td>\n",
       "    </tr>\n",
       "    <tr>\n",
       "      <th>10</th>\n",
       "      <td>[glamour magazine, articles content, fashion, ...</td>\n",
       "      <td>5</td>\n",
       "      <td>True</td>\n",
       "      <td>06 12, 2017</td>\n",
       "      <td>A2VRQ8RNTKY1XT</td>\n",
       "      <td>B00005N7QC</td>\n",
       "      <td>Barbara M. Fox</td>\n",
       "      <td>I love glamour mag. I have read it for over 25...</td>\n",
       "      <td>Great magazine</td>\n",
       "      <td>1497225600</td>\n",
       "      <td>NaN</td>\n",
       "      <td>{'Format:': ' Kindle Edition'}</td>\n",
       "      <td>NaN</td>\n",
       "      <td>10</td>\n",
       "    </tr>\n",
       "  </tbody>\n",
       "</table>\n",
       "</div>"
      ],
      "text/plain": [
       "                                         get_keywords  overall  verified  \\\n",
       "0   [computer performance, tips, computer parts, v...        4      True   \n",
       "1   [men's magazine, articles, stories, know & tel...        5     False   \n",
       "10  [glamour magazine, articles content, fashion, ...        5      True   \n",
       "\n",
       "     reviewTime      reviewerID        asin       reviewerName  \\\n",
       "0   02 26, 2014   A5QQOOZJOVPSF  B00005N7P0  John L. Mehlmauer   \n",
       "1    03 6, 2004   A5RHZE7B8SV5Q  B00005N7PS     gorillazfan249   \n",
       "10  06 12, 2017  A2VRQ8RNTKY1XT  B00005N7QC     Barbara M. Fox   \n",
       "\n",
       "                                           reviewText  \\\n",
       "0   I'm old, and so is my computer.  Any advice th...   \n",
       "1   There's nothing to say, but if you want a REAL...   \n",
       "10  I love glamour mag. I have read it for over 25...   \n",
       "\n",
       "                            summary  unixReviewTime  vote  \\\n",
       "0                 Cheapskates guide      1393372800   NaN   \n",
       "1   The best mature Men's magazine.      1078531200   3.0   \n",
       "10                   Great magazine      1497225600   NaN   \n",
       "\n",
       "                             style image  id  \n",
       "0                              NaN   NaN   0  \n",
       "1                              NaN   NaN   1  \n",
       "10  {'Format:': ' Kindle Edition'}   NaN  10  "
      ]
     },
     "execution_count": 14,
     "metadata": {},
     "output_type": "execute_result"
    }
   ],
   "source": [
    "augmented_messages_df = results_df.merge(messages_df, left_index=True, right_on=\"id\")\n",
    "augmented_messages_df.head(3)"
   ]
  },
  {
   "cell_type": "code",
   "execution_count": 15,
   "metadata": {},
   "outputs": [
    {
     "name": "stdout",
     "output_type": "stream",
     "text": [
      "Number of different keywords extracted: 433\n"
     ]
    }
   ],
   "source": [
    "print(\"Number of different keywords extracted:\", augmented_messages_df[\"get_keywords\"].explode().nunique())"
   ]
  },
  {
   "cell_type": "markdown",
   "metadata": {},
   "source": [
    "We can now have tons of fun with the extracted keywords and do all kind of data analytics. "
   ]
  },
  {
   "cell_type": "code",
   "execution_count": 16,
   "metadata": {},
   "outputs": [
    {
     "data": {
      "text/plain": [
       "<Axes: title={'center': 'Most common keywords in the dataset'}, xlabel='get_keywords'>"
      ]
     },
     "execution_count": 16,
     "metadata": {},
     "output_type": "execute_result"
    },
    {
     "data": {
      "image/png": "[encoded data removed]",
      "text/plain": [
       "<Figure size 1000x500 with 1 Axes>"
      ]
     },
     "metadata": {},
     "output_type": "display_data"
    }
   ],
   "source": [
    "# Eg: Count the number of messages that contain a specific keyword\n",
    "\n",
    "keywords_to_count = augmented_messages_df.explode(\"get_keywords\").groupby(\"get_keywords\").size().sort_values(ascending=False)\n",
    "\n",
    "keywords_to_count.head(20).plot(kind=\"bar\", figsize=(10, 5), title=\"Most common keywords in the dataset\")"
   ]
  },
  {
   "cell_type": "markdown",
   "metadata": {},
   "source": [
    "## Bonus: Use the previous results of the job\n",
    "\n",
    "This PoC was cool, but all the Job execution are independent. \n",
    "\n",
    "Let's say that you want to **use the previous results of the job** as context for the current message. For example, to anchor the LLM with the current keywords found.\n",
    "\n",
    "There are multiple ways to do it. \n",
    "\n",
    "### With phospho\n",
    "\n",
    "With phospho, one cool way is to set a `job` argument to the job function. At runtime, `job` is then a reference to the current lab.Job and contains all results so far."
   ]
  },
  {
   "cell_type": "code",
   "execution_count": 17,
   "metadata": {},
   "outputs": [],
   "source": [
    "async def get_keywords_previous_results(\n",
    "    message: lab.Message,\n",
    "    job: lab.Job = None, # Add the job as an argument\n",
    "    model: str=\"openai:gpt-3.5-turbo\",\n",
    ") -> lab.JobResult:\n",
    "    \"\"\"\n",
    "    This function uses OpenAI GPT to extract keywords from a given message.\n",
    "\n",
    "    It also uses the previous results of the job to provide context to the LLM.\n",
    "    The job argument is used to access the previous results.\n",
    "    \"\"\"\n",
    "    provider, model_name = lab.get_provider_and_model(model)\n",
    "    openai_client = lab.get_async_client(provider)\n",
    "\n",
    "    # Using the reference to the job, we can access the results of the other jobs\n",
    "    # to use them as context for the current job\n",
    "    previous_keywords = []\n",
    "    if job:\n",
    "        # Get the previous results\n",
    "        previous_job_results = job.results.values()\n",
    "        # Let's flatten the list of lists of keywords\n",
    "        previous_keywords = [keyword for result in previous_job_results for keyword in result.value]\n",
    "\n",
    "    prompt = \"You are an annotator reading Amazon product reviews. Your job is to label \\\n",
    "    each review with topics that describe important topics covered in the review, relevant \\\n",
    "    to the e-commerce domain. Do not include generic topics such as 'good', 'bad', 'interesting', etc.\"\n",
    "    \n",
    "    # If there are previous results, we add them to the prompt\n",
    "    if len(previous_keywords) > 0:\n",
    "        prompt += f\"\"\"\n",
    "        So far, you've reviewed {len(previous_job_results)} reviews, and the keywords you've found are:\n",
    "        {\", \".join(previous_keywords)}\n",
    "\n",
    "        If possible, reuse the existing topics to label the current review. Do not add \n",
    "        variations of the same topics.\"\"\"\n",
    "\n",
    "    prompt = f\"\"\"The review is: \n",
    "    {message.content}\n",
    "\n",
    "    Return a list of max 10 keywords as a bullet point list: `- keyword1\\n- keyword2\\n- keyword3`\n",
    "    Keywords:\"\"\"\n",
    "\n",
    "    response = await openai_client.chat.completions.create(\n",
    "        model=\"gpt-3.5-turbo\",\n",
    "        messages=[\n",
    "            {\n",
    "                \"role\": \"system\",\n",
    "                \"content\": \"You are a business analyst, expert in e-commerce.\",\n",
    "            },\n",
    "            {\"role\": \"user\", \"content\": prompt},\n",
    "        ],\n",
    "    )\n",
    "\n",
    "    response = response.choices[0].message.content\n",
    "    keywords = re.findall(r\"- (.*)\", response)\n",
    "    keywords = [keyword.strip().lower() for keyword in keywords]\n",
    "    return lab.JobResult(\n",
    "        value=keywords,\n",
    "        result_type=lab.ResultType.list,\n",
    "    )"
   ]
  },
  {
   "cell_type": "markdown",
   "metadata": {},
   "source": [
    "Let's run this job. \n",
    "\n",
    "Note that we are still running the jobs in parallel! This means that the existing results won't always be available at the start. "
   ]
  },
  {
   "cell_type": "code",
   "execution_count": 18,
   "metadata": {},
   "outputs": [
    {
     "name": "stderr",
     "output_type": "stream",
     "text": [
      "No job_config provided. Running with empty config\n",
      "100%|██████████| 100/100 [00:38<00:00,  2.60it/s]"
     ]
    },
    {
     "name": "stdout",
     "output_type": "stream",
     "text": [
      "Number of different keywords extracted: 588\n"
     ]
    },
    {
     "name": "stderr",
     "output_type": "stream",
     "text": [
      "\n"
     ]
    },
    {
     "data": {
      "image/png": "[encoded data removed]",
      "text/plain": [
       "<Figure size 1000x500 with 1 Axes>"
      ]
     },
     "metadata": {},
     "output_type": "display_data"
    }
   ],
   "source": [
    "# Create workload\n",
    "workload = lab.Workload(jobs=[lab.Job(job_function=get_keywords_previous_results)])\n",
    "\n",
    "# Run\n",
    "await workload.async_run(\n",
    "    messages[:100], \n",
    "    executor_type=\"parallel\",\n",
    "    max_parallelism=10, \n",
    ")\n",
    "\n",
    "# Display results\n",
    "results_df = workload.results_df()\n",
    "augmented_messages_df = results_df.merge(messages_df, left_index=True, right_on=\"id\")\n",
    "\n",
    "keywords_to_count = (\n",
    "    augmented_messages_df.explode(\"get_keywords_previous_results\")\n",
    "    .groupby(\"get_keywords_previous_results\")\n",
    "    .size()\n",
    "    .sort_values(ascending=False)\n",
    ")\n",
    "keywords_to_count.head(20).plot(\n",
    "    kind=\"bar\", figsize=(10, 5), title=\"Most common keywords in the dataset\"\n",
    ")\n",
    "\n",
    "print(\"Number of different keywords extracted:\", augmented_messages_df[\"get_keywords_previous_results\"].explode().nunique())"
   ]
  },
  {
   "cell_type": "markdown",
   "metadata": {},
   "source": [
    "### Reuse the results from another job\n",
    "\n",
    "Likewise, you can set a `workload` argument. This lets you also use results on other jobs to augment the result of the current one.\n",
    "\n",
    "Let's use this to **run the topic extraction on GPT-4 first on a subsample,** and then use GPT-3.5."
   ]
  },
  {
   "cell_type": "code",
   "execution_count": 18,
   "metadata": {},
   "outputs": [],
   "source": [
    "async def get_keywords_previous_jobs(\n",
    "    message: lab.Message,\n",
    "    workload: lab.Workload = None, # Add the job as an argument\n",
    "    model: str=\"openai:gpt-3.5-turbo\",\n",
    ") -> lab.JobResult:\n",
    "    \"\"\"\n",
    "    This function uses OpenAI GPT to extract keywords from a given message.\n",
    "\n",
    "    It uses the results of the previous jobs to provide context to the current job.\n",
    "    The workload argument is used to access the results of the previous jobs.\n",
    "    The previous jobs are expected to be named `get_keywords`.\n",
    "\n",
    "    If the message.id was already processed, the previous result is returned.\n",
    "    \"\"\"\n",
    "    provider, model_name = lab.get_provider_and_model(model)\n",
    "    openai_client = lab.get_async_client(provider)\n",
    "\n",
    "    # Using the reference to the job, we can access the results of the other jobs\n",
    "    # to use them as context for the current job\n",
    "    previous_keywords = []\n",
    "    if workload:\n",
    "        # Get the previous results of the job `get_keywords` \n",
    "        previous_job_results = workload.jobs[\"get_keywords\"].results.values()\n",
    "        # Filter out None results\n",
    "        previous_job_results = [result for result in previous_job_results if result]\n",
    "\n",
    "        # If this message.id was already processed, we return the previous result\n",
    "        if message.id in previous_job_results:\n",
    "            return previous_job_results[message.id]\n",
    "\n",
    "        # Otherwise, let's flatten the list of lists of keywords\n",
    "        previous_keywords = [keyword for result in previous_job_results for keyword in result.value]\n",
    "\n",
    "    prompt = \"You are an annotator reading Amazon product reviews. Your job is to label \\\n",
    "    each review with topics that describe important topics covered in the review, relevant \\\n",
    "    to the e-commerce domain. Do not include generic topics such as 'good', 'bad', 'interesting', etc.\"\n",
    "    \n",
    "    # If there are previous results, we add them to the prompt\n",
    "    if len(previous_keywords) > 0:\n",
    "        prompt += f\"\"\"\n",
    "        So far, you've reviewed {len(previous_job_results)} reviews, and the keywords you've found are:\n",
    "        {\", \".join(previous_keywords)}\n",
    "\n",
    "        If possible, reuse the existing topics to label the current review. Do not add \n",
    "        variations of the same topics.\"\"\"\n",
    "\n",
    "    prompt = f\"\"\"The review is: \n",
    "    {message.content}\n",
    "\n",
    "    Return a list of max 10 keywords as a bullet point list: `- keyword1\\n- keyword2\\n- keyword3`\n",
    "    Keywords:\"\"\"\n",
    "\n",
    "    response = await openai_client.chat.completions.create(\n",
    "        model=\"gpt-3.5-turbo\",\n",
    "        messages=[\n",
    "            {\n",
    "                \"role\": \"system\",\n",
    "                \"content\": \"You are a business analyst, expert in e-commerce.\",\n",
    "            },\n",
    "            {\"role\": \"user\", \"content\": prompt},\n",
    "        ],\n",
    "    )\n",
    "\n",
    "    response = response.choices[0].message.content\n",
    "    # Parse the response to extract the keywords with regex\n",
    "    keywords = re.findall(r\"- (.*)\", response)\n",
    "    return lab.JobResult(\n",
    "        value=keywords,\n",
    "        result_type=lab.ResultType.list,\n",
    "    )"
   ]
  },
  {
   "cell_type": "markdown",
   "metadata": {},
   "source": [
    "Let's use this to run 10 expensive calls to GPT-4, and then use those keywords as grounding when calling GPT-3.5."
   ]
  },
  {
   "cell_type": "code",
   "execution_count": 19,
   "metadata": {},
   "outputs": [
    {
     "name": "stderr",
     "output_type": "stream",
     "text": [
      "No job_config provided. Running with empty config\n",
      "100%|██████████| 100/100 [00:00<00:00, 109.94it/s]\n",
      "100%|██████████| 100/100 [00:08<00:00, 12.20it/s]\n"
     ]
    },
    {
     "data": {
      "text/plain": [
       "{'0': {'get_keywords': None,\n",
       "  'get_keywords_previous_jobs': JobResult(value=['Computer performance optimization', 'Old computer', 'MaximumPC', 'Computer parts', 'Vendors', 'Useful tests', 'E-commerce'], result_type=<ResultType.list: 'list'>, logs=[], metadata={}, created_at=1710805113, job_id='get_keywords_previous_jobs')},\n",
       " '1': {'get_keywords': None,\n",
       "  'get_keywords_previous_jobs': JobResult(value=[\"men's magazine\", 'articles', 'stories', 'knowledge', 'Know & Tell', 'last page', 'interview', 'celebrity', 'mature men', 'recommendation'], result_type=<ResultType.list: 'list'>, logs=[], metadata={}, created_at=1710805114, job_id='get_keywords_previous_jobs')},\n",
       " '2': {'get_keywords': None,\n",
       "  'get_keywords_previous_jobs': JobResult(value=['Self-image', 'Materialism', 'Status symbols', 'Lifestyle magazine', 'Consumerism'], result_type=<ResultType.list: 'list'>, logs=[], metadata={}, created_at=1710805113, job_id='get_keywords_previous_jobs')},\n",
       " '3': {'get_keywords': None,\n",
       "  'get_keywords_previous_jobs': JobResult(value=['advertisement', 'little article content', 'review'], result_type=<ResultType.list: 'list'>, logs=[], metadata={}, created_at=1710805113, job_id='get_keywords_previous_jobs')},\n",
       " '4': {'get_keywords': None,\n",
       "  'get_keywords_previous_jobs': JobResult(value=['PC Magazine', 'technology news', 'computer field coverage', 'AES encryption', 'user questions', 'tech gear reviews', 'feature articles', 'latest news', 'rating system'], result_type=<ResultType.list: 'list'>, logs=[], metadata={}, created_at=1710805114, job_id='get_keywords_previous_jobs')},\n",
       " '5': {'get_keywords': None,\n",
       "  'get_keywords_previous_jobs': JobResult(value=['Lifestyle', 'Metrosexual', 'Young male', 'Magazine', 'Reviews', 'Short articles', \"Men's fashion\", 'Investment', 'Informative', 'Price'], result_type=<ResultType.list: 'list'>, logs=[], metadata={}, created_at=1710805113, job_id='get_keywords_previous_jobs')},\n",
       " '6': {'get_keywords': None,\n",
       "  'get_keywords_previous_jobs': JobResult(value=['PC Magazine', 'Upgrades', 'Hardware info', 'Tips', 'Tricks', 'Great Price'], result_type=<ResultType.list: 'list'>, logs=[], metadata={}, created_at=1710805113, job_id='get_keywords_previous_jobs')},\n",
       " '7': {'get_keywords': None,\n",
       "  'get_keywords_previous_jobs': JobResult(value=[\"Men's lifestyle magazine\", 'Middle to upper income audience', 'Diverse range of topics', 'Eye-catching headlines', 'Blunt and edgy writing style', 'Offensive content in \"Anthropology\" section', 'High percentage of advertisements', 'Focus on high fashion', 'Cologne samples', 'Mixed reviews and recommendations'], result_type=<ResultType.list: 'list'>, logs=[], metadata={}, created_at=1710805114, job_id='get_keywords_previous_jobs')},\n",
       " '8': {'get_keywords': None,\n",
       "  'get_keywords_previous_jobs': JobResult(value=['Electronics magazine', 'Instructional articles', 'Product reviews', 'Technical content', 'Question and answer sessions', 'New products', 'Electronics enthusiasts', 'Technology enthusiasts', 'Circuitry', 'Memory'], result_type=<ResultType.list: 'list'>, logs=[], metadata={}, created_at=1710805114, job_id='get_keywords_previous_jobs')},\n",
       " '9': {'get_keywords': None,\n",
       "  'get_keywords_previous_jobs': JobResult(value=['Maximum PC', 'Subscription', 'CD', 'PC Gamer', 'Price', 'Head 2 Head', 'Yahoo! Mail', 'Hotmail', 'PC Magazine', 'Independent magazine'], result_type=<ResultType.list: 'list'>, logs=[], metadata={}, created_at=1710805114, job_id='get_keywords_previous_jobs')},\n",
       " '10': {'get_keywords': None,\n",
       "  'get_keywords_previous_jobs': JobResult(value=['Glamour magazine', 'Articles', 'Clothes', 'Fashion', 'Beauty', 'Lifestyle', 'Longtime reader', 'Fashion trends', 'Editorial content', 'Fashion photography'], result_type=<ResultType.list: 'list'>, logs=[], metadata={}, created_at=1710805114, job_id='get_keywords_previous_jobs')},\n",
       " '11': {'get_keywords': None,\n",
       "  'get_keywords_previous_jobs': JobResult(value=['Magazine', 'Ads', 'Décor ideas', 'Recipes', 'Fall colors', 'Remodeling', 'Succulents', 'Garden', 'Soup recipes', 'Letter writing'], result_type=<ResultType.list: 'list'>, logs=[], metadata={}, created_at=1710805114, job_id='get_keywords_previous_jobs')},\n",
       " '12': {'get_keywords': None,\n",
       "  'get_keywords_previous_jobs': JobResult(value=['magazine subscriptions', 'Better Homes and Garden', 'Country Living', 'House & Garden', 'gardening tips', 'recipes', 'practical articles', 'cost-effective', 'recommendations', 'reading satisfaction'], result_type=<ResultType.list: 'list'>, logs=[], metadata={}, created_at=1710805114, job_id='get_keywords_previous_jobs')},\n",
       " '13': {'get_keywords': None,\n",
       "  'get_keywords_previous_jobs': JobResult(value=['decorating ideas', 'gardening', 'interior design', 'building', 'family matters', 'health', 'shopping', 'kids projects', 'recipes', 'cartoons'], result_type=<ResultType.list: 'list'>, logs=[], metadata={}, created_at=1710805114, job_id='get_keywords_previous_jobs')},\n",
       " '14': {'get_keywords': None,\n",
       "  'get_keywords_previous_jobs': JobResult(value=['Gym', 'Health', \"Men's perspective\", 'Workout routines', 'Entertainment', 'Learning', \"Men's psychology\", 'Magazine personality'], result_type=<ResultType.list: 'list'>, logs=[], metadata={}, created_at=1710805114, job_id='get_keywords_previous_jobs')},\n",
       " '15': {'get_keywords': None,\n",
       "  'get_keywords_previous_jobs': JobResult(value=['Magazine content', 'Advertising space', 'Reader experience', 'Sales ads', 'Overwhelming ads'], result_type=<ResultType.list: 'list'>, logs=[], metadata={}, created_at=1710805114, job_id='get_keywords_previous_jobs')},\n",
       " '16': {'get_keywords': JobResult(value=['magazine', 'love'], result_type=<ResultType.list: 'list'>, logs=[], metadata={}, created_at=1710805112, job_id='get_keywords'),\n",
       "  'get_keywords_previous_jobs': JobResult(value=['magazine', 'love', 'enjoyment', 'subscription', 'reading', 'content', 'positive', 'favorite', 'fun'], result_type=<ResultType.list: 'list'>, logs=[], metadata={}, created_at=1710805114, job_id='get_keywords_previous_jobs')},\n",
       " '17': {'get_keywords': None,\n",
       "  'get_keywords_previous_jobs': JobResult(value=['entertainment', 'enjoyment', 'pleasure'], result_type=<ResultType.list: 'list'>, logs=[], metadata={}, created_at=1710805114, job_id='get_keywords_previous_jobs')},\n",
       " '18': {'get_keywords': None,\n",
       "  'get_keywords_previous_jobs': JobResult(value=['Articles', 'Photos', 'Inspiring', 'Workouts', 'Variations'], result_type=<ResultType.list: 'list'>, logs=[], metadata={}, created_at=1710805114, job_id='get_keywords_previous_jobs')},\n",
       " '19': {'get_keywords': None,\n",
       "  'get_keywords_previous_jobs': JobResult(value=['\"man\" ', '\"gender\"', '\"masculinity\" ', '\"male\"', '\"shopping\"', '\"product\"', '\"experience\"'], result_type=<ResultType.list: 'list'>, logs=[], metadata={}, created_at=1710805115, job_id='get_keywords_previous_jobs')},\n",
       " '20': {'get_keywords': JobResult(value=['magazine', 'information', 'repetitive content', 'reminders'], result_type=<ResultType.list: 'list'>, logs=[], metadata={}, created_at=1710805112, job_id='get_keywords'),\n",
       "  'get_keywords_previous_jobs': JobResult(value=['magazine', 'good info', 'repetitive', 'reminders', 'husband', 'loves', 'lots', 'husband loves', 'good information', 'repetitive reminders'], result_type=<ResultType.list: 'list'>, logs=[], metadata={}, created_at=1710805115, job_id='get_keywords_previous_jobs')},\n",
       " '21': {'get_keywords': None,\n",
       "  'get_keywords_previous_jobs': JobResult(value=['magazine subscription', 'change of address', 'delivery issues', 'customer service', 'address update', 'missing magazines', 'relocation', 'subscription management', 'account updates', 'postal service'], result_type=<ResultType.list: 'list'>, logs=[], metadata={}, created_at=1710805115, job_id='get_keywords_previous_jobs')},\n",
       " '22': {'get_keywords': None,\n",
       "  'get_keywords_previous_jobs': JobResult(value=['Glamour magazine', 'Up-to-date information', 'Well-written articles', 'Great photos', 'Market', 'Best', 'Today', 'Review', 'Magazine'], result_type=<ResultType.list: 'list'>, logs=[], metadata={}, created_at=1710805115, job_id='get_keywords_previous_jobs')},\n",
       " '23': {'get_keywords': None,\n",
       "  'get_keywords_previous_jobs': JobResult(value=['excellent conditions', 'well packed', 'new', 'no defect', 'as expected'], result_type=<ResultType.list: 'list'>, logs=[], metadata={}, created_at=1710805115, job_id='get_keywords_previous_jobs')},\n",
       " '24': {'get_keywords': None,\n",
       "  'get_keywords_previous_jobs': JobResult(value=['gift purchase', 'product gifting', 'buying for someone else', 'present shopping', 'gift selection', 'gifting experience', 'recipient gift', 'gift giving', 'selecting a gift', 'present selection'], result_type=<ResultType.list: 'list'>, logs=[], metadata={}, created_at=1710805115, job_id='get_keywords_previous_jobs')},\n",
       " '25': {'get_keywords': None,\n",
       "  'get_keywords_previous_jobs': JobResult(value=['sweetheart', 'magazine', 'love'], result_type=<ResultType.list: 'list'>, logs=[], metadata={}, created_at=1710805115, job_id='get_keywords_previous_jobs')},\n",
       " '26': {'get_keywords': None,\n",
       "  'get_keywords_previous_jobs': JobResult(value=['Grandchildren', 'Read', 'Talk', 'Book', 'Family', 'Communication', 'Interaction', 'Story', 'Generation', 'Connection'], result_type=<ResultType.list: 'list'>, logs=[], metadata={}, created_at=1710805115, job_id='get_keywords_previous_jobs')},\n",
       " '27': {'get_keywords': None,\n",
       "  'get_keywords_previous_jobs': JobResult(value=['office supplies', 'good value', 'work essentials', 'cost-effective', 'quality products', 'office equipment', 'discounted items', 'productivity boost', 'efficient purchase', 'business needs'], result_type=<ResultType.list: 'list'>, logs=[], metadata={}, created_at=1710805115, job_id='get_keywords_previous_jobs')},\n",
       " '28': {'get_keywords': None,\n",
       "  'get_keywords_previous_jobs': JobResult(value=['Science lover', 'Gift', 'Variety', 'Articles', 'Pictures', 'Technology', 'Ever changing', 'New', 'Awesome', 'Review'], result_type=<ResultType.list: 'list'>, logs=[], metadata={}, created_at=1710805115, job_id='get_keywords_previous_jobs')},\n",
       " '29': {'get_keywords': None,\n",
       "  'get_keywords_previous_jobs': JobResult(value=['Easy read magazine', 'Amazon magazine deals', 'Auto subscribe', 'Parents', 'Kids', 'Retired', 'Subscriptions', 'Content relevance', 'Magazine reviews', 'Leisure reading'], result_type=<ResultType.list: 'list'>, logs=[], metadata={}, created_at=1710805116, job_id='get_keywords_previous_jobs')},\n",
       " '30': {'get_keywords': None,\n",
       "  'get_keywords_previous_jobs': JobResult(value=['living space', 'review', 'e-commerce', 'online shopping', 'home decor', 'furniture', 'interior design', 'customer feedback', 'product selection', 'purchase experience'], result_type=<ResultType.list: 'list'>, logs=[], metadata={}, created_at=1710805116, job_id='get_keywords_previous_jobs')},\n",
       " '31': {'get_keywords': None,\n",
       "  'get_keywords_previous_jobs': JobResult(value=['ideas', 'decorating', 'recipes'], result_type=<ResultType.list: 'list'>, logs=[], metadata={}, created_at=1710805115, job_id='get_keywords_previous_jobs')},\n",
       " '32': {'get_keywords': None,\n",
       "  'get_keywords_previous_jobs': JobResult(value=['magazines', 'articles', 'humor', 'advice', 'enjoyment', 'Parents', 'TV Guide', 'Readers Digest', 'readership', 'diverse content'], result_type=<ResultType.list: 'list'>, logs=[], metadata={}, created_at=1710805116, job_id='get_keywords_previous_jobs')},\n",
       " '33': {'get_keywords': JobResult(value=[\"men's health\", 'fitness', 'subscription', 'e-commerce'], result_type=<ResultType.list: 'list'>, logs=[], metadata={}, created_at=1710805112, job_id='get_keywords'),\n",
       "  'get_keywords_previous_jobs': JobResult(value=[\"Men's Health\", 'subscription', 'fitness', 'magazine', 'health', 'men', 'lifestyle', 'review', 'recommendation'], result_type=<ResultType.list: 'list'>, logs=[], metadata={}, created_at=1710805116, job_id='get_keywords_previous_jobs')},\n",
       " '34': {'get_keywords': None,\n",
       "  'get_keywords_previous_jobs': JobResult(value=['Subscription sharing', 'E-commerce website', 'Pricing strategy', 'Word-of-mouth marketing', 'Customer referrals', 'Subscription model', 'Customer feedback', 'Business growth', 'User engagement', 'Competitor analysis'], result_type=<ResultType.list: 'list'>, logs=[], metadata={}, created_at=1710805116, job_id='get_keywords_previous_jobs')},\n",
       " '35': {'get_keywords': None,\n",
       "  'get_keywords_previous_jobs': JobResult(value=['magazine', 'favorite', 'review'], result_type=<ResultType.list: 'list'>, logs=[], metadata={}, created_at=1710805115, job_id='get_keywords_previous_jobs')},\n",
       " '36': {'get_keywords': None,\n",
       "  'get_keywords_previous_jobs': JobResult(value=['affordable subscription', 'Kindle Fire HD compatibility', 'user-friendly layout', 'easy to read', 'cost-effective', 'simple design', 'value for money', 'convenient access', 'budget-friendly', 'Kindle Fire HD-friendly'], result_type=<ResultType.list: 'list'>, logs=[], metadata={}, created_at=1710805116, job_id='get_keywords_previous_jobs')},\n",
       " '37': {'get_keywords': None,\n",
       "  'get_keywords_previous_jobs': JobResult(value=['Magazine subscription', 'Aging demographic', 'Health and fitness', 'Motivation', 'Food and recipes', \"Men's health\", \"Women's health\", 'Fitness programs', 'Demographic targeting', 'Lifestyle adaptation'], result_type=<ResultType.list: 'list'>, logs=[], metadata={}, created_at=1710805116, job_id='get_keywords_previous_jobs')},\n",
       " '38': {'get_keywords': None,\n",
       "  'get_keywords_previous_jobs': JobResult(value=['Glamour magazine', 'fashion trends', 'layering clothes', 'shopping mogul', 'life lessons', 'articles', 'new trends', 'exciting fashion', 'fashion magazine', 'fashion articles'], result_type=<ResultType.list: 'list'>, logs=[], metadata={}, created_at=1710805116, job_id='get_keywords_previous_jobs')},\n",
       " '39': {'get_keywords': None,\n",
       "  'get_keywords_previous_jobs': JobResult(value=['Excellent content', 'Diversity', 'Material', 'Review', 'E-commerce', 'Online platform', 'Customer feedback', 'User experience', 'Content variety', 'Quality'], result_type=<ResultType.list: 'list'>, logs=[], metadata={}, created_at=1710805116, job_id='get_keywords_previous_jobs')},\n",
       " '40': {'get_keywords': JobResult(value=['grandmother', 'happy', 'family', 'relationships', 'gift', 'amazon', 'satisfied', 'purchase', 'experience'], result_type=<ResultType.list: 'list'>, logs=[], metadata={}, created_at=1710805112, job_id='get_keywords'),\n",
       "  'get_keywords_previous_jobs': JobResult(value=['Happy', 'Grandmother', 'Positive feedback', 'Satisfied customer', 'Customer experience', 'Family', 'Love', 'Emotional response', 'Elderly customer', 'User satisfaction'], result_type=<ResultType.list: 'list'>, logs=[], metadata={}, created_at=1710805116, job_id='get_keywords_previous_jobs')},\n",
       " '41': {'get_keywords': None,\n",
       "  'get_keywords_previous_jobs': JobResult(value=['Glamour magazine', 'careers', 'relationships', 'beauty', 'fashion', 'women', 'twenties', 'thirties', 'smart', 'entertaining'], result_type=<ResultType.list: 'list'>, logs=[], metadata={}, created_at=1710805116, job_id='get_keywords_previous_jobs')},\n",
       " '42': {'get_keywords': None,\n",
       "  'get_keywords_previous_jobs': JobResult(value=['Monthly subscription', 'Enjoyable ', 'Regular delivery', 'Exciting', 'Fun experience ', 'Repeat purchase', 'Convenient ', 'Subscription box ', 'Monthly entertainment ', 'Recurring enjoyment'], result_type=<ResultType.list: 'list'>, logs=[], metadata={}, created_at=1710805116, job_id='get_keywords_previous_jobs')},\n",
       " '43': {'get_keywords': None,\n",
       "  'get_keywords_previous_jobs': JobResult(value=['ads', 'marketing', 'promotions', 'commercial', 'advertising ', 'sponsored content', 'sales', 'products', 'branding'], result_type=<ResultType.list: 'list'>, logs=[], metadata={}, created_at=1710805116, job_id='get_keywords_previous_jobs')},\n",
       " '44': {'get_keywords': None,\n",
       "  'get_keywords_previous_jobs': JobResult(value=['subscription', 'many years', 'never disappointed', 'beautiful pictures'], result_type=<ResultType.list: 'list'>, logs=[], metadata={}, created_at=1710805116, job_id='get_keywords_previous_jobs')},\n",
       " '45': {'get_keywords': None,\n",
       "  'get_keywords_previous_jobs': JobResult(value=['magazine', 'helpful articles', 'baking', 'cosmetics', 'reviews'], result_type=<ResultType.list: 'list'>, logs=[], metadata={}, created_at=1710805116, job_id='get_keywords_previous_jobs')},\n",
       " '46': {'get_keywords': None,\n",
       "  'get_keywords_previous_jobs': JobResult(value=['A', 'review', 'e-commerce', 'analysis', 'feedback', 'rating', 'online shopping', 'customer', 'satisfaction', 'digital commerce'], result_type=<ResultType.list: 'list'>, logs=[], metadata={}, created_at=1710805116, job_id='get_keywords_previous_jobs')},\n",
       " '47': {'get_keywords': JobResult(value=['decorating ideas', 'home decor', 'interior design', 'creative suggestions', 'inspiration', 'diy projects', 'room makeover', 'design tips', 'stylish choices', 'unique concepts'], result_type=<ResultType.list: 'list'>, logs=[], metadata={}, created_at=1710805113, job_id='get_keywords'),\n",
       "  'get_keywords_previous_jobs': JobResult(value=['decorating ideas', 'creativity', 'inspiration', 'home decor', 'design tips'], result_type=<ResultType.list: 'list'>, logs=[], metadata={}, created_at=1710805117, job_id='get_keywords_previous_jobs')},\n",
       " '48': {'get_keywords': None,\n",
       "  'get_keywords_previous_jobs': JobResult(value=['Good price', 'Great magazine', 'Review', 'Pricing', 'Value', 'Magazine', 'Positive', 'Affordable', 'Customer satisfaction', 'Quality'], result_type=<ResultType.list: 'list'>, logs=[], metadata={}, created_at=1710805117, job_id='get_keywords_previous_jobs')},\n",
       " '49': {'get_keywords': None,\n",
       "  'get_keywords_previous_jobs': JobResult(value=['excellent', 'positive feedback', 'top-notch', 'satisfied', 'five stars', 'impressive', 'high quality', 'exceptional', 'praise', 'commendable'], result_type=<ResultType.list: 'list'>, logs=[], metadata={}, created_at=1710805117, job_id='get_keywords_previous_jobs')},\n",
       " '50': {'get_keywords': None,\n",
       "  'get_keywords_previous_jobs': JobResult(value=['Magazine', 'Tips', 'Articles', 'Guy stuff', 'Learn', 'Issue', 'Up to date', 'Fast-paced', 'World', 'Live'], result_type=<ResultType.list: 'list'>, logs=[], metadata={}, created_at=1710805117, job_id='get_keywords_previous_jobs')},\n",
       " '51': {'get_keywords': None,\n",
       "  'get_keywords_previous_jobs': JobResult(value=['magazine', 'like', 'find', 'something', 'always'], result_type=<ResultType.list: 'list'>, logs=[], metadata={}, created_at=1710805117, job_id='get_keywords_previous_jobs')},\n",
       " '52': {'get_keywords': None,\n",
       "  'get_keywords_previous_jobs': JobResult(value=['good value', 'money', 'paper magazines', 'affordability', 'print media', 'cost-effective', 'magazine subscription', 'reading material', 'value for money', 'print publications'], result_type=<ResultType.list: 'list'>, logs=[], metadata={}, created_at=1710805117, job_id='get_keywords_previous_jobs')},\n",
       " '53': {'get_keywords': None,\n",
       "  'get_keywords_previous_jobs': JobResult(value=['Magazine', 'Price', 'Passing on', 'Mom', 'Neighbors', 'Enjoyment', 'Thankful', 'Great', 'Sharing', 'Family'], result_type=<ResultType.list: 'list'>, logs=[], metadata={}, created_at=1710805117, job_id='get_keywords_previous_jobs')},\n",
       " '54': {'get_keywords': None,\n",
       "  'get_keywords_previous_jobs': JobResult(value=['Handyman magazine', 'Wood magazine', 'Patterns', 'Tips', 'Cleaning', 'Information', 'Subscription', 'DIY', 'Home improvement', 'Crafts'], result_type=<ResultType.list: 'list'>, logs=[], metadata={}, created_at=1710805117, job_id='get_keywords_previous_jobs')},\n",
       " '55': {'get_keywords': None,\n",
       "  'get_keywords_previous_jobs': JobResult(value=['resourceful ', 'informative ', 'helpful ', 'valuable ', 'beneficial ', 'practical ', 'insightful ', 'knowledgeable ', 'comprehensive ', 'effective'], result_type=<ResultType.list: 'list'>, logs=[], metadata={}, created_at=1710805117, job_id='get_keywords_previous_jobs')},\n",
       " '56': {'get_keywords': None,\n",
       "  'get_keywords_previous_jobs': JobResult(value=['magazine updates', 'style and projects', 'guest writers/bloggers', 'website', 'fantastic', 'recommendation', 'styles', 'features', 'great', 'projects'], result_type=<ResultType.list: 'list'>, logs=[], metadata={}, created_at=1710805117, job_id='get_keywords_previous_jobs')},\n",
       " '57': {'get_keywords': None,\n",
       "  'get_keywords_previous_jobs': JobResult(value=['magazine', 'great articles'], result_type=<ResultType.list: 'list'>, logs=[], metadata={}, created_at=1710805117, job_id='get_keywords_previous_jobs')},\n",
       " '58': {'get_keywords': None,\n",
       "  'get_keywords_previous_jobs': JobResult(value=['mag', 'e-commerce', 'product', 'service', 'quality ', 'satisfaction ', 'review ', 'customer ', 'experience ', 'rating'], result_type=<ResultType.list: 'list'>, logs=[], metadata={}, created_at=1710805118, job_id='get_keywords_previous_jobs')},\n",
       " '59': {'get_keywords': None,\n",
       "  'get_keywords_previous_jobs': JobResult(value=['Great Packing', 'Good Shipping Time', 'As Expected'], result_type=<ResultType.list: 'list'>, logs=[], metadata={}, created_at=1710805117, job_id='get_keywords_previous_jobs')},\n",
       " '60': {'get_keywords': None,\n",
       "  'get_keywords_previous_jobs': JobResult(value=['quickly shipped', 'loved', 'item', 'e-commerce', 'fast delivery', 'positive review', 'satisfied', 'shipping time', 'product quality', 'customer experience'], result_type=<ResultType.list: 'list'>, logs=[], metadata={}, created_at=1710805118, job_id='get_keywords_previous_jobs')},\n",
       " '61': {'get_keywords': None,\n",
       "  'get_keywords_previous_jobs': JobResult(value=['magazine', 'home', 'garden', 'ideas', 'advertising', 'enjoyable'], result_type=<ResultType.list: 'list'>, logs=[], metadata={}, created_at=1710805118, job_id='get_keywords_previous_jobs')},\n",
       " '62': {'get_keywords': None,\n",
       "  'get_keywords_previous_jobs': JobResult(value=['wife satisfaction', 'happiness', 'customer review', \"wife's opinion\", 'client feedback', 'product satisfaction', 'user experience', 'positive feedback', 'happy customer', 'spouse approval'], result_type=<ResultType.list: 'list'>, logs=[], metadata={}, created_at=1710805118, job_id='get_keywords_previous_jobs')},\n",
       " '63': {'get_keywords': None,\n",
       "  'get_keywords_previous_jobs': JobResult(value=['magazine', 'pictures', 'ideas', 'home decor', 'space', 'purchase', 'happy', 'hints', 'pretty', 'content'], result_type=<ResultType.list: 'list'>, logs=[], metadata={}, created_at=1710805118, job_id='get_keywords_previous_jobs')},\n",
       " '64': {'get_keywords': None,\n",
       "  'get_keywords_previous_jobs': JobResult(value=['five dollar subscription', 'gym', 'treadmill', 'home magazines', 'articles', 'ideas', 'price', 'value', 'glossiness', 'behind schedule'], result_type=<ResultType.list: 'list'>, logs=[], metadata={}, created_at=1710805118, job_id='get_keywords_previous_jobs')},\n",
       " '65': {'get_keywords': None,\n",
       "  'get_keywords_previous_jobs': JobResult(value=['useful tips', 'instructions', 'ideas', 'knowledge', 'shortcuts', 'useful information'], result_type=<ResultType.list: 'list'>, logs=[], metadata={}, created_at=1710805118, job_id='get_keywords_previous_jobs')},\n",
       " '66': {'get_keywords': None,\n",
       "  'get_keywords_previous_jobs': JobResult(value=[\"Men's Health Magazine\", 'Magazine content', 'Lifestyle', 'Health tips', 'Target audience', 'Advertising', 'Magazine format', 'Personal perspective', 'Information snippets', 'Lists'], result_type=<ResultType.list: 'list'>, logs=[], metadata={}, created_at=1710805118, job_id='get_keywords_previous_jobs')},\n",
       " '67': {'get_keywords': JobResult(value=['magazine'], result_type=<ResultType.list: 'list'>, logs=[], metadata={}, created_at=1710805112, job_id='get_keywords'),\n",
       "  'get_keywords_previous_jobs': JobResult(value=['magazine', 'good', 'think', 'review'], result_type=<ResultType.list: 'list'>, logs=[], metadata={}, created_at=1710805118, job_id='get_keywords_previous_jobs')},\n",
       " '68': {'get_keywords': JobResult(value=['magazine subscription', 'gift idea', 'ordering process', 'individual shipping information', 'present with purpose'], result_type=<ResultType.list: 'list'>, logs=[], metadata={}, created_at=1710805112, job_id='get_keywords'),\n",
       "  'get_keywords_previous_jobs': JobResult(value=['Magazine subscription', 'Gift with purpose', 'Easy ordering process', 'Individual shipping information', 'Long-lasting gift', 'Festive gift', 'Co-workers', 'Positive review', 'Convenience', 'Gifting option'], result_type=<ResultType.list: 'list'>, logs=[], metadata={}, created_at=1710805118, job_id='get_keywords_previous_jobs')},\n",
       " '69': {'get_keywords': None,\n",
       "  'get_keywords_previous_jobs': JobResult(value=['Love', 'Positive review', 'Satisfaction', 'Happy customer', 'Excellent', 'Delighted', 'Pleased', 'Great experience', 'Customer happiness', 'Appreciation'], result_type=<ResultType.list: 'list'>, logs=[], metadata={}, created_at=1710805119, job_id='get_keywords_previous_jobs')},\n",
       " '70': {'get_keywords': None,\n",
       "  'get_keywords_previous_jobs': JobResult(value=['magazine', 'advertisements', 'dislike', 'content', 'quality', 'publication', 'excessive', 'dislike', 'disappointed'], result_type=<ResultType.list: 'list'>, logs=[], metadata={}, created_at=1710805118, job_id='get_keywords_previous_jobs')},\n",
       " '71': {'get_keywords': None,\n",
       "  'get_keywords_previous_jobs': JobResult(value=['articles', 'recipes', 'subscription', 'generations', 'reading', 'family', 'tradition', 'multi-generational', 'content', 'legacy'], result_type=<ResultType.list: 'list'>, logs=[], metadata={}, created_at=1710805118, job_id='get_keywords_previous_jobs')},\n",
       " '72': {'get_keywords': None,\n",
       "  'get_keywords_previous_jobs': JobResult(value=['magazine', 'love', 'review'], result_type=<ResultType.list: 'list'>, logs=[], metadata={}, created_at=1710805118, job_id='get_keywords_previous_jobs')},\n",
       " '73': {'get_keywords': None,\n",
       "  'get_keywords_previous_jobs': JobResult(value=['magazine', 'ideas', 'planting', 'taking care', 'flowers', 'remodel', 'house', 'inspiration', 'gardening', 'lifestyle'], result_type=<ResultType.list: 'list'>, logs=[], metadata={}, created_at=1710805119, job_id='get_keywords_previous_jobs')},\n",
       " '74': {'get_keywords': None,\n",
       "  'get_keywords_previous_jobs': JobResult(value=['perfect match', 'meets expectations', 'ideal solution', 'just what I needed'], result_type=<ResultType.list: 'list'>, logs=[], metadata={}, created_at=1710805118, job_id='get_keywords_previous_jobs')},\n",
       " '75': {'get_keywords': None,\n",
       "  'get_keywords_previous_jobs': JobResult(value=[\"Men's magazine\", 'Affluent young men', 'Luxury car brands', 'Expensive suits', 'Beautiful women', 'Six-pack abs', 'Health and fitness', 'Manly lifestyle', 'Workout regimens', 'Wit and humor'], result_type=<ResultType.list: 'list'>, logs=[], metadata={}, created_at=1710805119, job_id='get_keywords_previous_jobs')},\n",
       " '76': {'get_keywords': None,\n",
       "  'get_keywords_previous_jobs': JobResult(value=['reception room', 'served its purpose', 'little value', \"didn't expect\"], result_type=<ResultType.list: 'list'>, logs=[], metadata={}, created_at=1710805118, job_id='get_keywords_previous_jobs')},\n",
       " '77': {'get_keywords': None,\n",
       "  'get_keywords_previous_jobs': JobResult(value=['price', 'magazine', 'good', 'love'], result_type=<ResultType.list: 'list'>, logs=[], metadata={}, created_at=1710805119, job_id='get_keywords_previous_jobs')},\n",
       " '78': {'get_keywords': JobResult(value=['magazine', 'sign-up', 'great', 'receive'], result_type=<ResultType.list: 'list'>, logs=[], metadata={}, created_at=1710805112, job_id='get_keywords'),\n",
       "  'get_keywords_previous_jobs': JobResult(value=['magazine', 'great', 'signed up', 'receive', 'glad'], result_type=<ResultType.list: 'list'>, logs=[], metadata={}, created_at=1710805119, job_id='get_keywords_previous_jobs')},\n",
       " '79': {'get_keywords': None,\n",
       "  'get_keywords_previous_jobs': JobResult(value=['gift for wife', 'good articles', 'great recipes', 'loved by recipient', 'magazine subscription', 'spouse gift', 'positive feedback', 'content variety', 'enjoyable content', 'recipe selection'], result_type=<ResultType.list: 'list'>, logs=[], metadata={}, created_at=1710805119, job_id='get_keywords_previous_jobs')},\n",
       " '80': {'get_keywords': None,\n",
       "  'get_keywords_previous_jobs': JobResult(value=['Great reading'], result_type=<ResultType.list: 'list'>, logs=[], metadata={}, created_at=1710805119, job_id='get_keywords_previous_jobs')},\n",
       " '81': {'get_keywords': None,\n",
       "  'get_keywords_previous_jobs': JobResult(value=['excellent', 'positive', 'high quality', 'satisfied customers', 'top-notch', 'great service', 'exceptional', 'superb', 'impressive', 'outstanding'], result_type=<ResultType.list: 'list'>, logs=[], metadata={}, created_at=1710805119, job_id='get_keywords_previous_jobs')},\n",
       " '82': {'get_keywords': None,\n",
       "  'get_keywords_previous_jobs': JobResult(value=['articles', 'interesting', 'e-commerce', 'content', 'informative', 'website', 'blog', 'online', 'reading'], result_type=<ResultType.list: 'list'>, logs=[], metadata={}, created_at=1710805119, job_id='get_keywords_previous_jobs')},\n",
       " '83': {'get_keywords': None,\n",
       "  'get_keywords_previous_jobs': JobResult(value=['Duplicates', 'Popular Mechanics', 'Wrong address', 'Subscription manager', 'Difficult to use'], result_type=<ResultType.list: 'list'>, logs=[], metadata={}, created_at=1710805119, job_id='get_keywords_previous_jobs')},\n",
       " '84': {'get_keywords': None,\n",
       "  'get_keywords_previous_jobs': JobResult(value=['favorite', 'review', 'e-commerce', 'online shopping', 'customer satisfaction', 'product rating', 'user experience', 'customer feedback', 'online reviews', 'consumer preference'], result_type=<ResultType.list: 'list'>, logs=[], metadata={}, created_at=1710805119, job_id='get_keywords_previous_jobs')},\n",
       " '85': {'get_keywords': None,\n",
       "  'get_keywords_previous_jobs': JobResult(value=['magazines', 'ads', 'price'], result_type=<ResultType.list: 'list'>, logs=[], metadata={}, created_at=1710805119, job_id='get_keywords_previous_jobs')},\n",
       " '86': {'get_keywords': None,\n",
       "  'get_keywords_previous_jobs': JobResult(value=['Print magazine', 'Kindle edition', 'Subscription', 'Charging', 'Customer service', 'Publisher', 'Amazon', 'Cancel', 'Gift', 'Difficulty'], result_type=<ResultType.list: 'list'>, logs=[], metadata={}, created_at=1710805119, job_id='get_keywords_previous_jobs')},\n",
       " '87': {'get_keywords': None,\n",
       "  'get_keywords_previous_jobs': JobResult(value=['excellent', 'flawless', 'exceptional', 'top-notch', 'outstanding', 'superior', 'impeccable', 'superb', 'ideal', 'impeccable'], result_type=<ResultType.list: 'list'>, logs=[], metadata={}, created_at=1710805119, job_id='get_keywords_previous_jobs')},\n",
       " '88': {'get_keywords': None,\n",
       "  'get_keywords_previous_jobs': JobResult(value=['Better Homes and Gardens', 'Kindle HD7', 'Magazine', 'Home ideas', 'Information', 'Kindle', 'Lifestyle', 'Family', 'Inspiration', 'Reading'], result_type=<ResultType.list: 'list'>, logs=[], metadata={}, created_at=1710805120, job_id='get_keywords_previous_jobs')},\n",
       " '89': {'get_keywords': None,\n",
       "  'get_keywords_previous_jobs': JobResult(value=['magazine', 'husband', 'loves', 'monthly', 'anticipation', 'new issue', 'reading', 'enjoyment', 'subscription', 'excitement'], result_type=<ResultType.list: 'list'>, logs=[], metadata={}, created_at=1710805121, job_id='get_keywords_previous_jobs')},\n",
       " '90': {'get_keywords': None,\n",
       "  'get_keywords_previous_jobs': JobResult(value=['Gardening', 'Home decor', 'Redecorating', 'Renovating', 'Beautiful photos', 'Content variety', 'Day-to-day life', 'Magazine', 'Inserts', 'Ads'], result_type=<ResultType.list: 'list'>, logs=[], metadata={}, created_at=1710805120, job_id='get_keywords_previous_jobs')},\n",
       " '91': {'get_keywords': None,\n",
       "  'get_keywords_previous_jobs': JobResult(value=['Better Homes and Garden', 'Renewed', '2015', 'Magazine', 'Classy', 'Different aspects', 'Love', 'Review', 'Subscription', 'Lifestyle'], result_type=<ResultType.list: 'list'>, logs=[], metadata={}, created_at=1710805120, job_id='get_keywords_previous_jobs')},\n",
       " '92': {'get_keywords': None,\n",
       "  'get_keywords_previous_jobs': JobResult(value=['inventive ideas', 'creative concepts', 'innovative thinking', 'unique suggestions'], result_type=<ResultType.list: 'list'>, logs=[], metadata={}, created_at=1710805120, job_id='get_keywords_previous_jobs')},\n",
       " '93': {'get_keywords': None,\n",
       "  'get_keywords_previous_jobs': JobResult(value=['magazine', 'decorating', 'recipes', 'new items', 'enjoyable', 'interesting', 'want', 'review'], result_type=<ResultType.list: 'list'>, logs=[], metadata={}, created_at=1710805120, job_id='get_keywords_previous_jobs')},\n",
       " '94': {'get_keywords': None,\n",
       "  'get_keywords_previous_jobs': JobResult(value=['subscription service', 'satisfied customer', 'recurring payments', 'subscription model', 'customer retention', 'subscription benefits', 'happy customer', 'subscription renewal', 'subscription box', 'subscription feedback'], result_type=<ResultType.list: 'list'>, logs=[], metadata={}, created_at=1710805120, job_id='get_keywords_previous_jobs')},\n",
       " '95': {'get_keywords': None,\n",
       "  'get_keywords_previous_jobs': JobResult(value=['Better Homes and Gardens magazine', 'house', 'garden', 'dream', 'wish', 'reading', 'inspiration', 'lifestyle', 'aspirations', 'home ownership'], result_type=<ResultType.list: 'list'>, logs=[], metadata={}, created_at=1710805120, job_id='get_keywords_previous_jobs')},\n",
       " '96': {'get_keywords': None,\n",
       "  'get_keywords_previous_jobs': JobResult(value=['satisfied', 'positive feedback', 'customer review', 'good experience', 'happy customer', 'high satisfaction', 'quality service', 'excellent product', 'reliable seller', 'top-rated service'], result_type=<ResultType.list: 'list'>, logs=[], metadata={}, created_at=1710805120, job_id='get_keywords_previous_jobs')},\n",
       " '97': {'get_keywords': JobResult(value=['better homes', 'home decorating', 'family living', 'food preparation', 'gardening', 'budget projects'], result_type=<ResultType.list: 'list'>, logs=[], metadata={}, created_at=1710805113, job_id='get_keywords'),\n",
       "  'get_keywords_previous_jobs': JobResult(value=['decorating', 'family living', 'food preparation', 'gardening', 'budget-friendly projects'], result_type=<ResultType.list: 'list'>, logs=[], metadata={}, created_at=1710805120, job_id='get_keywords_previous_jobs')},\n",
       " '98': {'get_keywords': None,\n",
       "  'get_keywords_previous_jobs': JobResult(value=['gluten free', 'consumer-driven', 'budget remodel', 'family issues', 'financial issues', 'social issues', 'party planning', 'modern mom', 'disposable income', 'Good Housekeeping Seal'], result_type=<ResultType.list: 'list'>, logs=[], metadata={}, created_at=1710805121, job_id='get_keywords_previous_jobs')},\n",
       " '99': {'get_keywords': None,\n",
       "  'get_keywords_previous_jobs': JobResult(value=['Magazine', 'Audience', 'Articles', 'Restaurant reviews', 'Advertising', 'Subscription', 'Local government', 'Issues', 'Gift idea', 'Local\\tarea'], result_type=<ResultType.list: 'list'>, logs=[], metadata={}, created_at=1710805121, job_id='get_keywords_previous_jobs')}}"
      ]
     },
     "execution_count": 19,
     "metadata": {},
     "output_type": "execute_result"
    }
   ],
   "source": [
    "# First, we run on GPT-4\n",
    "# We create a new job config to specify the model\n",
    "\n",
    "\n",
    "class GPT4Config(lab.JobConfig):\n",
    "    model: str = \"openai:gpt-4\"\n",
    "\n",
    "\n",
    "workload = lab.Workload(\n",
    "    jobs=[\n",
    "        # The jobs are executed sequentially, in the order they are defined\n",
    "        lab.Job(\n",
    "            job_function=get_keywords,\n",
    "            config=GPT4Config(), # We specify the model\n",
    "            sample=0.1, # We only run on 10% of the data\n",
    "        ),\n",
    "        lab.Job(job_function=get_keywords_previous_jobs),\n",
    "    ]\n",
    ")\n",
    "await workload.async_run(\n",
    "    messages[:100],\n",
    "    executor_type=\"parallel\",\n",
    "    max_parallelism=10,\n",
    ")"
   ]
  },
  {
   "cell_type": "code",
   "execution_count": 20,
   "metadata": {},
   "outputs": [
    {
     "name": "stdout",
     "output_type": "stream",
     "text": [
      "Number of different keywords extracted: 633\n"
     ]
    },
    {
     "data": {
      "image/png": "[encoded data removed]",
      "text/plain": [
       "<Figure size 1000x500 with 1 Axes>"
      ]
     },
     "metadata": {},
     "output_type": "display_data"
    }
   ],
   "source": [
    "# Display results\n",
    "results_df = workload.results_df()\n",
    "augmented_messages_df = results_df.merge(messages_df, left_index=True, right_on=\"id\")\n",
    "\n",
    "keywords_to_count = (\n",
    "    augmented_messages_df.explode(\"get_keywords_previous_jobs\")\n",
    "    .groupby(\"get_keywords_previous_jobs\")\n",
    "    .size()\n",
    "    .sort_values(ascending=False)\n",
    ")\n",
    "keywords_to_count.head(20).plot(\n",
    "    kind=\"bar\", figsize=(10, 5), title=\"Most common keywords in the dataset\"\n",
    ")\n",
    "\n",
    "print(\"Number of different keywords extracted:\", augmented_messages_df[\"get_keywords_previous_jobs\"].explode().nunique())"
   ]
  },
  {
   "cell_type": "markdown",
   "metadata": {},
   "source": [
    "## Conclusion\n",
    "\n",
    "In this notebook, we showed how to use phospho lab to\n",
    "\n",
    "1. load a dataset \n",
    "2. parallelize calls to LLM providers (OpenAI)\n",
    "3. respect API providers rate limits\n",
    "4. use the results of the current job or of previous jobs\n",
    "5. use config and sampling to switch from expensive to cheap model\n",
    "\n",
    "Discover more about phospho in the [documentation!](https://docs.phospho.ai)"
   ]
  },
  {
   "cell_type": "markdown",
   "metadata": {},
   "source": []
  }
 ],
 "metadata": {
  "kernelspec": {
   "display_name": "phospho-env-min",
   "language": "python",
   "name": "python3"
  },
  "language_info": {
   "codemirror_mode": {
    "name": "ipython",
    "version": 3
   },
   "file_extension": ".py",
   "mimetype": "text/x-python",
   "name": "python",
   "nbconvert_exporter": "python",
   "pygments_lexer": "ipython3",
   "version": "3.11.7"
  }
 },
 "nbformat": 4,
 "nbformat_minor": 2
}
